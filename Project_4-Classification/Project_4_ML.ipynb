{
 "cells": [
  {
   "cell_type": "markdown",
   "id": "c353de9a",
   "metadata": {},
   "source": [
    "# Проект: классификация"
   ]
  },
  {
   "cell_type": "code",
   "execution_count": 1,
   "id": "4a6e54dc",
   "metadata": {},
   "outputs": [],
   "source": [
    "import pandas as pd\n",
    "import numpy as np\n",
    "import matplotlib.pyplot as plt\n",
    "import seaborn as sns\n",
    "import optuna\n",
    "import warnings\n",
    "warnings.filterwarnings('ignore')\n",
    "from  sklearn.ensemble import IsolationForest\n",
    "from sklearn.preprocessing  import LabelEncoder\n",
    "from sklearn import linear_model \n",
    "from sklearn import tree \n",
    "from sklearn import ensemble \n",
    "from sklearn import metrics \n",
    "from sklearn import preprocessing \n",
    "from sklearn.model_selection import GridSearchCV\n",
    "from sklearn.model_selection import train_test_split \n",
    "from sklearn.model_selection import cross_val_score\n",
    "from sklearn.feature_selection import SelectKBest, f_classif"
   ]
  },
  {
   "cell_type": "markdown",
   "id": "71559b60",
   "metadata": {},
   "source": [
    "## Часть 1. Знакомство с данными, обработка пропусков и выбросов"
   ]
  },
  {
   "cell_type": "markdown",
   "id": "7c5e31b2",
   "metadata": {},
   "source": [
    "### Задание 1"
   ]
  },
  {
   "cell_type": "code",
   "execution_count": 2,
   "id": "20730cd7",
   "metadata": {},
   "outputs": [
    {
     "data": {
      "text/html": [
       "<div>\n",
       "<style scoped>\n",
       "    .dataframe tbody tr th:only-of-type {\n",
       "        vertical-align: middle;\n",
       "    }\n",
       "\n",
       "    .dataframe tbody tr th {\n",
       "        vertical-align: top;\n",
       "    }\n",
       "\n",
       "    .dataframe thead th {\n",
       "        text-align: right;\n",
       "    }\n",
       "</style>\n",
       "<table border=\"1\" class=\"dataframe\">\n",
       "  <thead>\n",
       "    <tr style=\"text-align: right;\">\n",
       "      <th></th>\n",
       "      <th>age</th>\n",
       "      <th>job</th>\n",
       "      <th>marital</th>\n",
       "      <th>education</th>\n",
       "      <th>default</th>\n",
       "      <th>balance</th>\n",
       "      <th>housing</th>\n",
       "      <th>loan</th>\n",
       "      <th>contact</th>\n",
       "      <th>day</th>\n",
       "      <th>month</th>\n",
       "      <th>duration</th>\n",
       "      <th>campaign</th>\n",
       "      <th>pdays</th>\n",
       "      <th>previous</th>\n",
       "      <th>poutcome</th>\n",
       "      <th>deposit</th>\n",
       "    </tr>\n",
       "  </thead>\n",
       "  <tbody>\n",
       "    <tr>\n",
       "      <th>0</th>\n",
       "      <td>59</td>\n",
       "      <td>admin.</td>\n",
       "      <td>married</td>\n",
       "      <td>secondary</td>\n",
       "      <td>no</td>\n",
       "      <td>2 343,00 $</td>\n",
       "      <td>yes</td>\n",
       "      <td>no</td>\n",
       "      <td>unknown</td>\n",
       "      <td>5</td>\n",
       "      <td>may</td>\n",
       "      <td>1042</td>\n",
       "      <td>1</td>\n",
       "      <td>-1</td>\n",
       "      <td>0</td>\n",
       "      <td>unknown</td>\n",
       "      <td>yes</td>\n",
       "    </tr>\n",
       "    <tr>\n",
       "      <th>1</th>\n",
       "      <td>56</td>\n",
       "      <td>admin.</td>\n",
       "      <td>married</td>\n",
       "      <td>secondary</td>\n",
       "      <td>no</td>\n",
       "      <td>45,00 $</td>\n",
       "      <td>no</td>\n",
       "      <td>no</td>\n",
       "      <td>unknown</td>\n",
       "      <td>5</td>\n",
       "      <td>may</td>\n",
       "      <td>1467</td>\n",
       "      <td>1</td>\n",
       "      <td>-1</td>\n",
       "      <td>0</td>\n",
       "      <td>unknown</td>\n",
       "      <td>yes</td>\n",
       "    </tr>\n",
       "    <tr>\n",
       "      <th>2</th>\n",
       "      <td>41</td>\n",
       "      <td>technician</td>\n",
       "      <td>married</td>\n",
       "      <td>secondary</td>\n",
       "      <td>no</td>\n",
       "      <td>1 270,00 $</td>\n",
       "      <td>yes</td>\n",
       "      <td>no</td>\n",
       "      <td>unknown</td>\n",
       "      <td>5</td>\n",
       "      <td>may</td>\n",
       "      <td>1389</td>\n",
       "      <td>1</td>\n",
       "      <td>-1</td>\n",
       "      <td>0</td>\n",
       "      <td>unknown</td>\n",
       "      <td>yes</td>\n",
       "    </tr>\n",
       "    <tr>\n",
       "      <th>3</th>\n",
       "      <td>55</td>\n",
       "      <td>services</td>\n",
       "      <td>married</td>\n",
       "      <td>secondary</td>\n",
       "      <td>no</td>\n",
       "      <td>2 476,00 $</td>\n",
       "      <td>yes</td>\n",
       "      <td>no</td>\n",
       "      <td>unknown</td>\n",
       "      <td>5</td>\n",
       "      <td>may</td>\n",
       "      <td>579</td>\n",
       "      <td>1</td>\n",
       "      <td>-1</td>\n",
       "      <td>0</td>\n",
       "      <td>unknown</td>\n",
       "      <td>yes</td>\n",
       "    </tr>\n",
       "    <tr>\n",
       "      <th>4</th>\n",
       "      <td>54</td>\n",
       "      <td>admin.</td>\n",
       "      <td>married</td>\n",
       "      <td>tertiary</td>\n",
       "      <td>no</td>\n",
       "      <td>184,00 $</td>\n",
       "      <td>no</td>\n",
       "      <td>no</td>\n",
       "      <td>unknown</td>\n",
       "      <td>5</td>\n",
       "      <td>may</td>\n",
       "      <td>673</td>\n",
       "      <td>2</td>\n",
       "      <td>-1</td>\n",
       "      <td>0</td>\n",
       "      <td>unknown</td>\n",
       "      <td>yes</td>\n",
       "    </tr>\n",
       "  </tbody>\n",
       "</table>\n",
       "</div>"
      ],
      "text/plain": [
       "   age         job  marital  education default       balance housing loan  \\\n",
       "0   59      admin.  married  secondary      no   2 343,00 $      yes   no   \n",
       "1   56      admin.  married  secondary      no      45,00 $       no   no   \n",
       "2   41  technician  married  secondary      no   1 270,00 $      yes   no   \n",
       "3   55    services  married  secondary      no   2 476,00 $      yes   no   \n",
       "4   54      admin.  married   tertiary      no     184,00 $       no   no   \n",
       "\n",
       "   contact  day month  duration  campaign  pdays  previous poutcome deposit  \n",
       "0  unknown    5   may      1042         1     -1         0  unknown     yes  \n",
       "1  unknown    5   may      1467         1     -1         0  unknown     yes  \n",
       "2  unknown    5   may      1389         1     -1         0  unknown     yes  \n",
       "3  unknown    5   may       579         1     -1         0  unknown     yes  \n",
       "4  unknown    5   may       673         2     -1         0  unknown     yes  "
      ]
     },
     "execution_count": 2,
     "metadata": {},
     "output_type": "execute_result"
    }
   ],
   "source": [
    "df = pd.read_csv('bank_fin.zip', sep = ';')\n",
    "df.head()"
   ]
  },
  {
   "cell_type": "markdown",
   "id": "a526bb33",
   "metadata": {},
   "source": [
    "**Данные о клиентах банка:**\n",
    "\n",
    "* `age` (возраст);\n",
    "* `job` (сфера занятости);\n",
    "* `marital` (семейное положение);\n",
    "* `education` (уровень образования);\n",
    "* `default` (имеется ли просроченный кредит);\n",
    "* `housing` (имеется ли кредит на жильё);\n",
    "* `loan` (имеется ли кредит на личные нужды);\n",
    "* `balance` (баланс).\n",
    "\n",
    "Данные, связанные с последним контактом в контексте текущей маркетинговой кампании:\n",
    "\n",
    "* `contact` (тип контакта с клиентом);\n",
    "* `month` (месяц, в котором был последний контакт);\n",
    "* `day` (день, в который был последний контакт);\n",
    "* `duration` (продолжительность контакта в секундах).\n",
    "\n",
    "Прочие признаки:\n",
    "\n",
    "* `campaign` (количество контактов с этим клиентом в течение текущей кампании);\n",
    "* `pdays` (количество пропущенных дней с момента последней маркетинговой кампании до контакта в текущей кампании);\n",
    "* `previous` (количество контактов до текущей кампании)\n",
    "* `poutcome` (результат прошлой маркетинговой кампании).\n",
    "\n",
    "Целевая переменная **deposit**, которая определяет, согласится ли клиент открыть депозит в банке. Именно её мы будем пытаться предсказать в данном кейсе."
   ]
  },
  {
   "cell_type": "code",
   "execution_count": 3,
   "id": "ba11dc67",
   "metadata": {},
   "outputs": [
    {
     "data": {
      "text/plain": [
       "age           0\n",
       "job           0\n",
       "marital       0\n",
       "education     0\n",
       "default       0\n",
       "balance      25\n",
       "housing       0\n",
       "loan          0\n",
       "contact       0\n",
       "day           0\n",
       "month         0\n",
       "duration      0\n",
       "campaign      0\n",
       "pdays         0\n",
       "previous      0\n",
       "poutcome      0\n",
       "deposit       0\n",
       "dtype: int64"
      ]
     },
     "execution_count": 3,
     "metadata": {},
     "output_type": "execute_result"
    }
   ],
   "source": [
    "# исследуйте данные на предмет пропусков. Где есть пропущенные значения? Сколько их?\n",
    "# ваш код\n",
    "df.isnull().sum()"
   ]
  },
  {
   "cell_type": "markdown",
   "id": "25fff767",
   "metadata": {},
   "source": [
    "Видим что 25 пропущенных значений у нас есть в столбце balance "
   ]
  },
  {
   "cell_type": "markdown",
   "id": "6366f059",
   "metadata": {},
   "source": [
    "### Задание 2"
   ]
  },
  {
   "cell_type": "code",
   "execution_count": 4,
   "id": "98ea29d4",
   "metadata": {},
   "outputs": [
    {
     "data": {
      "text/plain": [
       "array(['admin.', 'technician', 'services', 'management', 'retired',\n",
       "       'blue-collar', 'unemployed', 'entrepreneur', 'housemaid',\n",
       "       'unknown', 'self-employed', 'student'], dtype=object)"
      ]
     },
     "execution_count": 4,
     "metadata": {},
     "output_type": "execute_result"
    }
   ],
   "source": [
    "# есть ли в признаке job пропущенные значения? Возможно, они обозначены каким-то специальным словом?\n",
    "df['job'].unique() "
   ]
  },
  {
   "cell_type": "code",
   "execution_count": 5,
   "id": "bf5a4ff9",
   "metadata": {},
   "outputs": [
    {
     "data": {
      "text/plain": [
       "management       2566\n",
       "blue-collar      1944\n",
       "technician       1823\n",
       "admin.           1334\n",
       "services          923\n",
       "retired           778\n",
       "self-employed     405\n",
       "student           360\n",
       "unemployed        357\n",
       "entrepreneur      328\n",
       "housemaid         274\n",
       "unknown            70\n",
       "Name: job, dtype: int64"
      ]
     },
     "execution_count": 5,
     "metadata": {},
     "output_type": "execute_result"
    }
   ],
   "source": [
    "df['job'].value_counts()"
   ]
  },
  {
   "cell_type": "markdown",
   "id": "6ef8e0cb",
   "metadata": {},
   "source": [
    "В столбце job (сфера занятости) есть неизвестные значения, обозначенные как 'unknown'"
   ]
  },
  {
   "cell_type": "markdown",
   "id": "8fcf4fcd",
   "metadata": {},
   "source": [
    "### Задание 3"
   ]
  },
  {
   "cell_type": "code",
   "execution_count": 6,
   "id": "3a01be5e",
   "metadata": {},
   "outputs": [],
   "source": [
    "# преобразуйте признак balance таким образом, чтобы он корректно считывался, как вещественное число (float)\n",
    "def balance_to_float(x):\n",
    "    #print(x)\n",
    "    if x is np.NaN:\n",
    "        return np.NaN\n",
    "    elif str(x)[0] == '0':\n",
    "        return 0\n",
    "    else:\n",
    "        return float(x.replace('$', '').replace(' ', '').replace(',00', ''))\n",
    "\n",
    "\n",
    "df['balance'] = df['balance'].apply(balance_to_float)"
   ]
  },
  {
   "cell_type": "code",
   "execution_count": 7,
   "id": "d1712557",
   "metadata": {},
   "outputs": [
    {
     "data": {
      "text/plain": [
       "1529.129"
      ]
     },
     "execution_count": 7,
     "metadata": {},
     "output_type": "execute_result"
    }
   ],
   "source": [
    "#Вычислите среднее значение по преобразованному в корректный вид признаку balance. \n",
    "#Ответ округлите до трёх знаков после точки-разделителя.\n",
    "round(df['balance'].mean(),3)"
   ]
  },
  {
   "cell_type": "markdown",
   "id": "6de63fd7",
   "metadata": {},
   "source": [
    "### Задание 4"
   ]
  },
  {
   "cell_type": "code",
   "execution_count": 8,
   "id": "6a684a63",
   "metadata": {},
   "outputs": [],
   "source": [
    "# обработайте пропуски в признаки balance , заменив их на медианные значения по данному признаку\n",
    "median_balance = df['balance'].median()\n",
    "df['balance'].fillna(median_balance, inplace=True)"
   ]
  },
  {
   "cell_type": "code",
   "execution_count": 9,
   "id": "8cb63918",
   "metadata": {},
   "outputs": [
    {
     "data": {
      "text/plain": [
       "1526.936"
      ]
     },
     "execution_count": 9,
     "metadata": {},
     "output_type": "execute_result"
    }
   ],
   "source": [
    "#Вычислите среднее значение по преобразованному в корректный вид признаку balance. \n",
    "#Ответ округлите до трёх знаков после точки-разделителя.\n",
    "round(df['balance'].mean(),3)"
   ]
  },
  {
   "cell_type": "markdown",
   "id": "1097ec42",
   "metadata": {},
   "source": [
    "### Задание 5"
   ]
  },
  {
   "cell_type": "code",
   "execution_count": 10,
   "id": "0fa070a6",
   "metadata": {},
   "outputs": [],
   "source": [
    "# обработайте пропуски в категориальных признаках: job и education, заменив их на модальные значения\n",
    "df['job'] = df['job'].replace('unknown', df['job'].mode()[0])\n",
    "df['education'] = df['education'].replace('unknown', df['education'].mode()[0])"
   ]
  },
  {
   "cell_type": "markdown",
   "id": "acdd0277",
   "metadata": {},
   "source": [
    "После замены пропусков рассчитайте средний баланс для клиентов с самой популярной работой и самым популярным уровнем образования (т. е. для тех, у кого одновременно самая популярная работа и самое популярное образование). Ответ округлите до трёх знаков после точки-разделителя."
   ]
  },
  {
   "cell_type": "code",
   "execution_count": 11,
   "id": "9b68169b",
   "metadata": {},
   "outputs": [
    {
     "data": {
      "text/plain": [
       "1598.883"
      ]
     },
     "execution_count": 11,
     "metadata": {},
     "output_type": "execute_result"
    }
   ],
   "source": [
    "round(df[(df['job'] == df['job'].mode()[0]) & (df['education'] == df['education'].mode()[0])]['balance'].mean(),3)"
   ]
  },
  {
   "cell_type": "markdown",
   "id": "02af77c6",
   "metadata": {},
   "source": [
    "### Задание 6"
   ]
  },
  {
   "cell_type": "code",
   "execution_count": 12,
   "id": "8fcb6170",
   "metadata": {},
   "outputs": [
    {
     "name": "stdout",
     "output_type": "stream",
     "text": [
      "-2241.0 4063.0 10105\n"
     ]
    }
   ],
   "source": [
    "# удалите все выбросы для признака balance\n",
    "\n",
    "def drop_iqr(df, col, left=1.5, right=1.5, log_scale=False, add_one=False):\n",
    "    \"\"\"Drop outliers using the interquartile range method (Tukey's method)\n",
    "\n",
    "    Args:\n",
    "        df (DataFrame): pandas DataFrame\n",
    "        col (str): column name\n",
    "        log_scale (bool, optional): converting to the natural log scale. \n",
    "                                    Defaults to False.\n",
    "        add_one (bool, optional): add 1 to all values, \n",
    "                                  (works for the log scale only,\n",
    "                                  usefull if there are zeros in data). \n",
    "                                  Defaults to False.\n",
    "        left (float, optional): lower IQR bound. Defaults to 1.5.\n",
    "        right (float, optional): upper IQR bound. Defaults to 1.5.\n",
    "\n",
    "    Returns:\n",
    "        tuple: a tuple containing the cleaned dataframe, the calculated \n",
    "               lower and upper bounds, and the dataframe with outliers\n",
    "    \"\"\"\n",
    "    \n",
    "    if log_scale and add_one:\n",
    "        x = np.log(df[col]+1)\n",
    "    elif log_scale and not add_one:\n",
    "        x = np.log(df[col])\n",
    "    else:\n",
    "        x = df[col]\n",
    "    \n",
    "    percentile_1, percentile_3 = np.percentile(x, 25), np.percentile(x, 75),\n",
    "    print= (percentile_1, percentile_3)\n",
    "    iqr = percentile_3 - percentile_1\n",
    "    lower_bound = percentile_1 - (iqr*left)\n",
    "    upper_bound = percentile_3 + (iqr*right)\n",
    "    outliers = df[(x<lower_bound) | (x>upper_bound)]\n",
    "    clean_df = df[(x>=lower_bound) & (x<=upper_bound)]\n",
    "    \n",
    "    return clean_df, lower_bound, upper_bound, outliers\n",
    "\n",
    "\n",
    "df, lower_bound, upper_bound, _ = drop_iqr(df, 'balance')\n",
    "print(lower_bound, upper_bound, df.shape[0])"
   ]
  },
  {
   "cell_type": "markdown",
   "id": "24e96aae",
   "metadata": {},
   "source": [
    "Сколько объектов осталось после удаления всех выбросов?"
   ]
  },
  {
   "cell_type": "code",
   "execution_count": 13,
   "id": "d88803be",
   "metadata": {},
   "outputs": [
    {
     "data": {
      "text/plain": [
       "10105"
      ]
     },
     "execution_count": 13,
     "metadata": {},
     "output_type": "execute_result"
    }
   ],
   "source": [
    "df['balance'].count()"
   ]
  },
  {
   "cell_type": "markdown",
   "id": "5d22b8cd",
   "metadata": {},
   "source": [
    "## Часть 2:  Разведывательный анализ"
   ]
  },
  {
   "cell_type": "markdown",
   "id": "21e1f083",
   "metadata": {},
   "source": [
    "### Задание 1"
   ]
  },
  {
   "cell_type": "code",
   "execution_count": 14,
   "id": "6d0cd3a8",
   "metadata": {},
   "outputs": [
    {
     "data": {
      "text/plain": [
       "no     5424\n",
       "yes    4681\n",
       "Name: deposit, dtype: int64"
      ]
     },
     "metadata": {},
     "output_type": "display_data"
    },
    {
     "data": {
      "text/plain": [
       "no     0.536764\n",
       "yes    0.463236\n",
       "Name: deposit, dtype: float64"
      ]
     },
     "metadata": {},
     "output_type": "display_data"
    },
    {
     "data": {
      "image/png": "[encoded data removed]",
      "text/plain": [
       "<Figure size 432x288 with 1 Axes>"
      ]
     },
     "metadata": {
      "needs_background": "light"
     },
     "output_type": "display_data"
    }
   ],
   "source": [
    "# изучите соотношение классов в ваших данных на предмет несбалансированности, проиллюстрируйте результат\n",
    "display(df['deposit'].value_counts())\n",
    "display(df['deposit'].value_counts(normalize=True))\n",
    "\n",
    "ax = sns.countplot(df['deposit'])\n",
    "ax.set(xlabel='Account is opened', ylabel='Number of clients')\n",
    "ax.set_title('Class balance\\n',fontsize=16);\n"
   ]
  },
  {
   "cell_type": "markdown",
   "id": "426b1d40",
   "metadata": {},
   "source": [
    "### Задание 2"
   ]
  },
  {
   "cell_type": "code",
   "execution_count": 15,
   "id": "603cdb3c",
   "metadata": {},
   "outputs": [
    {
     "data": {
      "image/png": "[encoded data removed]",
      "text/plain": [
       "<Figure size 1080x864 with 12 Axes>"
      ]
     },
     "metadata": {
      "needs_background": "light"
     },
     "output_type": "display_data"
    }
   ],
   "source": [
    "#рассчитайте описательные статистики для количественных переменных, проинтерпретируйте результат\n",
    "fig, ax = plt.subplots(4,3, figsize=(15,12))\n",
    "sns.histplot(df['age'], bins=25, ax=ax[0,0])       # Возраст\n",
    "sns.histplot(df['balance'], bins=25, ax=ax[0,1])   # Баланс\n",
    "sns.histplot(df['duration'], bins=25, ax=ax[0,2])  # Продолжительность контакта\n",
    "sns.boxplot(data=df, x='age', y='deposit', ax=ax[1,0]) \n",
    "sns.boxplot(data=df, x='balance', y='deposit', ax=ax[1,1])\n",
    "sns.boxplot(data=df, x='duration', y='deposit', ax=ax[1,2])\n",
    "sns.histplot(df['campaign'], bins=20, ax=ax[2,0])  # Количество контактов\n",
    "sns.histplot(df['pdays'], bins=10, ax=ax[2,1])     # Количество дней после предыдущей кампании\n",
    "sns.histplot(df['previous'], bins=25, ax=ax[2,2])  # Количество предыдущих контактов\n",
    "sns.boxplot(data=df, x='campaign', y='deposit', ax=ax[3,0])\n",
    "sns.boxplot(data=df, x='pdays', y='deposit', ax=ax[3,1])\n",
    "sns.boxplot(data=df, x='previous', y='deposit', ax=ax[3,2])\n",
    "plt.suptitle('Distributions of the numerical features\\n', fontsize=16)\n",
    "plt.tight_layout()"
   ]
  },
  {
   "cell_type": "markdown",
   "id": "6778dc36",
   "metadata": {},
   "source": [
    "#### *Общий вид распределений, выбросы*\n",
    "    \n",
    "* *Возраст (age).* Пик распределения возраста приходится на 30-35 лет с достаточно большим количеством клиентов допенсионного возраста, количество клиентов старше 60 лет резко падает. Распределение с правой асимметрией в сторону старшего возраста.\n",
    "* *Баланс (balance).* Есть небольшое количество отрацительных балансов. В остальном распределение логнормальное с преобладанием небольших балансов. Возможно, следует дополнительно убрать выбросы отрицательного баланса, расположенные левее границы распределения (менее $\\sim-1100$).\n",
    "* *Продолжительность контакта (duration).* Средняя продолжительность контакта около 5 мин. Распределение логнормальное. Возможно наличие выбросов - контакт более 30 мин.\n",
    "* *Количество контактов (campaign).* Логнормальное. Выбросы - число контактов более 15.\n",
    "* *Количество дней с момента предыдущей кампании (pdays).* Логнормальное. Выбросы - более 500 дней.\n",
    "* *Количество предыдущих контактов (previous).* Логнормальное. Выбросы аналогичны признаку campaign - более 15.\n",
    "\n",
    "Для более точного определения границ распределений и удаления выбросов желательно предварительно преобразовать часть признаков в логарифмическую шкалу и применить критерий Тьюки или $3\\sigma$.\n",
    "\n",
    "#### *Влияние на целевой признак*\n",
    "\n",
    "Визуально значимые отличия в распределениях по отношению к целевому признаку - открытию депозита (deposit) - наблюдаются у нескольких признаков (см. диаграммы размаха). На вероятное открытие депозита указывает продолжительность контакта - чем он дольше, тем выше шансы положительного результата. Наоборот, большее количество контактов говорит о меньших шансах, т.е. попытки контактировать с клиентом более нескольких раз не имеют особого смысла, результат либо достигается при первых контактах, либо не достигается вообще. Более вероятно открытие депозита у клиентов с большей суммой на счете. Распределение признаков pdays и previous говорит о том, что старый друг лучше новых двух - большинство клиентов, не открывших депозит, относятся к новым (pdays=-1, previous=0). Распределение по возрасту для клиентов, не открывших депозит, имеет меньшую дисперсию по сравнению с открывшими, но медианные значения почти не отличаются."
   ]
  },
  {
   "cell_type": "markdown",
   "id": "9c295626",
   "metadata": {},
   "source": [
    "Каков максимальный возраст клиента банка? \n",
    "Ответ: 95\n",
    "\n",
    "Какова минимальная продолжительность разговора с клиентом банка? Ответ дайте **в количестве секунд**.  Ответ: 2"
   ]
  },
  {
   "cell_type": "code",
   "execution_count": 16,
   "id": "335a561e",
   "metadata": {},
   "outputs": [
    {
     "data": {
      "text/html": [
       "<div>\n",
       "<style scoped>\n",
       "    .dataframe tbody tr th:only-of-type {\n",
       "        vertical-align: middle;\n",
       "    }\n",
       "\n",
       "    .dataframe tbody tr th {\n",
       "        vertical-align: top;\n",
       "    }\n",
       "\n",
       "    .dataframe thead th {\n",
       "        text-align: right;\n",
       "    }\n",
       "</style>\n",
       "<table border=\"1\" class=\"dataframe\">\n",
       "  <thead>\n",
       "    <tr style=\"text-align: right;\">\n",
       "      <th></th>\n",
       "      <th>age</th>\n",
       "      <th>balance</th>\n",
       "      <th>day</th>\n",
       "      <th>duration</th>\n",
       "      <th>campaign</th>\n",
       "      <th>pdays</th>\n",
       "      <th>previous</th>\n",
       "    </tr>\n",
       "  </thead>\n",
       "  <tbody>\n",
       "    <tr>\n",
       "      <th>count</th>\n",
       "      <td>10105.000000</td>\n",
       "      <td>10105.000000</td>\n",
       "      <td>10105.000000</td>\n",
       "      <td>10105.000000</td>\n",
       "      <td>10105.000000</td>\n",
       "      <td>10105.000000</td>\n",
       "      <td>10105.000000</td>\n",
       "    </tr>\n",
       "    <tr>\n",
       "      <th>mean</th>\n",
       "      <td>40.895497</td>\n",
       "      <td>807.653538</td>\n",
       "      <td>15.590302</td>\n",
       "      <td>368.742603</td>\n",
       "      <td>2.517170</td>\n",
       "      <td>51.319644</td>\n",
       "      <td>0.816230</td>\n",
       "    </tr>\n",
       "    <tr>\n",
       "      <th>std</th>\n",
       "      <td>11.734931</td>\n",
       "      <td>994.151966</td>\n",
       "      <td>8.441510</td>\n",
       "      <td>346.651524</td>\n",
       "      <td>2.707159</td>\n",
       "      <td>109.644179</td>\n",
       "      <td>2.243795</td>\n",
       "    </tr>\n",
       "    <tr>\n",
       "      <th>min</th>\n",
       "      <td>18.000000</td>\n",
       "      <td>-2049.000000</td>\n",
       "      <td>1.000000</td>\n",
       "      <td>2.000000</td>\n",
       "      <td>1.000000</td>\n",
       "      <td>-1.000000</td>\n",
       "      <td>0.000000</td>\n",
       "    </tr>\n",
       "    <tr>\n",
       "      <th>25%</th>\n",
       "      <td>32.000000</td>\n",
       "      <td>95.000000</td>\n",
       "      <td>8.000000</td>\n",
       "      <td>137.000000</td>\n",
       "      <td>1.000000</td>\n",
       "      <td>-1.000000</td>\n",
       "      <td>0.000000</td>\n",
       "    </tr>\n",
       "    <tr>\n",
       "      <th>50%</th>\n",
       "      <td>38.000000</td>\n",
       "      <td>445.000000</td>\n",
       "      <td>15.000000</td>\n",
       "      <td>252.000000</td>\n",
       "      <td>2.000000</td>\n",
       "      <td>-1.000000</td>\n",
       "      <td>0.000000</td>\n",
       "    </tr>\n",
       "    <tr>\n",
       "      <th>75%</th>\n",
       "      <td>48.000000</td>\n",
       "      <td>1227.000000</td>\n",
       "      <td>22.000000</td>\n",
       "      <td>490.000000</td>\n",
       "      <td>3.000000</td>\n",
       "      <td>2.000000</td>\n",
       "      <td>1.000000</td>\n",
       "    </tr>\n",
       "    <tr>\n",
       "      <th>max</th>\n",
       "      <td>95.000000</td>\n",
       "      <td>4063.000000</td>\n",
       "      <td>31.000000</td>\n",
       "      <td>3881.000000</td>\n",
       "      <td>43.000000</td>\n",
       "      <td>854.000000</td>\n",
       "      <td>58.000000</td>\n",
       "    </tr>\n",
       "  </tbody>\n",
       "</table>\n",
       "</div>"
      ],
      "text/plain": [
       "                age       balance           day      duration      campaign  \\\n",
       "count  10105.000000  10105.000000  10105.000000  10105.000000  10105.000000   \n",
       "mean      40.895497    807.653538     15.590302    368.742603      2.517170   \n",
       "std       11.734931    994.151966      8.441510    346.651524      2.707159   \n",
       "min       18.000000  -2049.000000      1.000000      2.000000      1.000000   \n",
       "25%       32.000000     95.000000      8.000000    137.000000      1.000000   \n",
       "50%       38.000000    445.000000     15.000000    252.000000      2.000000   \n",
       "75%       48.000000   1227.000000     22.000000    490.000000      3.000000   \n",
       "max       95.000000   4063.000000     31.000000   3881.000000     43.000000   \n",
       "\n",
       "              pdays      previous  \n",
       "count  10105.000000  10105.000000  \n",
       "mean      51.319644      0.816230  \n",
       "std      109.644179      2.243795  \n",
       "min       -1.000000      0.000000  \n",
       "25%       -1.000000      0.000000  \n",
       "50%       -1.000000      0.000000  \n",
       "75%        2.000000      1.000000  \n",
       "max      854.000000     58.000000  "
      ]
     },
     "execution_count": 16,
     "metadata": {},
     "output_type": "execute_result"
    }
   ],
   "source": [
    "df.describe()"
   ]
  },
  {
   "cell_type": "markdown",
   "id": "821dc39e",
   "metadata": {},
   "source": [
    "### Задание 3"
   ]
  },
  {
   "cell_type": "code",
   "execution_count": 17,
   "id": "bf45afc9",
   "metadata": {},
   "outputs": [
    {
     "data": {
      "text/html": [
       "<div>\n",
       "<style scoped>\n",
       "    .dataframe tbody tr th:only-of-type {\n",
       "        vertical-align: middle;\n",
       "    }\n",
       "\n",
       "    .dataframe tbody tr th {\n",
       "        vertical-align: top;\n",
       "    }\n",
       "\n",
       "    .dataframe thead th {\n",
       "        text-align: right;\n",
       "    }\n",
       "</style>\n",
       "<table border=\"1\" class=\"dataframe\">\n",
       "  <thead>\n",
       "    <tr style=\"text-align: right;\">\n",
       "      <th></th>\n",
       "      <th>job</th>\n",
       "      <th>marital</th>\n",
       "      <th>education</th>\n",
       "      <th>default</th>\n",
       "      <th>housing</th>\n",
       "      <th>loan</th>\n",
       "      <th>contact</th>\n",
       "      <th>month</th>\n",
       "      <th>poutcome</th>\n",
       "      <th>deposit</th>\n",
       "    </tr>\n",
       "  </thead>\n",
       "  <tbody>\n",
       "    <tr>\n",
       "      <th>count</th>\n",
       "      <td>10105</td>\n",
       "      <td>10105</td>\n",
       "      <td>10105</td>\n",
       "      <td>10105</td>\n",
       "      <td>10105</td>\n",
       "      <td>10105</td>\n",
       "      <td>10105</td>\n",
       "      <td>10105</td>\n",
       "      <td>10105</td>\n",
       "      <td>10105</td>\n",
       "    </tr>\n",
       "    <tr>\n",
       "      <th>unique</th>\n",
       "      <td>11</td>\n",
       "      <td>3</td>\n",
       "      <td>3</td>\n",
       "      <td>2</td>\n",
       "      <td>2</td>\n",
       "      <td>2</td>\n",
       "      <td>3</td>\n",
       "      <td>12</td>\n",
       "      <td>4</td>\n",
       "      <td>2</td>\n",
       "    </tr>\n",
       "    <tr>\n",
       "      <th>top</th>\n",
       "      <td>management</td>\n",
       "      <td>married</td>\n",
       "      <td>secondary</td>\n",
       "      <td>no</td>\n",
       "      <td>no</td>\n",
       "      <td>no</td>\n",
       "      <td>cellular</td>\n",
       "      <td>may</td>\n",
       "      <td>unknown</td>\n",
       "      <td>no</td>\n",
       "    </tr>\n",
       "    <tr>\n",
       "      <th>freq</th>\n",
       "      <td>2315</td>\n",
       "      <td>5715</td>\n",
       "      <td>5517</td>\n",
       "      <td>9939</td>\n",
       "      <td>5243</td>\n",
       "      <td>8712</td>\n",
       "      <td>7283</td>\n",
       "      <td>2617</td>\n",
       "      <td>7570</td>\n",
       "      <td>5424</td>\n",
       "    </tr>\n",
       "  </tbody>\n",
       "</table>\n",
       "</div>"
      ],
      "text/plain": [
       "               job  marital  education default housing   loan   contact  \\\n",
       "count        10105    10105      10105   10105   10105  10105     10105   \n",
       "unique          11        3          3       2       2      2         3   \n",
       "top     management  married  secondary      no      no     no  cellular   \n",
       "freq          2315     5715       5517    9939    5243   8712      7283   \n",
       "\n",
       "        month poutcome deposit  \n",
       "count   10105    10105   10105  \n",
       "unique     12        4       2  \n",
       "top       may  unknown      no  \n",
       "freq     2617     7570    5424  "
      ]
     },
     "metadata": {},
     "output_type": "display_data"
    },
    {
     "data": {
      "image/png": "[encoded data removed]",
      "text/plain": [
       "<Figure size 2160x1440 with 9 Axes>"
      ]
     },
     "metadata": {
      "needs_background": "light"
     },
     "output_type": "display_data"
    }
   ],
   "source": [
    "#рассчитайте описательные статистики для категориальных переменных, проинтерпретируйте результат\n",
    "#постройте визуализации, иллюстрирующие результаты\n",
    "\n",
    "display(df.describe(include='object'))\n",
    "\n",
    "fig, ax = plt.subplots(3,3, figsize=(30,20))\n",
    "\n",
    "# Сфера занятости\n",
    "sns.countplot(\n",
    "    data=df, x='job', hue='deposit', \n",
    "    order=df['job'].value_counts().index, ax=ax[0,0])\n",
    "\n",
    "# Семейное положение\n",
    "sns.countplot(\n",
    "    data=df, x='marital', hue='deposit',\n",
    "    order=df['marital'].value_counts().index, ax=ax[0,1])\n",
    "\n",
    "# Уровень образования\n",
    "sns.countplot(\n",
    "    data=df, x='education', hue='deposit',\n",
    "    order=df['education'].value_counts().index, ax=ax[0,2])\n",
    "\n",
    "# Наличие просроченного кредита\n",
    "sns.countplot(\n",
    "    data=df, x='default', hue='deposit',\n",
    "    order=df['default'].value_counts().index, ax=ax[1,0])\n",
    "\n",
    "# Наличие ипотеки\n",
    "sns.countplot(\n",
    "    data=df, x='housing', hue='deposit',\n",
    "    order=df['housing'].value_counts().index, ax=ax[1,1])\n",
    "\n",
    "# Наличие потребительского кредита\n",
    "sns.countplot(\n",
    "    data=df, x='loan', hue='deposit',\n",
    "    order=df['loan'].value_counts().index, ax=ax[1,2])\n",
    "\n",
    "# Тип контакта с клиентом\n",
    "sns.countplot(\n",
    "    data=df, x='contact', hue='deposit', \n",
    "    order=df['contact'].value_counts().index, ax=ax[2,0])\n",
    "\n",
    "# Месяц последнего контакта с клиентом\n",
    "sns.countplot(\n",
    "    data=df, x='month', hue='deposit',\n",
    "    order=df['month'].value_counts().index, ax=ax[2,1])\n",
    "\n",
    "# Результат предыдущей маркетинговой кампании\n",
    "sns.countplot(\n",
    "    data=df, x='poutcome', hue='deposit',\n",
    "    order=df['poutcome'].value_counts().index, ax=ax[2,2])\n",
    "ax[0,0].tick_params(labelrotation=70)\n",
    "plt.suptitle(\n",
    "    'Categorical parameters relative to the target feature (deposit)\\n',\n",
    "    fontsize=16)\n",
    "plt.tight_layout()\n"
   ]
  },
  {
   "cell_type": "markdown",
   "id": "ca70a166",
   "metadata": {},
   "source": [
    "На рисунке видим соотношения различных категорий клиентов в разрезе достижения целевого признака - открытия депозита (deposit). Можно сказать, что наиболее склонны к открытию депозита следующие категории клиентов:\n",
    "\n",
    "* пенсионеры и студенты (при небольшом относительном количестве и тех и других);\n",
    "* клиенты, по которым был достигнут успех в предыдущей маркетинговой кампании - подавляющее большинство дают положительный результат и в текущей кампании;\n",
    "* неженатые/незамужние клиенты, а также клиенты, не имеющие ипотеки (и те, и другие - в меньшей степени, однако в этих категориях число клиентов, открывших депозит, превышает число отрицательных результатов, что довольно нетипично для выборки в целом);\n",
    "* клиенты, с которыми связывались по мобильному телефону - та же картина.\n",
    "\n",
    "Наиболее неудачные результаты по привлечению к открытию депозита:\n",
    "\n",
    "* \"синие воротнички\";\n",
    "* клиенты с потребительскими кредитами\n",
    "\n",
    "По какой-то причине наблюдаются значительные различия в успешности маркетинговой кампании по месяцам: исключительно успешные результаты в марте, апреле, сентябре, октябре и декабре, но существенный провал в мае. Данное обстоятельство требует дополнительного изучения в контексте построения модели машинного обучения - результаты могут быть связаны с конкретными \"локальными\" обстоятельствами маркетинговой кампании и не отражать общей тенденции (зависимости от времени года). Включение такой локальной зависимости в модель приведет к успешному предсказанию текущей ситуации, в том числе на тестовой выборке, однако нет гарантии, что новые данные будут соответствовать модели."
   ]
  },
  {
   "cell_type": "markdown",
   "id": "f4189d1e",
   "metadata": {},
   "source": [
    "Сколько было месяцев, в которых проводилась маркетинговая кампания?"
   ]
  },
  {
   "cell_type": "code",
   "execution_count": 18,
   "id": "4b104157",
   "metadata": {},
   "outputs": [
    {
     "data": {
      "text/plain": [
       "12"
      ]
     },
     "metadata": {},
     "output_type": "display_data"
    },
    {
     "data": {
      "text/plain": [
       "count     10105\n",
       "unique       12\n",
       "top         may\n",
       "freq       2617\n",
       "Name: month, dtype: object"
      ]
     },
     "metadata": {},
     "output_type": "display_data"
    }
   ],
   "source": [
    "display(df['month'].value_counts().count())\n",
    "display(df['month'].describe(include = 'object'))"
   ]
  },
  {
   "cell_type": "markdown",
   "id": "f1d93372",
   "metadata": {},
   "source": [
    "Сколько сфер занятости представлено среди клиентов банка?"
   ]
  },
  {
   "cell_type": "code",
   "execution_count": 19,
   "id": "e53117b3",
   "metadata": {},
   "outputs": [
    {
     "data": {
      "text/plain": [
       "11"
      ]
     },
     "metadata": {},
     "output_type": "display_data"
    }
   ],
   "source": [
    "display(df['job'].value_counts().count())"
   ]
  },
  {
   "cell_type": "markdown",
   "id": "472cff5b",
   "metadata": {},
   "source": [
    "### Задание 4"
   ]
  },
  {
   "cell_type": "code",
   "execution_count": 20,
   "id": "2d640ce1",
   "metadata": {},
   "outputs": [
    {
     "data": {
      "text/html": [
       "<div>\n",
       "<style scoped>\n",
       "    .dataframe tbody tr th:only-of-type {\n",
       "        vertical-align: middle;\n",
       "    }\n",
       "\n",
       "    .dataframe tbody tr th {\n",
       "        vertical-align: top;\n",
       "    }\n",
       "\n",
       "    .dataframe thead th {\n",
       "        text-align: right;\n",
       "    }\n",
       "</style>\n",
       "<table border=\"1\" class=\"dataframe\">\n",
       "  <thead>\n",
       "    <tr style=\"text-align: right;\">\n",
       "      <th>deposit</th>\n",
       "      <th>no</th>\n",
       "      <th>yes</th>\n",
       "    </tr>\n",
       "    <tr>\n",
       "      <th>poutcome</th>\n",
       "      <th></th>\n",
       "      <th></th>\n",
       "    </tr>\n",
       "  </thead>\n",
       "  <tbody>\n",
       "    <tr>\n",
       "      <th>failure</th>\n",
       "      <td>562</td>\n",
       "      <td>547</td>\n",
       "    </tr>\n",
       "    <tr>\n",
       "      <th>other</th>\n",
       "      <td>216</td>\n",
       "      <td>265</td>\n",
       "    </tr>\n",
       "    <tr>\n",
       "      <th>success</th>\n",
       "      <td>84</td>\n",
       "      <td>861</td>\n",
       "    </tr>\n",
       "    <tr>\n",
       "      <th>unknown</th>\n",
       "      <td>4562</td>\n",
       "      <td>3008</td>\n",
       "    </tr>\n",
       "  </tbody>\n",
       "</table>\n",
       "</div>"
      ],
      "text/plain": [
       "deposit     no   yes\n",
       "poutcome            \n",
       "failure    562   547\n",
       "other      216   265\n",
       "success     84   861\n",
       "unknown   4562  3008"
      ]
     },
     "execution_count": 20,
     "metadata": {},
     "output_type": "execute_result"
    }
   ],
   "source": [
    "# Узнайте, для какого статуса предыдущей маркетинговой кампании успех в текущей превалирует над количеством неудач.\n",
    "df.groupby('poutcome')['deposit'].value_counts().unstack()"
   ]
  },
  {
   "cell_type": "markdown",
   "id": "9c32e3aa",
   "metadata": {},
   "source": [
    "### Задание 5"
   ]
  },
  {
   "cell_type": "code",
   "execution_count": 21,
   "id": "df437ec3",
   "metadata": {},
   "outputs": [
    {
     "data": {
      "text/html": [
       "<div>\n",
       "<style scoped>\n",
       "    .dataframe tbody tr th:only-of-type {\n",
       "        vertical-align: middle;\n",
       "    }\n",
       "\n",
       "    .dataframe tbody tr th {\n",
       "        vertical-align: top;\n",
       "    }\n",
       "\n",
       "    .dataframe thead th {\n",
       "        text-align: right;\n",
       "    }\n",
       "</style>\n",
       "<table border=\"1\" class=\"dataframe\">\n",
       "  <thead>\n",
       "    <tr style=\"text-align: right;\">\n",
       "      <th>deposit</th>\n",
       "      <th>no</th>\n",
       "      <th>yes</th>\n",
       "    </tr>\n",
       "    <tr>\n",
       "      <th>month</th>\n",
       "      <th></th>\n",
       "      <th></th>\n",
       "    </tr>\n",
       "  </thead>\n",
       "  <tbody>\n",
       "    <tr>\n",
       "      <th>may</th>\n",
       "      <td>67.863966</td>\n",
       "      <td>32.136034</td>\n",
       "    </tr>\n",
       "    <tr>\n",
       "      <th>jan</th>\n",
       "      <td>60.815047</td>\n",
       "      <td>39.184953</td>\n",
       "    </tr>\n",
       "    <tr>\n",
       "      <th>jul</th>\n",
       "      <td>58.956276</td>\n",
       "      <td>41.043724</td>\n",
       "    </tr>\n",
       "    <tr>\n",
       "      <th>nov</th>\n",
       "      <td>58.461538</td>\n",
       "      <td>41.538462</td>\n",
       "    </tr>\n",
       "    <tr>\n",
       "      <th>aug</th>\n",
       "      <td>55.956679</td>\n",
       "      <td>44.043321</td>\n",
       "    </tr>\n",
       "    <tr>\n",
       "      <th>jun</th>\n",
       "      <td>54.891304</td>\n",
       "      <td>45.108696</td>\n",
       "    </tr>\n",
       "    <tr>\n",
       "      <th>feb</th>\n",
       "      <td>45.557123</td>\n",
       "      <td>54.442877</td>\n",
       "    </tr>\n",
       "    <tr>\n",
       "      <th>apr</th>\n",
       "      <td>38.192771</td>\n",
       "      <td>61.807229</td>\n",
       "    </tr>\n",
       "    <tr>\n",
       "      <th>oct</th>\n",
       "      <td>18.507463</td>\n",
       "      <td>81.492537</td>\n",
       "    </tr>\n",
       "    <tr>\n",
       "      <th>sep</th>\n",
       "      <td>16.546763</td>\n",
       "      <td>83.453237</td>\n",
       "    </tr>\n",
       "    <tr>\n",
       "      <th>mar</th>\n",
       "      <td>10.126582</td>\n",
       "      <td>89.873418</td>\n",
       "    </tr>\n",
       "    <tr>\n",
       "      <th>dec</th>\n",
       "      <td>9.677419</td>\n",
       "      <td>90.322581</td>\n",
       "    </tr>\n",
       "  </tbody>\n",
       "</table>\n",
       "</div>"
      ],
      "text/plain": [
       "deposit         no        yes\n",
       "month                        \n",
       "may      67.863966  32.136034\n",
       "jan      60.815047  39.184953\n",
       "jul      58.956276  41.043724\n",
       "nov      58.461538  41.538462\n",
       "aug      55.956679  44.043321\n",
       "jun      54.891304  45.108696\n",
       "feb      45.557123  54.442877\n",
       "apr      38.192771  61.807229\n",
       "oct      18.507463  81.492537\n",
       "sep      16.546763  83.453237\n",
       "mar      10.126582  89.873418\n",
       "dec       9.677419  90.322581"
      ]
     },
     "execution_count": 21,
     "metadata": {},
     "output_type": "execute_result"
    }
   ],
   "source": [
    "# узнайте, в каком месяце чаще всего отказывались от предложения открыть депозит\n",
    "\n",
    "# процент отказов/согласия по месяцам:\n",
    "(df.groupby('month')['deposit'].value_counts(normalize=True).unstack() \\\n",
    "    * 100).sort_values('no', ascending=False)  \n",
    "\n",
    "# Максимум отказов в процентном соотношении - май"
   ]
  },
  {
   "cell_type": "markdown",
   "id": "68534515",
   "metadata": {},
   "source": [
    "Рассчитайте, в каком месяце самый большой процент неудач при взаимодействии в текущей маркетинговой кампании. Возможно, этот месяц не является подходящим для проведения подобных акций, и это стоит отметить. Введите название месяца латиницей ровно так, как месяц обозначен в данных."
   ]
  },
  {
   "cell_type": "code",
   "execution_count": 22,
   "id": "dc955c74",
   "metadata": {},
   "outputs": [
    {
     "name": "stdout",
     "output_type": "stream",
     "text": [
      "may 25.9\n",
      "jul 14.03\n",
      "aug 13.71\n",
      "jun 10.93\n",
      "apr 8.21\n",
      "nov 7.72\n",
      "feb 7.02\n",
      "oct 3.32\n",
      "jan 3.16\n",
      "sep 2.75\n",
      "mar 2.35\n",
      "dec 0.92\n"
     ]
    }
   ],
   "source": [
    "for x in df['month'].value_counts().index:\n",
    "    result = (df['month'] == x).count()\n",
    "    y = round((df['month'] == x).value_counts()[1] / result *100,2)\n",
    "    print(x, y)"
   ]
  },
  {
   "cell_type": "code",
   "execution_count": 23,
   "id": "c48f9ee8",
   "metadata": {},
   "outputs": [
    {
     "data": {
      "text/plain": [
       "no     5424\n",
       "yes    4681\n",
       "Name: deposit, dtype: int64"
      ]
     },
     "execution_count": 23,
     "metadata": {},
     "output_type": "execute_result"
    }
   ],
   "source": [
    "df['deposit'].value_counts()"
   ]
  },
  {
   "cell_type": "markdown",
   "id": "5f20762f",
   "metadata": {},
   "source": [
    "### Задание 6"
   ]
  },
  {
   "cell_type": "code",
   "execution_count": 24,
   "id": "31d695f8",
   "metadata": {},
   "outputs": [
    {
     "data": {
      "image/png": "[encoded data removed]",
      "text/plain": [
       "<Figure size 432x288 with 1 Axes>"
      ]
     },
     "metadata": {
      "needs_background": "light"
     },
     "output_type": "display_data"
    }
   ],
   "source": [
    "# создайте возрастные группы и определите, в каких группах более склонны открывать депозит, чем отказываться от предложения\n",
    "# Первый способ решения с помощью метода cut()\n",
    "cut_labels_4 = ['youth', 'thirties', 'forties', 'fifties', 'elders']\n",
    "cut_bins = [0, 30, 40, 50, 60, 200]\n",
    "\n",
    "df['age_group'] = pd.cut(df['age'],\n",
    "                       bins=cut_bins,\n",
    "                       labels=cut_labels_4)\n",
    "\n",
    "piv_tab = (df.groupby('age_group')['deposit'].value_counts(normalize=True) \\\n",
    "    * 100).unstack().reset_index() # процент отказов/согласия по группам\n",
    "ax = sns.barplot(\n",
    "    data=piv_tab, x='age_group', y='yes', \n",
    "    order=['youth', 'thirties', 'forties', 'fifties', 'elders'])\n",
    "ax.set(ylabel='Opened accounts, %', xlabel='Age group')\n",
    "ax.set_title('Percent of opened accounts in different age groups\\n', \n",
    "             fontsize=16);"
   ]
  },
  {
   "cell_type": "markdown",
   "id": "0841c685",
   "metadata": {},
   "source": [
    "### Задание 7"
   ]
  },
  {
   "cell_type": "code",
   "execution_count": 25,
   "id": "0d84a9e1",
   "metadata": {},
   "outputs": [
    {
     "data": {
      "image/png": "[encoded data removed]",
      "text/plain": [
       "<Figure size 432x288 with 1 Axes>"
      ]
     },
     "metadata": {
      "needs_background": "light"
     },
     "output_type": "display_data"
    }
   ],
   "source": [
    "# постройте визуализации для открывших и неоткрывших депозит в зависимости от семейного статуса\n",
    "ax = sns.countplot(data=df, x='marital', hue='deposit')\n",
    "ax.set(xlabel='Marital status', ylabel='Number of clients')\n",
    "ax.set_title('Marital status\\n', fontsize=16);"
   ]
  },
  {
   "cell_type": "markdown",
   "id": "fdc0ccb0",
   "metadata": {},
   "source": [
    "Наиболее многочисленная группа - семейные, наиболее малочисленная - разведенные. Неженатые/незамужние более склонны к открытию депозита, чем семейные."
   ]
  },
  {
   "cell_type": "code",
   "execution_count": 26,
   "id": "16333967",
   "metadata": {},
   "outputs": [
    {
     "data": {
      "image/png": "[encoded data removed]",
      "text/plain": [
       "<Figure size 432x288 with 1 Axes>"
      ]
     },
     "metadata": {
      "needs_background": "light"
     },
     "output_type": "display_data"
    }
   ],
   "source": [
    "# постройте визуализации для открывших и неоткрывших депозит в зависимости от образования\n",
    "ax = sns.countplot(data=df, x='education', hue='deposit',\n",
    "              order=['primary', 'secondary', 'tertiary'])\n",
    "ax.set(xlabel='Education', ylabel='Number of clients')\n",
    "ax.set_title('Education\\n', fontsize=14);"
   ]
  },
  {
   "cell_type": "markdown",
   "id": "00f8c47f",
   "metadata": {},
   "source": [
    "У большинства клиентов среднее образование. Более склонны к открытию депозита клиенты с высшим образованием."
   ]
  },
  {
   "cell_type": "code",
   "execution_count": 27,
   "id": "738224f8",
   "metadata": {},
   "outputs": [
    {
     "data": {
      "image/png": "[encoded data removed]",
      "text/plain": [
       "<Figure size 432x288 with 1 Axes>"
      ]
     },
     "metadata": {
      "needs_background": "light"
     },
     "output_type": "display_data"
    }
   ],
   "source": [
    "# постройте визуализации для открывших и неоткрывших депозит в зависимости от вида профессиональной занятости\n",
    "ax= sns.countplot(data=df, x='job', hue='deposit', \n",
    "              order=df['job'].value_counts().index)\n",
    "ax.tick_params(labelrotation=70)\n",
    "ax.set(xlabel='Job', ylabel='Number of clients')\n",
    "ax.set_title('Job\\n', fontsize=16);"
   ]
  },
  {
   "cell_type": "markdown",
   "id": "956c2afb",
   "metadata": {},
   "source": [
    "Выделяется малый процент открытия депозитов у \"синих воротничков\" и большой - у пенсионеров и студентов. Важно отметить, что при этом \"синие воротнички\" составляют вторую по численности категорию клиентов (стоить подумать о способах привлечения этой категории)."
   ]
  },
  {
   "cell_type": "code",
   "execution_count": 28,
   "id": "8bef6668",
   "metadata": {},
   "outputs": [
    {
     "data": {
      "text/plain": [
       "management       2315\n",
       "blue-collar      1807\n",
       "technician       1638\n",
       "admin.           1246\n",
       "services          868\n",
       "retired           663\n",
       "self-employed     358\n",
       "unemployed        332\n",
       "student           326\n",
       "entrepreneur      300\n",
       "housemaid         252\n",
       "Name: job, dtype: int64"
      ]
     },
     "execution_count": 28,
     "metadata": {},
     "output_type": "execute_result"
    }
   ],
   "source": [
    "# В какой сфере занято наибольшее число клиентов банка?\n",
    "df['job'].value_counts()"
   ]
  },
  {
   "cell_type": "markdown",
   "id": "a521e204",
   "metadata": {},
   "source": [
    "### Задание 8"
   ]
  },
  {
   "cell_type": "code",
   "execution_count": 29,
   "id": "35ab0413",
   "metadata": {},
   "outputs": [
    {
     "data": {
      "text/plain": [
       "'кто открыл депозит'"
      ]
     },
     "metadata": {},
     "output_type": "display_data"
    },
    {
     "data": {
      "text/html": [
       "<div>\n",
       "<style scoped>\n",
       "    .dataframe tbody tr th:only-of-type {\n",
       "        vertical-align: middle;\n",
       "    }\n",
       "\n",
       "    .dataframe tbody tr th {\n",
       "        vertical-align: top;\n",
       "    }\n",
       "\n",
       "    .dataframe thead th {\n",
       "        text-align: right;\n",
       "    }\n",
       "</style>\n",
       "<table border=\"1\" class=\"dataframe\">\n",
       "  <thead>\n",
       "    <tr style=\"text-align: right;\">\n",
       "      <th>marital</th>\n",
       "      <th>divorced</th>\n",
       "      <th>married</th>\n",
       "      <th>single</th>\n",
       "    </tr>\n",
       "    <tr>\n",
       "      <th>education</th>\n",
       "      <th></th>\n",
       "      <th></th>\n",
       "      <th></th>\n",
       "    </tr>\n",
       "  </thead>\n",
       "  <tbody>\n",
       "    <tr>\n",
       "      <th>primary</th>\n",
       "      <td>96</td>\n",
       "      <td>339</td>\n",
       "      <td>82</td>\n",
       "    </tr>\n",
       "    <tr>\n",
       "      <th>secondary</th>\n",
       "      <td>283</td>\n",
       "      <td>1289</td>\n",
       "      <td>879</td>\n",
       "    </tr>\n",
       "    <tr>\n",
       "      <th>tertiary</th>\n",
       "      <td>174</td>\n",
       "      <td>784</td>\n",
       "      <td>755</td>\n",
       "    </tr>\n",
       "  </tbody>\n",
       "</table>\n",
       "</div>"
      ],
      "text/plain": [
       "marital    divorced  married  single\n",
       "education                           \n",
       "primary          96      339      82\n",
       "secondary       283     1289     879\n",
       "tertiary        174      784     755"
      ]
     },
     "metadata": {},
     "output_type": "display_data"
    },
    {
     "data": {
      "text/plain": [
       "'не открыл депозит'"
      ]
     },
     "metadata": {},
     "output_type": "display_data"
    },
    {
     "data": {
      "text/html": [
       "<div>\n",
       "<style scoped>\n",
       "    .dataframe tbody tr th:only-of-type {\n",
       "        vertical-align: middle;\n",
       "    }\n",
       "\n",
       "    .dataframe tbody tr th {\n",
       "        vertical-align: top;\n",
       "    }\n",
       "\n",
       "    .dataframe thead th {\n",
       "        text-align: right;\n",
       "    }\n",
       "</style>\n",
       "<table border=\"1\" class=\"dataframe\">\n",
       "  <thead>\n",
       "    <tr style=\"text-align: right;\">\n",
       "      <th>marital</th>\n",
       "      <th>divorced</th>\n",
       "      <th>married</th>\n",
       "      <th>single</th>\n",
       "    </tr>\n",
       "    <tr>\n",
       "      <th>education</th>\n",
       "      <th></th>\n",
       "      <th></th>\n",
       "      <th></th>\n",
       "    </tr>\n",
       "  </thead>\n",
       "  <tbody>\n",
       "    <tr>\n",
       "      <th>primary</th>\n",
       "      <td>91</td>\n",
       "      <td>641</td>\n",
       "      <td>100</td>\n",
       "    </tr>\n",
       "    <tr>\n",
       "      <th>secondary</th>\n",
       "      <td>370</td>\n",
       "      <td>1830</td>\n",
       "      <td>866</td>\n",
       "    </tr>\n",
       "    <tr>\n",
       "      <th>tertiary</th>\n",
       "      <td>163</td>\n",
       "      <td>832</td>\n",
       "      <td>531</td>\n",
       "    </tr>\n",
       "  </tbody>\n",
       "</table>\n",
       "</div>"
      ],
      "text/plain": [
       "marital    divorced  married  single\n",
       "education                           \n",
       "primary          91      641     100\n",
       "secondary       370     1830     866\n",
       "tertiary        163      832     531"
      ]
     },
     "metadata": {},
     "output_type": "display_data"
    },
    {
     "data": {
      "image/png": "[encoded data removed]",
      "text/plain": [
       "<Figure size 648x288 with 4 Axes>"
      ]
     },
     "metadata": {
      "needs_background": "light"
     },
     "output_type": "display_data"
    }
   ],
   "source": [
    "# постройте сводную таблицу, чтобы определить люди с каким образованием и семейным статусом наиболее многочисленны\n",
    "#(если рассматривать тех, кто открыл депозит)\n",
    "\n",
    "success = df[df['deposit']=='yes']\n",
    "fail = df[df['deposit']=='no']\n",
    "success_pivot = success.groupby(\n",
    "    ['education', 'marital'])['marital'].count().unstack()\n",
    "## or:\n",
    "#success_pivot = pd.pivot_table(success,     \n",
    "#    index='education', columns='marital', values='age', aggfunc='count')  \n",
    "fail_pivot = fail.groupby(\n",
    "    ['education', 'marital'])['marital'].count().unstack()\n",
    "\n",
    "display('кто открыл депозит',success_pivot, 'не открыл депозит',fail_pivot)\n",
    "\n",
    "fig, ax = plt.subplots( 1, 2, figsize=(9,4))\n",
    "sns.heatmap(success_pivot, ax=ax[0])\n",
    "sns.heatmap(fail_pivot, ax=ax[1])\n",
    "ax[0].set_title('Account is opened')\n",
    "ax[1].set_title('Account is not opened')\n",
    "ax[0].set(xlabel='Marital status', ylabel='Education')\n",
    "ax[1].set(xlabel='Marital status', ylabel='Education')\n",
    "plt.suptitle('Education - marital status heatmaps', fontsize=16)\n",
    "plt.tight_layout()\n"
   ]
  },
  {
   "cell_type": "markdown",
   "id": "332b2406",
   "metadata": {},
   "source": [
    "В обеих категориях (открывшие и неоткрывшие депозит) преобладают семейные клиенты со средним образованием."
   ]
  },
  {
   "cell_type": "markdown",
   "id": "dfd805c0",
   "metadata": {},
   "source": [
    "## Часть 3: преобразование данных"
   ]
  },
  {
   "cell_type": "markdown",
   "id": "e44e715b",
   "metadata": {},
   "source": [
    "### Задание 1"
   ]
  },
  {
   "cell_type": "code",
   "execution_count": 30,
   "id": "1e815773",
   "metadata": {},
   "outputs": [],
   "source": [
    "# преобразуйте уровни образования\n",
    "\n",
    "# Порядковое кодирование\n",
    "# 0 - primary, 1 - secondary, 2 - tertiary\n",
    "label_enc = preprocessing.LabelEncoder()\n",
    "df['education'] = label_enc.fit_transform(df['education'])\n"
   ]
  },
  {
   "cell_type": "code",
   "execution_count": 31,
   "id": "705d5dd4",
   "metadata": {},
   "outputs": [
    {
     "data": {
      "text/plain": [
       "11995"
      ]
     },
     "execution_count": 31,
     "metadata": {},
     "output_type": "execute_result"
    }
   ],
   "source": [
    "#Найдите сумму получившихся значений для признака education.\n",
    "df['education'].sum()"
   ]
  },
  {
   "cell_type": "markdown",
   "id": "d29858d3",
   "metadata": {},
   "source": [
    "Ранее мы создали порядковую переменную для возраста. Обработайте её по такому же принципу, чтобы её можно было использовать при обучении модели."
   ]
  },
  {
   "cell_type": "code",
   "execution_count": 32,
   "id": "03c7411d",
   "metadata": {},
   "outputs": [],
   "source": [
    "# Работает не правильно\n",
    "# df['age_group'] = pd.cut(df.age, [30,40,50,60,9999])\n",
    "# label_enc = preprocessing.LabelEncoder()\n",
    "# df['age_group'] = label_enc.fit_transform(df['age_group'])"
   ]
  },
  {
   "cell_type": "code",
   "execution_count": 33,
   "id": "5b62f6cc",
   "metadata": {},
   "outputs": [],
   "source": [
    "# Порядковое кодирование возрастных групп\n",
    "\n",
    "def age_group(x):\n",
    "    if x < 30:\n",
    "        return 0  # youth\n",
    "    elif 30 <= x < 40:\n",
    "        return 1  # thirties\n",
    "    elif 40 <= x < 50:\n",
    "        return 2  # forties\n",
    "    elif 50 <= x < 60:\n",
    "        return 3  # fifties \n",
    "    else:\n",
    "        return 4  # elders\n",
    "    \n",
    "\n",
    "df['age_group'] = df['age'].apply(age_group)"
   ]
  },
  {
   "cell_type": "code",
   "execution_count": 34,
   "id": "673625b9",
   "metadata": {},
   "outputs": [],
   "source": [
    "# Перекодируем признак для соответствия ответам на обучающей платформе\n",
    "\n",
    "df['age_group'] = pd.cut(df.age, [0,30,40,50,60,9999], \n",
    "                         labels=['<30', '30-40', '40-50', '50-60', '60+'])\n",
    "label_enc = preprocessing.LabelEncoder()\n",
    "df['age_group'] = label_enc.fit_transform(df['age_group'])"
   ]
  },
  {
   "cell_type": "markdown",
   "id": "8c93e73d",
   "metadata": {},
   "source": [
    "### Задание 2"
   ]
  },
  {
   "cell_type": "code",
   "execution_count": 35,
   "id": "626a5762",
   "metadata": {},
   "outputs": [],
   "source": [
    "# преобразуйте бинарные переменные в представление из нулей и единиц\n",
    "# Один из способов\n",
    "# df.replace({'yes': 1, 'no': 0}, inplace=True)"
   ]
  },
  {
   "cell_type": "code",
   "execution_count": 36,
   "id": "392090cd",
   "metadata": {},
   "outputs": [],
   "source": [
    "lb = preprocessing.LabelBinarizer()\n",
    "df['deposit'] = lb.fit_transform(df['deposit'])"
   ]
  },
  {
   "cell_type": "markdown",
   "id": "f40b28f4",
   "metadata": {},
   "source": [
    "Вычислите стандартное отклонение по преобразованной в корректный вид целевой переменной deposit. Ответ округлите до трёх знаков после точки-разделителя."
   ]
  },
  {
   "cell_type": "code",
   "execution_count": 37,
   "id": "82fed8f7",
   "metadata": {},
   "outputs": [
    {
     "data": {
      "text/plain": [
       "0.499"
      ]
     },
     "execution_count": 37,
     "metadata": {},
     "output_type": "execute_result"
    }
   ],
   "source": [
    "round(df['deposit'].std(),3)"
   ]
  },
  {
   "cell_type": "markdown",
   "id": "02d0954e",
   "metadata": {},
   "source": [
    "Преобразуем в бинарные переменные в представление из нулей и единиц то же самое для других бинарных переменных, которых у нас три:\n",
    "\n",
    "* 'default';\n",
    "* 'housing';\n",
    "* 'loan'.\n",
    "\n",
    "Все три мы будем модифицировать ровно так же: для слова yes мы возьмём в качестве значения 1, а для no — 0."
   ]
  },
  {
   "cell_type": "code",
   "execution_count": 38,
   "id": "408394ea",
   "metadata": {},
   "outputs": [],
   "source": [
    "lb = preprocessing.LabelBinarizer()\n",
    "df['default'] = lb.fit_transform(df['default'])\n",
    "df['housing'] = lb.fit_transform(df['housing'])\n",
    "df['loan'] = lb.fit_transform(df['loan'])"
   ]
  },
  {
   "cell_type": "markdown",
   "id": "b6c0c3c0",
   "metadata": {},
   "source": [
    "Вычислите среднее арифметическое для каждой из получившихся переменных, сложите три результата и в качестве ответа впишите итог, округлив его до трёх знаков после точки-разделителя."
   ]
  },
  {
   "cell_type": "code",
   "execution_count": 39,
   "id": "0fd557e5",
   "metadata": {},
   "outputs": [
    {
     "data": {
      "text/plain": [
       "0.635"
      ]
     },
     "execution_count": 39,
     "metadata": {},
     "output_type": "execute_result"
    }
   ],
   "source": [
    "round((df['default'].mean() + df['housing'].mean() + df['loan'].mean()),3)"
   ]
  },
  {
   "cell_type": "markdown",
   "id": "c40dc02a",
   "metadata": {},
   "source": [
    "### Задание 3"
   ]
  },
  {
   "cell_type": "code",
   "execution_count": 40,
   "id": "b996883f",
   "metadata": {},
   "outputs": [],
   "source": [
    "# создайте дамми-переменные\n",
    "dummies = pd.get_dummies(df[[\n",
    "    'job', 'marital', 'contact', 'month', 'poutcome']])\n",
    "df = pd.concat([df, dummies], axis=1)"
   ]
  },
  {
   "cell_type": "markdown",
   "id": "a87476ff",
   "metadata": {},
   "source": [
    "Сколько теперь всего признаков в датасете, не считая целевую переменную? Введите ответ, посчитав уже добавленные dummy-переменные, но до удаления номинальных."
   ]
  },
  {
   "cell_type": "code",
   "execution_count": 41,
   "id": "df374308",
   "metadata": {},
   "outputs": [
    {
     "name": "stdout",
     "output_type": "stream",
     "text": [
      "Количество строк: 51\n"
     ]
    }
   ],
   "source": [
    "print('Количество строк: {}'.format(df.shape[1]))  "
   ]
  },
  {
   "cell_type": "code",
   "execution_count": 42,
   "id": "5d5d4b90",
   "metadata": {},
   "outputs": [],
   "source": [
    "# Удаляем преобразованные признаки типа object\n",
    "\n",
    "obj_cols = df.select_dtypes('object').columns\n",
    "df.drop(columns=obj_cols, inplace=True)"
   ]
  },
  {
   "cell_type": "markdown",
   "id": "9a23e318",
   "metadata": {},
   "source": [
    "### Задание 4"
   ]
  },
  {
   "cell_type": "code",
   "execution_count": 43,
   "id": "1c884c1a",
   "metadata": {},
   "outputs": [
    {
     "data": {
      "image/png": "[encoded data removed]",
      "text/plain": [
       "<Figure size 936x720 with 2 Axes>"
      ]
     },
     "metadata": {
      "needs_background": "light"
     },
     "output_type": "display_data"
    }
   ],
   "source": [
    "# постройте корреляционную матрицу и оцените данные на предмет наличия мультиколлинеарности\n",
    "# Корреляционная матрица \n",
    "# Используем корреляцию Кендала - распределение признака может быть \n",
    "# не нормальным, связь признаков не обязательно является монотонной функцией\n",
    "corr_matrix = df.corr(method='kendall')\n",
    "\n",
    "# Тепловая карта\n",
    "fig = plt.figure(figsize=(13,10))\n",
    "sns.heatmap(corr_matrix,  vmin=-1, vmax=1);\n"
   ]
  },
  {
   "cell_type": "markdown",
   "id": "5e94316a",
   "metadata": {},
   "source": [
    "Расставьте признаки 'poutcome_success', 'duration', 'contact_cellular', в наибольшей степени коррелирующие с целевой переменной, по убыванию силы линейной взаимосвязи."
   ]
  },
  {
   "cell_type": "code",
   "execution_count": 44,
   "id": "f21b4a63",
   "metadata": {},
   "outputs": [
    {
     "data": {
      "image/png": "[encoded data removed]",
      "text/plain": [
       "<Figure size 936x720 with 2 Axes>"
      ]
     },
     "metadata": {
      "needs_background": "light"
     },
     "output_type": "display_data"
    }
   ],
   "source": [
    "corr_matrix_3 = df[['poutcome_success', 'duration', 'contact_cellular', 'deposit']].corr(method='kendall')\n",
    "\n",
    "# Тепловая карта\n",
    "fig = plt.figure(figsize=(13,10))\n",
    "sns.heatmap(corr_matrix_3,  vmin=-1, vmax=1);"
   ]
  },
  {
   "cell_type": "code",
   "execution_count": 45,
   "id": "e3a097a4",
   "metadata": {},
   "outputs": [
    {
     "data": {
      "image/png": "[encoded data removed]",
      "text/plain": [
       "<Figure size 1440x432 with 1 Axes>"
      ]
     },
     "metadata": {
      "needs_background": "light"
     },
     "output_type": "display_data"
    }
   ],
   "source": [
    "# Корреляция с целевым признаком\n",
    "\n",
    "fig = plt.figure(figsize=(20,6))\n",
    "plot_df = corr_matrix.drop('deposit')  # Убираем корреляцию \"сам с собой\"\n",
    "feature_order = abs(plot_df['deposit']).sort_values(ascending=False).index\n",
    "ax = sns.barplot(\n",
    "    data=plot_df.reset_index(), x='index', y='deposit',\n",
    "    order = feature_order)\n",
    "plt.xticks(rotation=70)\n",
    "ax.set(xlabel='Feature', ylabel='Kendall correlation coefficient')\n",
    "ax.set_title('Correlation with the target feature (deposit)\\n', fontsize=16);"
   ]
  },
  {
   "cell_type": "code",
   "execution_count": 46,
   "id": "e2b6ed9b",
   "metadata": {},
   "outputs": [
    {
     "data": {
      "text/plain": [
       "previous -- poutcome_unknown   -0.938271\n",
       "pdays -- poutcome_unknown      -0.925560\n",
       "dtype: float64"
      ]
     },
     "execution_count": 46,
     "metadata": {},
     "output_type": "execute_result"
    }
   ],
   "source": [
    "# Вычисляем мультиколлинеарные признаки, порог 0.9 \n",
    "# (порог в соответствии с требованиями задания).\n",
    "# Использую заготовленную функцию определения мультиколлинеарных признаков\n",
    "\n",
    "def get_correlated(corr_matrix, thres=0.7):\n",
    "    \"\"\"Getting correlated pairs from a correlation matrix \n",
    "       with correlation coefficients higher than the threshold\n",
    "\n",
    "    Args:\n",
    "        corr_matrix (pandas DataFrame): correlation matrix (e.g., from df.corr())\n",
    "        thres (float, optional): threshold. Defaults to 0.7 (i.e., coeff > 0.7 or coeff < -0.7).\n",
    "\n",
    "    Returns:\n",
    "        pandas Series: correlated pairs and correlation coefficients\n",
    "    \"\"\"\n",
    "    \n",
    "    correlated_pairs = {}\n",
    "    \n",
    "    for col in corr_matrix.columns:\n",
    "        positive_filter = corr_matrix[col] >= thres\n",
    "        negative_filter = corr_matrix[col] <= -thres\n",
    "        match_series = corr_matrix[col][positive_filter | negative_filter]\n",
    "        for match in match_series.index:\n",
    "            if match != col and match + ' -- ' + col not in correlated_pairs.keys():\n",
    "                correlated_pairs.update({col + ' -- ' + match: match_series[match]})\n",
    "   \n",
    "    return pd.Series(correlated_pairs).sort_values()\n",
    "\n",
    "\n",
    "get_correlated(corr_matrix, thres=0.9)"
   ]
  },
  {
   "cell_type": "markdown",
   "id": "b5b4c1a5",
   "metadata": {},
   "source": [
    "### Задание 5"
   ]
  },
  {
   "cell_type": "code",
   "execution_count": 47,
   "id": "79f3e432",
   "metadata": {},
   "outputs": [],
   "source": [
    "X = df.drop(['deposit'], axis=1)\n",
    "y = df['deposit']\n",
    " \n",
    "# Стратифицированное разбиение\n",
    "X_train, X_test, y_train, y_test = train_test_split(X, y, stratify=y, random_state=42, test_size=0.33)"
   ]
  },
  {
   "cell_type": "code",
   "execution_count": 48,
   "id": "e20cd788",
   "metadata": {},
   "outputs": [
    {
     "name": "stdout",
     "output_type": "stream",
     "text": [
      "Размер обучающей выборки: 6770\n",
      "Размер тестовой выборки: 3335\n"
     ]
    }
   ],
   "source": [
    "# рассчитайте необходимые показатели\n",
    "#Каким получился размер тестовой выборки?\n",
    "print(f'Размер обучающей выборки: {X_train.shape[0]}')\n",
    "print(f'Размер тестовой выборки: {X_test.shape[0]}')"
   ]
  },
  {
   "cell_type": "code",
   "execution_count": 49,
   "id": "87110ca5",
   "metadata": {},
   "outputs": [
    {
     "data": {
      "text/plain": [
       "0.46"
      ]
     },
     "execution_count": 49,
     "metadata": {},
     "output_type": "execute_result"
    }
   ],
   "source": [
    "# Каково среднее значение целевой переменной на тестовой выборке? Ответ округлите до двух знаков после точки-разделителя.\n",
    "round(y_test.mean(),2)"
   ]
  },
  {
   "cell_type": "markdown",
   "id": "2e381a4f",
   "metadata": {},
   "source": [
    "### Задание 6"
   ]
  },
  {
   "cell_type": "code",
   "execution_count": 50,
   "id": "0f6e03e0",
   "metadata": {},
   "outputs": [],
   "source": [
    "# # с помощью SelectKBest отберите 15 наиболее подходящих признаков\n",
    "# Данный способ убирает названия колонок\n",
    "# selector = SelectKBest(score_func=f_classif, k=15)\n",
    "# selector.fit(X_train, y_train)\n",
    "# selected_cols = selector.get_feature_names_out()\n",
    "# print(f'Selected features:\\n {selected_cols}')\n",
    "# X_train = selector.transform(X_train)\n",
    "# X_test =selector.transform(X_test)"
   ]
  },
  {
   "cell_type": "code",
   "execution_count": 51,
   "id": "25de5ff7",
   "metadata": {},
   "outputs": [
    {
     "name": "stdout",
     "output_type": "stream",
     "text": [
      "Selected features:\n",
      " ['balance' 'housing' 'duration' 'campaign' 'pdays' 'previous' 'age_group'\n",
      " 'contact_cellular' 'contact_unknown' 'month_mar' 'month_may' 'month_oct'\n",
      " 'month_sep' 'poutcome_success' 'poutcome_unknown']\n"
     ]
    }
   ],
   "source": [
    "from sklearn.feature_selection import SelectKBest, f_regression\n",
    "selector = SelectKBest(score_func = f_classif, k=15)\n",
    "selector.fit(X_train, y_train)\n",
    " \n",
    "selected_cols = selector.get_feature_names_out()\n",
    "print(f'Selected features:\\n {selected_cols}')\n",
    "\n",
    "X_train = selector.transform(X_train)\n",
    "X_test =selector.transform(X_test)"
   ]
  },
  {
   "cell_type": "markdown",
   "id": "60132ef3",
   "metadata": {},
   "source": [
    "### Задание 7"
   ]
  },
  {
   "cell_type": "code",
   "execution_count": 52,
   "id": "e91b06f3",
   "metadata": {},
   "outputs": [],
   "source": [
    "# нормализуйте данные с помощью minmaxsxaler\n",
    "scaler = preprocessing.MinMaxScaler()\n",
    "X_train = scaler.fit_transform(X_train)\n",
    "X_test = scaler.transform(X_test)"
   ]
  },
  {
   "cell_type": "code",
   "execution_count": 53,
   "id": "664d0e75",
   "metadata": {},
   "outputs": [],
   "source": [
    "# X_train = X_train.loc[:,(selected_cols)]\n",
    "# X_test = X_test.loc[:,(selected_cols)]"
   ]
  },
  {
   "cell_type": "markdown",
   "id": "923105fc",
   "metadata": {},
   "source": [
    "Рассчитайте среднее арифметическое для первого предиктора (т. е. для первого столбца матрицы) из тестовой выборки. Ответ округлите до двух знаков после точки-разделителя."
   ]
  },
  {
   "cell_type": "code",
   "execution_count": 54,
   "id": "4442f423",
   "metadata": {},
   "outputs": [
    {
     "data": {
      "text/plain": [
       "0.47"
      ]
     },
     "execution_count": 54,
     "metadata": {},
     "output_type": "execute_result"
    }
   ],
   "source": [
    "round(X_train[:, 0].mean(),2)"
   ]
  },
  {
   "cell_type": "code",
   "execution_count": 55,
   "id": "c0373faa",
   "metadata": {},
   "outputs": [],
   "source": [
    "#Преобразуем массив в DataFrame\n",
    "X_train = pd.DataFrame(X_train, columns = selected_cols)"
   ]
  },
  {
   "cell_type": "markdown",
   "id": "0894c632",
   "metadata": {},
   "source": [
    "# Часть 4: Решение задачи классификации: логистическая регрессия и решающие деревья"
   ]
  },
  {
   "cell_type": "markdown",
   "id": "41b8ff06",
   "metadata": {},
   "source": [
    "### Задание 1"
   ]
  },
  {
   "cell_type": "code",
   "execution_count": 56,
   "id": "8acc0166",
   "metadata": {},
   "outputs": [
    {
     "name": "stdout",
     "output_type": "stream",
     "text": [
      "Обучающая выборка:\n",
      "              precision    recall  f1-score   support\n",
      "\n",
      "           0       0.81      0.88      0.84      3634\n",
      "           1       0.84      0.76      0.80      3136\n",
      "\n",
      "    accuracy                           0.82      6770\n",
      "   macro avg       0.83      0.82      0.82      6770\n",
      "weighted avg       0.83      0.82      0.82      6770\n",
      "\n",
      "Тестовая выборка:\n",
      "              precision    recall  f1-score   support\n",
      "\n",
      "           0       0.79      0.87      0.83      1790\n",
      "           1       0.83      0.74      0.78      1545\n",
      "\n",
      "    accuracy                           0.81      3335\n",
      "   macro avg       0.81      0.80      0.81      3335\n",
      "weighted avg       0.81      0.81      0.81      3335\n",
      "\n"
     ]
    }
   ],
   "source": [
    "# обучите логистическую регрессию и рассчитайте метрики качества\n",
    "#Создаём объект класса LogisticRegression\n",
    "log_reg = linear_model.LogisticRegression(solver='sag', random_state=42, max_iter=1000)\n",
    "#Обучаем модель, минимизируя logloss\n",
    "log_reg.fit(X_train, y_train)\n",
    "\n",
    "#Делаем предсказание класса\n",
    "y_train_pred = log_reg.predict(X_train)\n",
    "y_test_pred = log_reg.predict(X_test)\n",
    "#Выводим отчёт о метриках\n",
    "print('Обучающая выборка:\\n{}'.format(\n",
    "    metrics.classification_report(y_train, y_train_pred, digits=2)))\n",
    "print('Тестовая выборка:\\n{}'.format(\n",
    "    metrics.classification_report(y_test, y_test_pred, digits=2)))"
   ]
  },
  {
   "cell_type": "markdown",
   "id": "29b7e0ba",
   "metadata": {},
   "source": [
    "### Задание 2"
   ]
  },
  {
   "cell_type": "code",
   "execution_count": 57,
   "id": "c91a588b",
   "metadata": {},
   "outputs": [
    {
     "name": "stdout",
     "output_type": "stream",
     "text": [
      "Обучающая выборка:\n",
      "              precision    recall  f1-score   support\n",
      "\n",
      "           0       1.00      1.00      1.00      3634\n",
      "           1       1.00      1.00      1.00      3136\n",
      "\n",
      "    accuracy                           1.00      6770\n",
      "   macro avg       1.00      1.00      1.00      6770\n",
      "weighted avg       1.00      1.00      1.00      6770\n",
      "\n",
      "Тестовая выборка:\n",
      "              precision    recall  f1-score   support\n",
      "\n",
      "           0       0.76      0.77      0.77      1790\n",
      "           1       0.73      0.72      0.73      1545\n",
      "\n",
      "    accuracy                           0.75      3335\n",
      "   macro avg       0.75      0.75      0.75      3335\n",
      "weighted avg       0.75      0.75      0.75      3335\n",
      "\n"
     ]
    }
   ],
   "source": [
    "# обучите решающие деревья, настройте максимальную глубину\n",
    "\n",
    "#Создаём объект класса DecisionTreeClassifier\n",
    "dt_clf = tree.DecisionTreeClassifier(\n",
    "    criterion='entropy', #критерий информативности \n",
    "    random_state=42 #генератор случайных чисел\n",
    ")\n",
    "#Обучаем дерево решений по алгоритму CART\n",
    "dt_clf.fit(X_train, y_train)\n",
    "\n",
    "#Делаем предсказание класса\n",
    "y_train_pred = dt_clf.predict(X_train)\n",
    "y_test_pred = dt_clf.predict(X_test)\n",
    "#Выводим отчёт о метриках\n",
    "print('Обучающая выборка:\\n{}'.format(\n",
    "    metrics.classification_report(y_train, y_train_pred, digits=2)))\n",
    "print('Тестовая выборка:\\n{}'.format(\n",
    "    metrics.classification_report(y_test, y_test_pred, digits=2)))"
   ]
  },
  {
   "cell_type": "markdown",
   "id": "f8f4f360",
   "metadata": {},
   "source": [
    "*Задание*: \"Переберите различные максимальные глубины деревьев и найдите глубину дерева, для которой будет максимальное значение метрики accuracy, но при этом ещё не будет наблюдаться переобучения (т. е. не будет расти качество на обучающей выборке при неизменном качестве на тестовой).\"\n",
    "\n",
    "В соответствии с условиями задания подбор параметра идет на тестовой выборке. В реальности ручной подбор гиперпараметра следует делать кросс-валидацией (например с помощью validation_curve() из sklearn) или на отдельной валидационной выборке."
   ]
  },
  {
   "cell_type": "code",
   "execution_count": 58,
   "id": "def12729",
   "metadata": {},
   "outputs": [
    {
     "name": "stdout",
     "output_type": "stream",
     "text": [
      "Максимальная точность на тесте: 0.81\n",
      "Оптимальная глубина дерева: 6\n"
     ]
    },
    {
     "data": {
      "image/png": "[encoded data removed]",
      "text/plain": [
       "<Figure size 468x288 with 1 Axes>"
      ]
     },
     "metadata": {
      "needs_background": "light"
     },
     "output_type": "display_data"
    }
   ],
   "source": [
    "# Перебираем значения max_deph \n",
    "# Считаем accuracy на тренировочной и тестовой выборках\n",
    "train_scores = []\n",
    "test_scores = []\n",
    "for max_depth in range(1,14):\n",
    "    dtree = tree.DecisionTreeClassifier(\n",
    "        criterion='entropy', random_state=42, max_depth=max_depth)\n",
    "    dtree.fit(X_train, y_train)\n",
    "    y_train_pred = dtree.predict(X_train)\n",
    "    y_test_pred = dtree.predict(X_test)\n",
    "    train_scores.append(metrics.accuracy_score(y_train, y_train_pred))\n",
    "    test_scores.append(metrics.accuracy_score(y_test, y_test_pred))\n",
    "    \n",
    "# Рисунок\n",
    "max_depth = list(range(1,14))\n",
    "fig = plt.figure(figsize=(6.5, 4))\n",
    "ax = sns.lineplot(x=max_depth, y=train_scores, label='Train sample')\n",
    "sns.lineplot(x=max_depth, y=test_scores, label='Test sample')\n",
    "ax.set(xlabel='Tree maximum depth', ylabel='Accuracy')\n",
    "ax.set_title('Validation curve\\n', fontsize=16);\n",
    "\n",
    "# Оптимальный параметр\n",
    "print(f'Максимальная точность на тесте: {np.amax(test_scores):.2f}')\n",
    "print(f'Оптимальная глубина дерева: {np.argmax(test_scores)}')"
   ]
  },
  {
   "cell_type": "markdown",
   "id": "fe823c18",
   "metadata": {},
   "source": [
    "### Задание 3"
   ]
  },
  {
   "cell_type": "code",
   "execution_count": 59,
   "id": "63574943",
   "metadata": {},
   "outputs": [
    {
     "name": "stdout",
     "output_type": "stream",
     "text": [
      "f1 на тренировочной выборке: 0.83\n",
      "f1 на тестовом наборе: 0.80\n",
      "Наилучшие значения гиперпараметров: {'max_depth': 7, 'min_samples_split': 7}\n"
     ]
    }
   ],
   "source": [
    "# подберите оптимальные параметры с помощью gridsearch\n",
    "# Сетка параметров\n",
    "param_grid = [\n",
    "    {'max_depth': [3, 5, 7],\n",
    "     'min_samples_split': [2, 5, 7, 10]\n",
    "    }\n",
    "]\n",
    "\n",
    "# Поиск по сетке параметров с кросс-валидацией (5 фолдов)\n",
    "grid_search_rf = GridSearchCV(\n",
    "    estimator = tree.DecisionTreeClassifier(criterion='entropy', random_state=42), \n",
    "    param_grid=param_grid, \n",
    "    scoring = 'f1',\n",
    ")  \n",
    "grid_search_rf.fit(X_train, y_train) \n",
    "y_train_pred = grid_search_rf.predict(X_train)\n",
    "y_test_pred = grid_search_rf.predict(X_test)\n",
    "\n",
    "print(\"f1 на тренировочной выборке: {:.2f}\".format(metrics.f1_score(y_train, y_train_pred)))\n",
    "print('f1 на тестовом наборе: {:.2f}'.format(metrics.f1_score(y_test, y_test_pred)))\n",
    "print(\"Наилучшие значения гиперпараметров: {}\".format(grid_search_rf.best_params_))"
   ]
  },
  {
   "cell_type": "markdown",
   "id": "ed0fc831",
   "metadata": {},
   "source": [
    "# Часть 5: Решение задачи классификации: ансамбли моделей и построение прогноза"
   ]
  },
  {
   "cell_type": "markdown",
   "id": "f9e36ff2",
   "metadata": {},
   "source": [
    "### Задание 1"
   ]
  },
  {
   "cell_type": "code",
   "execution_count": 60,
   "id": "e708e3fe",
   "metadata": {},
   "outputs": [
    {
     "name": "stdout",
     "output_type": "stream",
     "text": [
      "Тестовая выборка:\n",
      "              precision    recall  f1-score   support\n",
      "\n",
      "           0      0.839     0.808     0.824      1790\n",
      "           1      0.787     0.821     0.804      1545\n",
      "\n",
      "    accuracy                          0.814      3335\n",
      "   macro avg      0.813     0.815     0.814      3335\n",
      "weighted avg      0.815     0.814     0.814      3335\n",
      "\n"
     ]
    }
   ],
   "source": [
    "# обучите на ваших данных случайный лес\n",
    "#Создаём объект класса RandomForestClassifier\n",
    "rf_clf = ensemble.RandomForestClassifier(\n",
    "    n_estimators=100, #число деревьев\n",
    "    criterion='gini', #критерий эффективности\n",
    "    min_samples_leaf = 5, #минимальное число объектов в листе\n",
    "    max_depth=10, #максимальная глубина дерева\n",
    "    random_state=42 #генератор случайных чисел\n",
    ")\n",
    "#Обучаем модель \n",
    "rf_clf.fit(X_train, y_train)\n",
    " \n",
    "#Делаем предсказание класса\n",
    "y_pred = rf_clf.predict(X_test)\n",
    "#Выводим отчёт о метриках\n",
    "print('Тестовая выборка:\\n{}'.format(\n",
    "    metrics.classification_report(y_test, y_test_pred, digits=3)))"
   ]
  },
  {
   "cell_type": "markdown",
   "id": "71d7b13d",
   "metadata": {},
   "source": [
    "### Задание 2"
   ]
  },
  {
   "cell_type": "code",
   "execution_count": 61,
   "id": "99f12dfe",
   "metadata": {},
   "outputs": [
    {
     "name": "stdout",
     "output_type": "stream",
     "text": [
      "Тестовая выборка:\n",
      "              precision    recall  f1-score   support\n",
      "\n",
      "           0      0.850     0.822     0.836      1790\n",
      "           1      0.801     0.832     0.816      1545\n",
      "\n",
      "    accuracy                          0.826      3335\n",
      "   macro avg      0.825     0.827     0.826      3335\n",
      "weighted avg      0.827     0.826     0.827      3335\n",
      "\n"
     ]
    }
   ],
   "source": [
    "# используйте для классификации градиентный бустинг и сравните качество со случайным лесом\n",
    "gboost = ensemble.GradientBoostingClassifier(\n",
    "    learning_rate=0.05, n_estimators=300, min_samples_leaf=5,\n",
    "    max_depth=5, random_state=42)\n",
    "gboost.fit(X_train, y_train)\n",
    "\n",
    "y_test_pred = gboost.predict(X_test)\n",
    "print('Тестовая выборка:\\n{}'.format(\n",
    "    metrics.classification_report(y_test, y_test_pred, digits=3)))"
   ]
  },
  {
   "cell_type": "markdown",
   "id": "b08718ae",
   "metadata": {},
   "source": [
    "### Задание3"
   ]
  },
  {
   "cell_type": "code",
   "execution_count": 62,
   "id": "0bd42fb0",
   "metadata": {},
   "outputs": [
    {
     "name": "stdout",
     "output_type": "stream",
     "text": [
      "Тестовая выборка:\n",
      "              precision    recall  f1-score   support\n",
      "\n",
      "           0      0.836     0.835     0.835      1790\n",
      "           1      0.809     0.810     0.810      1545\n",
      "\n",
      "    accuracy                          0.823      3335\n",
      "   macro avg      0.822     0.822     0.822      3335\n",
      "weighted avg      0.823     0.823     0.823      3335\n",
      "\n"
     ]
    }
   ],
   "source": [
    "# объедините уже известные вам алгоритмы с помощью стекинга \n",
    "dtree = tree.DecisionTreeClassifier(\n",
    "    criterion='entropy', max_depth=7, min_samples_split=7, random_state=42)\n",
    "logregr = linear_model.LogisticRegression(\n",
    "    solver='sag', max_iter=1000, random_state=42)\n",
    "gboost = ensemble.GradientBoostingClassifier(\n",
    "    learning_rate=0.05, n_estimators=300, min_samples_leaf=5, \n",
    "    max_depth=5, random_state=42)\n",
    "\n",
    "estimators = [\n",
    "    ('dtree', dtree), ('logregr', logregr), ('gboost', gboost)]\n",
    "\n",
    "stacked = ensemble.StackingClassifier(estimators=estimators)\n",
    "stacked.fit(X_train, y_train)\n",
    "\n",
    "y_test_pred = stacked.predict(X_test)\n",
    "print('Тестовая выборка:\\n{}'.format(\n",
    "    metrics.classification_report(y_test, y_test_pred, digits=3)))"
   ]
  },
  {
   "cell_type": "markdown",
   "id": "6247a5fb",
   "metadata": {},
   "source": [
    "### Задание 4"
   ]
  },
  {
   "cell_type": "code",
   "execution_count": 63,
   "id": "35de769c",
   "metadata": {},
   "outputs": [
    {
     "data": {
      "text/plain": [
       "array(['balance', 'duration', 'poutcome_success'], dtype=object)"
      ]
     },
     "execution_count": 63,
     "metadata": {},
     "output_type": "execute_result"
    }
   ],
   "source": [
    "# оцените, какие признаки демонстрируют наибольшую  важность в модели градиентного бустинга\n",
    "from sklearn.feature_selection import RFE\n",
    " \n",
    "estimator = ensemble.GradientBoostingClassifier(\n",
    "    learning_rate=0.05, n_estimators=300, min_samples_leaf=5, \n",
    "    max_depth=5, random_state=42)\n",
    "selector = RFE(estimator, n_features_to_select=3, step=1)\n",
    "selector = selector.fit(X_train, y_train)\n",
    " \n",
    "selector.get_feature_names_out()"
   ]
  },
  {
   "cell_type": "code",
   "execution_count": 64,
   "id": "23f470d5",
   "metadata": {},
   "outputs": [
    {
     "data": {
      "text/plain": [
       "array([ 1,  4,  1,  8,  3, 11,  5, 12,  2,  6,  9,  7, 10,  1, 13])"
      ]
     },
     "execution_count": 64,
     "metadata": {},
     "output_type": "execute_result"
    }
   ],
   "source": [
    "selector.ranking_"
   ]
  },
  {
   "cell_type": "code",
   "execution_count": 65,
   "id": "384840fa",
   "metadata": {},
   "outputs": [
    {
     "data": {
      "text/plain": [
       "Index(['balance', 'housing', 'duration', 'campaign', 'pdays', 'previous',\n",
       "       'age_group', 'contact_cellular', 'contact_unknown', 'month_mar',\n",
       "       'month_may', 'month_oct', 'month_sep', 'poutcome_success',\n",
       "       'poutcome_unknown'],\n",
       "      dtype='object')"
      ]
     },
     "execution_count": 65,
     "metadata": {},
     "output_type": "execute_result"
    }
   ],
   "source": [
    "X_train.columns"
   ]
  },
  {
   "cell_type": "markdown",
   "id": "96974dda",
   "metadata": {},
   "source": [
    "### Задание 5"
   ]
  },
  {
   "cell_type": "code",
   "execution_count": 66,
   "id": "6236b3f1",
   "metadata": {},
   "outputs": [
    {
     "ename": "NameError",
     "evalue": "name 'obj_func' is not defined",
     "output_type": "error",
     "traceback": [
      "\u001b[1;31m---------------------------------------------------------------------------\u001b[0m",
      "\u001b[1;31mNameError\u001b[0m                                 Traceback (most recent call last)",
      "\u001b[1;32mC:\\Temp/ipykernel_24104/189220002.py\u001b[0m in \u001b[0;36m<module>\u001b[1;34m\u001b[0m\n\u001b[0;32m     22\u001b[0m study_rf = optuna.create_study(\n\u001b[0;32m     23\u001b[0m     sampler=sampler, study_name='RandomForestClassifier', direction='maximize')\n\u001b[1;32m---> 24\u001b[1;33m \u001b[0mstudy_rf\u001b[0m\u001b[1;33m.\u001b[0m\u001b[0moptimize\u001b[0m\u001b[1;33m(\u001b[0m\u001b[0mobj_func\u001b[0m\u001b[1;33m,\u001b[0m \u001b[0mn_trials\u001b[0m\u001b[1;33m=\u001b[0m\u001b[1;36m20\u001b[0m\u001b[1;33m)\u001b[0m\u001b[1;33m\u001b[0m\u001b[1;33m\u001b[0m\u001b[0m\n\u001b[0m\u001b[0;32m     25\u001b[0m \u001b[1;33m\u001b[0m\u001b[0m\n\u001b[0;32m     26\u001b[0m \u001b[1;33m\u001b[0m\u001b[0m\n",
      "\u001b[1;31mNameError\u001b[0m: name 'obj_func' is not defined"
     ]
    }
   ],
   "source": [
    "random_state = 42\n",
    "def optuna_rf(trial):\n",
    "    # задаем пространства поиска гиперпараметров\n",
    "    n_estimators = trial.suggest_int('n_estimators', 100, 200, 1)\n",
    "    max_depth = trial.suggest_int('max_depth', 10, 30, 1)\n",
    "    min_samples_leaf = trial.suggest_int('min_samples_leaf', 2, 10, 1)\n",
    "\n",
    "    # создаем модель\n",
    "    model = ensemble.RandomForestClassifier(n_estimators=n_estimators,\n",
    "            max_depth=max_depth,\n",
    "            min_samples_leaf=min_samples_leaf,\n",
    "            random_state=42)\n",
    "    # обучаем модель\n",
    "    model.fit(X_train_scaled, y_train)\n",
    "    score = metrics.f1_score(y_train, model.predict(X_train_scaled))\n",
    "\n",
    "    return score\n",
    "\n",
    "# Поиск оптимальных гиперпараметров\n",
    "optuna.logging.set_verbosity(optuna.logging.WARNING)\n",
    "sampler = optuna.samplers.TPESampler(seed=42)\n",
    "study_rf = optuna.create_study(\n",
    "    sampler=sampler, study_name='RandomForestClassifier', direction='maximize')\n",
    "study_rf.optimize(obj_func, n_trials=20)\n",
    "\n",
    "\n",
    "# Модель с лучшими параметрами  \n",
    "optuna_rf = ensemble.RandomForestClassifier(\n",
    "    **study_rf.best_params, class_weight='balanced', n_jobs=-1,\n",
    "    random_state=42\n",
    ")\n",
    "optuna_rf.fit(X_train, y_train)\n",
    "y_train_pred = optuna_rf.predict(X_train)\n",
    "y_test_pred = optuna_rf.predict(X_test)"
   ]
  },
  {
   "cell_type": "code",
   "execution_count": null,
   "id": "a872c0f6",
   "metadata": {},
   "outputs": [],
   "source": [
    "print('Тестовая выборка:\\n{}'.format(\n",
    "    metrics.classification_report(y_test, y_test_pred, digits=3)))"
   ]
  }
 ],
 "metadata": {
  "kernelspec": {
   "display_name": "Python 3 (ipykernel)",
   "language": "python",
   "name": "python3"
  },
  "language_info": {
   "codemirror_mode": {
    "name": "ipython",
    "version": 3
   },
   "file_extension": ".py",
   "mimetype": "text/x-python",
   "name": "python",
   "nbconvert_exporter": "python",
   "pygments_lexer": "ipython3",
   "version": "3.9.5"
  }
 },
 "nbformat": 4,
 "nbformat_minor": 5
}
