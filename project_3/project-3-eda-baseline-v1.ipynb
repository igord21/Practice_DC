{
 "cells": [
  {
   "cell_type": "code",
   "execution_count": 65,
   "metadata": {
    "_cell_guid": "b1076dfc-b9ad-4769-8c92-a6c4dae69d19",
    "_uuid": "8f2839f25d086af736a60e9eeb907d3b93b6e0e5",
    "execution": {
     "iopub.execute_input": "2022-05-23T15:17:53.145220Z",
     "iopub.status.busy": "2022-05-23T15:17:53.144962Z",
     "iopub.status.idle": "2022-05-23T15:17:53.167591Z",
     "shell.execute_reply": "2022-05-23T15:17:53.166954Z",
     "shell.execute_reply.started": "2022-05-23T15:17:53.145193Z"
    }
   },
   "outputs": [],
   "source": [
    "# !pip install geocoder\n",
    "# !pip3 install nltk\n",
    "# This Python 3 environment comes with many helpful analytics libraries installed\n",
    "# It is defined by the kaggle/python Docker image: https://github.com/kaggle/docker-python\n",
    "# For example, here's several helpful packages to load\n",
    "\n",
    "import numpy as np # linear algebra\n",
    "import pandas as pd # data processing, CSV file I/O (e.g. pd.read_csv)\n",
    "import category_encoders as ce # transformers for encoding categorical variables into numeric with different techniques\n",
    "import ast # abstract syntax tree\n",
    "\n",
    "# импортируем библиотеки для визуализации\n",
    "import matplotlib.pyplot as plt\n",
    "import seaborn as sns \n",
    "%matplotlib inline\n",
    "\n",
    "# Загружаем специальный удобный инструмент для разделения датасета:\n",
    "from sklearn.model_selection import train_test_split\n",
    "from sklearn import preprocessing\n",
    "\n",
    "import geocoder\n",
    "import geopy.distance\n",
    "\n",
    "# анализ текста\n",
    "import nltk\n",
    "from nltk.sentiment.vader import SentimentIntensityAnalyzer\n",
    "import time\n",
    "import re\n",
    "# Input data files are available in the read-only \"../input/\" directory\n",
    "# For example, running this (by clicking run or pressing Shift+Enter) will list all files under the input directory\n",
    "\n",
    "import os\n",
    "for dirname, _, filenames in os.walk('/kaggle/input'):\n",
    "    for filename in filenames:\n",
    "        print(os.path.join(dirname, filename))\n",
    "\n",
    "# You can write up to 20GB to the current directory (/kaggle/working/) that gets preserved as output when you create a version using \"Save & Run All\" \n",
    "# You can also write temporary files to /kaggle/temp/, but they won't be saved outside of the current session"
   ]
  },
  {
   "cell_type": "code",
   "execution_count": 66,
   "metadata": {
    "execution": {
     "iopub.execute_input": "2022-05-23T15:17:59.396461Z",
     "iopub.status.busy": "2022-05-23T15:17:59.395627Z",
     "iopub.status.idle": "2022-05-23T15:17:59.400297Z",
     "shell.execute_reply": "2022-05-23T15:17:59.399599Z",
     "shell.execute_reply.started": "2022-05-23T15:17:59.396375Z"
    }
   },
   "outputs": [],
   "source": [
    "# всегда фиксируйте RANDOM_SEED, чтобы ваши эксперименты были воспроизводимы!\n",
    "RANDOM_SEED = 42"
   ]
  },
  {
   "cell_type": "code",
   "execution_count": null,
   "metadata": {
    "execution": {
     "iopub.execute_input": "2022-05-23T14:05:05.544421Z",
     "iopub.status.busy": "2022-05-23T14:05:05.54365Z",
     "iopub.status.idle": "2022-05-23T14:05:09.257153Z",
     "shell.execute_reply": "2022-05-23T14:05:09.25619Z",
     "shell.execute_reply.started": "2022-05-23T14:05:05.54433Z"
    }
   },
   "outputs": [],
   "source": [
    "# зафиксируем версию пакетов, чтобы эксперименты были воспроизводимы:\n",
    "!pip freeze > requirements.txt"
   ]
  },
  {
   "cell_type": "code",
   "execution_count": 117,
   "metadata": {
    "execution": {
     "iopub.execute_input": "2022-05-23T15:54:59.938021Z",
     "iopub.status.busy": "2022-05-23T15:54:59.937714Z",
     "iopub.status.idle": "2022-05-23T15:55:04.076382Z",
     "shell.execute_reply": "2022-05-23T15:55:04.075726Z",
     "shell.execute_reply.started": "2022-05-23T15:54:59.937987Z"
    }
   },
   "outputs": [],
   "source": [
    "# Подгрузим наши данные из соревнования\n",
    "\n",
    "DATA_DIR = '/kaggle/input/sf-booking/'\n",
    "df_train = pd.read_csv(DATA_DIR+'/hotels_train.csv') # датасет для обучения\n",
    "df_test = pd.read_csv(DATA_DIR+'hotels_test.csv') # датасет для предсказания\n",
    "sample_submission = pd.read_csv(DATA_DIR+'/submission.csv') # самбмишн"
   ]
  },
  {
   "cell_type": "code",
   "execution_count": 118,
   "metadata": {
    "execution": {
     "iopub.execute_input": "2022-05-23T15:55:05.961077Z",
     "iopub.status.busy": "2022-05-23T15:55:05.960388Z",
     "iopub.status.idle": "2022-05-23T15:55:06.696088Z",
     "shell.execute_reply": "2022-05-23T15:55:06.695226Z",
     "shell.execute_reply.started": "2022-05-23T15:55:05.961040Z"
    }
   },
   "outputs": [],
   "source": [
    "# ВАЖНО! дря корректной обработки признаков объединяем трейн и тест в один датасет\n",
    "df_train['sample'] = 1 # помечаем где у нас трейн\n",
    "df_test['sample'] = 0 # помечаем где у нас тест\n",
    "df_test['reviewer_score'] = 0 # в тесте у нас нет значения reviewer_score, мы его должны предсказать, по этому пока просто заполняем нулями\n",
    "\n",
    "data = df_test.append(df_train, sort=False).reset_index(drop=True) # объединяем"
   ]
  },
  {
   "cell_type": "code",
   "execution_count": 119,
   "metadata": {
    "execution": {
     "iopub.execute_input": "2022-05-23T15:55:10.676232Z",
     "iopub.status.busy": "2022-05-23T15:55:10.675933Z",
     "iopub.status.idle": "2022-05-23T15:55:11.149844Z",
     "shell.execute_reply": "2022-05-23T15:55:11.149138Z",
     "shell.execute_reply.started": "2022-05-23T15:55:10.676196Z"
    }
   },
   "outputs": [],
   "source": [
    "# Просмотрим на наши данные и их состав\n",
    "data.info()"
   ]
  },
  {
   "cell_type": "markdown",
   "metadata": {},
   "source": [
    "## Поработаем с географическими данными отелей\n",
    "#### Видим что в данных долготы и широты есть пропуски, заполним их с помощью библиотеки `geocoder`"
   ]
  },
  {
   "cell_type": "code",
   "execution_count": 120,
   "metadata": {
    "execution": {
     "iopub.execute_input": "2022-05-23T15:55:13.877921Z",
     "iopub.status.busy": "2022-05-23T15:55:13.877473Z",
     "iopub.status.idle": "2022-05-23T15:55:48.236083Z",
     "shell.execute_reply": "2022-05-23T15:55:48.235082Z",
     "shell.execute_reply.started": "2022-05-23T15:55:13.877873Z"
    }
   },
   "outputs": [],
   "source": [
    "fill_lat = data.groupby(['hotel_address'], as_index = False)['lat'].median()\n",
    "fill_lat.rename(columns={'lat':'fill_lat'}, inplace=True)\n",
    "null_lat=fill_lat[fill_lat.isna().any(axis=1)] #получаем список отелей с пропуском географической широты\n",
    "# заполняем пропуски с помощью geocoder\n",
    "null_lat['fill_lat']=null_lat['hotel_address'].apply(lambda x: geocoder.opencage(x,  key='924f41fc864d4bed8c9b438bff7c67e1',timeout=None ).json['lat'])\n",
    "data = data.merge(null_lat, on=['hotel_address'], how = 'left') # вовзращаем значения в data\n",
    "data['lat']=data['lat'].fillna(data['fill_lat'])\n",
    "#null_lat\n",
    "\n",
    "# аналогично для долготы\n",
    "fill_lng = data.groupby(['hotel_address'], as_index = False)['lng'].median()\n",
    "fill_lng.rename(columns={'lng':'fill_lng'}, inplace=True)\n",
    "null_lng=fill_lng[fill_lng.isna().any(axis=1)] \n",
    "null_lng['fill_lng']=null_lng['hotel_address'].apply(lambda x: geocoder.opencage(x,  key='924f41fc864d4bed8c9b438bff7c67e1', timeout=None).json['lng'])\n",
    "data = data.merge(null_lng, on=['hotel_address'], how = 'left')\n",
    "data['lng']=data['lng'].fillna(data['fill_lng'])\n",
    "#null_lng"
   ]
  },
  {
   "cell_type": "code",
   "execution_count": 121,
   "metadata": {
    "execution": {
     "iopub.execute_input": "2022-05-23T15:56:38.074274Z",
     "iopub.status.busy": "2022-05-23T15:56:38.073958Z",
     "iopub.status.idle": "2022-05-23T15:56:38.300146Z",
     "shell.execute_reply": "2022-05-23T15:56:38.299232Z",
     "shell.execute_reply.started": "2022-05-23T15:56:38.074238Z"
    }
   },
   "outputs": [],
   "source": [
    "# Удалим прмежуточный данные\n",
    "data = data.drop(['fill_lat', 'fill_lng'], axis=1)"
   ]
  },
  {
   "cell_type": "code",
   "execution_count": 122,
   "metadata": {
    "execution": {
     "iopub.execute_input": "2022-05-23T15:56:40.291169Z",
     "iopub.status.busy": "2022-05-23T15:56:40.290900Z",
     "iopub.status.idle": "2022-05-23T15:56:40.765351Z",
     "shell.execute_reply": "2022-05-23T15:56:40.764412Z",
     "shell.execute_reply.started": "2022-05-23T15:56:40.291141Z"
    }
   },
   "outputs": [],
   "source": [
    "# Видиим что пропусков в данных больше нету\n",
    "data.info()"
   ]
  },
  {
   "cell_type": "markdown",
   "metadata": {},
   "source": [
    "### Работаем с адресом отеля"
   ]
  },
  {
   "cell_type": "code",
   "execution_count": 123,
   "metadata": {
    "execution": {
     "iopub.execute_input": "2022-05-23T15:56:43.428374Z",
     "iopub.status.busy": "2022-05-23T15:56:43.428074Z",
     "iopub.status.idle": "2022-05-23T15:56:44.267889Z",
     "shell.execute_reply": "2022-05-23T15:56:44.267043Z",
     "shell.execute_reply.started": "2022-05-23T15:56:43.428340Z"
    }
   },
   "outputs": [],
   "source": [
    "# Получаем название город из адреса\n",
    "def get_city(address):\n",
    "    if address.split()[-1] == 'Kingdom':\n",
    "        return address.split()[-5]\n",
    "    else:\n",
    "        return address.split()[-2]\n",
    "    \n",
    "data['city'] = data['hotel_address'].apply(get_city)"
   ]
  },
  {
   "cell_type": "code",
   "execution_count": 124,
   "metadata": {
    "execution": {
     "iopub.execute_input": "2022-05-23T15:56:47.478929Z",
     "iopub.status.busy": "2022-05-23T15:56:47.478657Z",
     "iopub.status.idle": "2022-05-23T15:56:47.583878Z",
     "shell.execute_reply": "2022-05-23T15:56:47.582971Z",
     "shell.execute_reply.started": "2022-05-23T15:56:47.478902Z"
    }
   },
   "outputs": [],
   "source": [
    "# Выведем количество отелей в каждом городе\n",
    "data['city'].value_counts()"
   ]
  },
  {
   "cell_type": "code",
   "execution_count": 125,
   "metadata": {
    "execution": {
     "iopub.execute_input": "2022-05-23T15:56:50.120939Z",
     "iopub.status.busy": "2022-05-23T15:56:50.120616Z",
     "iopub.status.idle": "2022-05-23T15:56:50.644624Z",
     "shell.execute_reply": "2022-05-23T15:56:50.643745Z",
     "shell.execute_reply.started": "2022-05-23T15:56:50.120905Z"
    }
   },
   "outputs": [],
   "source": [
    "# Так как колчиство городов не большое их можно закодировать, кодируем города\n",
    "encoder = ce.OneHotEncoder(cols=['city'])\n",
    "type_bin = encoder.fit_transform(data['city'])\n",
    "data = pd.concat([data, type_bin], axis=1)"
   ]
  },
  {
   "cell_type": "markdown",
   "metadata": {},
   "source": [
    "### Поработаем со страной рецензента"
   ]
  },
  {
   "cell_type": "code",
   "execution_count": 126,
   "metadata": {
    "execution": {
     "iopub.execute_input": "2022-05-23T15:56:53.852251Z",
     "iopub.status.busy": "2022-05-23T15:56:53.851981Z",
     "iopub.status.idle": "2022-05-23T15:56:54.793032Z",
     "shell.execute_reply": "2022-05-23T15:56:54.792126Z",
     "shell.execute_reply.started": "2022-05-23T15:56:53.852223Z"
    }
   },
   "outputs": [],
   "source": [
    "# Преобразуем страну рецензента. Для этого оставим только страны,которые составляют хотя\n",
    "# бы 1 процент от всего количества.\n",
    "reviewer_nationality_percent = data['reviewer_nationality'].value_counts() \\\n",
    "                               / data['reviewer_nationality'].count() * 100\n",
    "reviewer_nationality_percent = reviewer_nationality_percent[reviewer_nationality_percent > 1]\n",
    "data['reviewer_nationality_new'] = data['reviewer_nationality'] \\\n",
    "                                   .apply(lambda x: x if x in reviewer_nationality_percent else ' Other ')"
   ]
  },
  {
   "cell_type": "code",
   "execution_count": 127,
   "metadata": {
    "execution": {
     "iopub.execute_input": "2022-05-23T15:56:57.796516Z",
     "iopub.status.busy": "2022-05-23T15:56:57.796215Z",
     "iopub.status.idle": "2022-05-23T15:56:57.883396Z",
     "shell.execute_reply": "2022-05-23T15:56:57.882611Z",
     "shell.execute_reply.started": "2022-05-23T15:56:57.796483Z"
    }
   },
   "outputs": [],
   "source": [
    "data['reviewer_nationality_new'].value_counts()"
   ]
  },
  {
   "cell_type": "code",
   "execution_count": 128,
   "metadata": {
    "execution": {
     "iopub.execute_input": "2022-05-23T15:57:00.736916Z",
     "iopub.status.busy": "2022-05-23T15:57:00.736628Z",
     "iopub.status.idle": "2022-05-23T15:57:00.929812Z",
     "shell.execute_reply": "2022-05-23T15:57:00.929014Z",
     "shell.execute_reply.started": "2022-05-23T15:57:00.736878Z"
    }
   },
   "outputs": [],
   "source": [
    "# кодируем страну с помощью  метода LabelEncode\n",
    "from sklearn import preprocessing\n",
    "from sklearn.preprocessing import LabelEncoder\n",
    "data['reviewer_nationality'] = LabelEncoder().fit_transform(data['reviewer_nationality'])\n",
    "data.head(3)"
   ]
  },
  {
   "cell_type": "markdown",
   "metadata": {},
   "source": [
    "### Работа с датами отзывов"
   ]
  },
  {
   "cell_type": "code",
   "execution_count": 129,
   "metadata": {
    "execution": {
     "iopub.execute_input": "2022-05-23T15:57:04.419341Z",
     "iopub.status.busy": "2022-05-23T15:57:04.418618Z",
     "iopub.status.idle": "2022-05-23T15:57:04.644656Z",
     "shell.execute_reply": "2022-05-23T15:57:04.644038Z",
     "shell.execute_reply.started": "2022-05-23T15:57:04.419299Z"
    }
   },
   "outputs": [],
   "source": [
    "# Так загруженность отеля зависит от сезона, то скорее всего этот параметр будет влиять на оценку отеля, порабатаем с этим параметром. Извлечем месяц из даты отзыва\n",
    "# Переводим нужную нам информацию в формат datatime\n",
    "data['review_date'] = pd.to_datetime(data['review_date'])\n",
    "data['month'] = data['review_date'].dt.month"
   ]
  },
  {
   "cell_type": "code",
   "execution_count": 130,
   "metadata": {
    "execution": {
     "iopub.execute_input": "2022-05-23T15:57:08.031188Z",
     "iopub.status.busy": "2022-05-23T15:57:08.030596Z",
     "iopub.status.idle": "2022-05-23T15:57:08.305406Z",
     "shell.execute_reply": "2022-05-23T15:57:08.304518Z",
     "shell.execute_reply.started": "2022-05-23T15:57:08.031146Z"
    }
   },
   "outputs": [],
   "source": [
    "# Удаляем промежуточные данные\n",
    "data = data.drop(['review_date'], axis=1)"
   ]
  },
  {
   "cell_type": "code",
   "execution_count": 131,
   "metadata": {
    "execution": {
     "iopub.execute_input": "2022-05-23T15:57:10.374045Z",
     "iopub.status.busy": "2022-05-23T15:57:10.373754Z",
     "iopub.status.idle": "2022-05-23T15:57:10.632716Z",
     "shell.execute_reply": "2022-05-23T15:57:10.631969Z",
     "shell.execute_reply.started": "2022-05-23T15:57:10.374014Z"
    }
   },
   "outputs": [],
   "source": [
    "# Преобразуем месяц в сезон\n",
    "def get_season(m):\n",
    "    if (1 <= m <= 2) or m == 12:\n",
    "        return \"winter\"\n",
    "    if 3 <= m <= 5:\n",
    "        return \"spring\"\n",
    "    if 6 <= m <= 8:\n",
    "        return \"summer\"\n",
    "    if 9 <= m <= 11:\n",
    "        return \"autumn\"\n",
    "\n",
    "data['season'] = data['month'].apply(get_season)"
   ]
  },
  {
   "cell_type": "code",
   "execution_count": 132,
   "metadata": {
    "execution": {
     "iopub.execute_input": "2022-05-23T15:57:12.908779Z",
     "iopub.status.busy": "2022-05-23T15:57:12.908182Z",
     "iopub.status.idle": "2022-05-23T15:57:13.304478Z",
     "shell.execute_reply": "2022-05-23T15:57:13.303626Z",
     "shell.execute_reply.started": "2022-05-23T15:57:12.908729Z"
    }
   },
   "outputs": [],
   "source": [
    "# кодируем сезон\n",
    "encoder = ce.OneHotEncoder(cols=['season'])\n",
    "season_bin = encoder.fit_transform(data['season'])\n",
    "data = pd.concat([data, season_bin], axis=1)"
   ]
  },
  {
   "cell_type": "code",
   "execution_count": 133,
   "metadata": {
    "execution": {
     "iopub.execute_input": "2022-05-23T15:57:15.562880Z",
     "iopub.status.busy": "2022-05-23T15:57:15.562565Z",
     "iopub.status.idle": "2022-05-23T15:57:16.295732Z",
     "shell.execute_reply": "2022-05-23T15:57:16.294798Z",
     "shell.execute_reply.started": "2022-05-23T15:57:15.562848Z"
    }
   },
   "outputs": [],
   "source": [
    "# Преобразуем строку с количеством дней прошедших с последней оценки в число\n",
    "data['review_update'] = data['days_since_review'].apply(lambda s: s.split()[0])\n",
    "data['review_update'] = data['review_update'].astype('int')\n",
    "\n",
    "# удаляем признак days_since_review\n",
    "data = data.drop(['days_since_review'], axis=1)"
   ]
  },
  {
   "cell_type": "markdown",
   "metadata": {},
   "source": [
    "### Работа с отзывами"
   ]
  },
  {
   "cell_type": "code",
   "execution_count": 134,
   "metadata": {
    "execution": {
     "iopub.execute_input": "2022-05-23T15:57:19.402617Z",
     "iopub.status.busy": "2022-05-23T15:57:19.402312Z",
     "iopub.status.idle": "2022-05-23T16:01:52.431655Z",
     "shell.execute_reply": "2022-05-23T16:01:52.430813Z",
     "shell.execute_reply.started": "2022-05-23T15:57:19.402586Z"
    }
   },
   "outputs": [],
   "source": [
    "# Анализ отзывов negative_review и positive_review\n",
    "nltk.downloader.download('vader_lexicon')\n",
    "sent_analyzer = SentimentIntensityAnalyzer()\n",
    "\n",
    "# анализ позитивных отзывов\n",
    "data['pos_review'] = data['positive_review'].apply(lambda s: sent_analyzer.polarity_scores(s)['pos'])\n",
    "\n",
    "# анализ негативных отзывов\n",
    "data['neg_review'] = data['negative_review'].apply(lambda s: sent_analyzer.polarity_scores(s)['neg'])"
   ]
  },
  {
   "cell_type": "code",
   "execution_count": 135,
   "metadata": {
    "execution": {
     "iopub.execute_input": "2022-05-23T16:02:46.486997Z",
     "iopub.status.busy": "2022-05-23T16:02:46.486325Z",
     "iopub.status.idle": "2022-05-23T16:02:46.604448Z",
     "shell.execute_reply": "2022-05-23T16:02:46.603233Z",
     "shell.execute_reply.started": "2022-05-23T16:02:46.486939Z"
    }
   },
   "outputs": [],
   "source": [
    "# Удаляем промежуточные данные\n",
    "data = data.drop(['negative_review', 'positive_review'], axis=1)"
   ]
  },
  {
   "cell_type": "code",
   "execution_count": 136,
   "metadata": {
    "execution": {
     "iopub.execute_input": "2022-05-23T16:02:49.334097Z",
     "iopub.status.busy": "2022-05-23T16:02:49.333818Z",
     "iopub.status.idle": "2022-05-23T16:02:49.856094Z",
     "shell.execute_reply": "2022-05-23T16:02:49.855133Z",
     "shell.execute_reply.started": "2022-05-23T16:02:49.334068Z"
    }
   },
   "outputs": [],
   "source": [
    "# Подсичтаем количество уникальных значений \n",
    "data.nunique(dropna=False)"
   ]
  },
  {
   "cell_type": "code",
   "execution_count": 137,
   "metadata": {
    "execution": {
     "iopub.execute_input": "2022-05-23T16:02:52.693154Z",
     "iopub.status.busy": "2022-05-23T16:02:52.692677Z",
     "iopub.status.idle": "2022-05-23T16:02:57.058447Z",
     "shell.execute_reply": "2022-05-23T16:02:57.057547Z",
     "shell.execute_reply.started": "2022-05-23T16:02:52.693119Z"
    }
   },
   "outputs": [],
   "source": [
    "# Построим матрицу корреляции параметров\n",
    "plt.rcParams['figure.figsize'] = (20,15)\n",
    "sns.heatmap(data.drop(['sample'], axis=1).corr(), annot=True)"
   ]
  },
  {
   "cell_type": "code",
   "execution_count": 138,
   "metadata": {
    "execution": {
     "iopub.execute_input": "2022-05-23T16:03:01.439771Z",
     "iopub.status.busy": "2022-05-23T16:03:01.438801Z",
     "iopub.status.idle": "2022-05-23T16:03:01.512171Z",
     "shell.execute_reply": "2022-05-23T16:03:01.511301Z",
     "shell.execute_reply.started": "2022-05-23T16:03:01.439731Z"
    }
   },
   "outputs": [],
   "source": [
    "# удаляем признак additional_number_of_scoring из-за высокой корреляции с \n",
    "# признаком total_number_of_reviews\n",
    "data = data.drop(['additional_number_of_scoring'], axis=1)"
   ]
  },
  {
   "cell_type": "markdown",
   "metadata": {},
   "source": [
    "### Поработаем с тэгами"
   ]
  },
  {
   "cell_type": "code",
   "execution_count": 139,
   "metadata": {
    "execution": {
     "iopub.execute_input": "2022-05-23T16:03:04.079182Z",
     "iopub.status.busy": "2022-05-23T16:03:04.078340Z",
     "iopub.status.idle": "2022-05-23T16:03:12.059283Z",
     "shell.execute_reply": "2022-05-23T16:03:12.058470Z",
     "shell.execute_reply.started": "2022-05-23T16:03:04.079131Z"
    }
   },
   "outputs": [],
   "source": [
    "#представление тегов списком\n",
    "def tags(col):\n",
    "    res = []\n",
    "    tag_split = col.split(',')\n",
    "    for tag in tag_split:\n",
    "        reg = re.compile('[^a-zA-Z0-9 ]')\n",
    "        res.append(reg.sub('', tag).strip())\n",
    "    return res\n",
    "data['new_tags'] = data['tags'].apply(tags)"
   ]
  },
  {
   "cell_type": "code",
   "execution_count": 140,
   "metadata": {
    "execution": {
     "iopub.execute_input": "2022-05-23T16:03:15.128173Z",
     "iopub.status.busy": "2022-05-23T16:03:15.127657Z",
     "iopub.status.idle": "2022-05-23T16:03:16.465012Z",
     "shell.execute_reply": "2022-05-23T16:03:16.464342Z",
     "shell.execute_reply.started": "2022-05-23T16:03:15.128122Z"
    }
   },
   "outputs": [],
   "source": [
    "# извлечем продолжительность пребывания в отеле\n",
    "def night_number(col):\n",
    "    for tag in col:\n",
    "        if tag.split(' ')[0] == 'Stayed':\n",
    "            return int(tag.split(' ')[1])\n",
    "data['night_number'] = data['new_tags'].apply(night_number)\n",
    "data['night_number'] = data['night_number'].fillna(data['night_number'].median())\n",
    "data['night_number'] = data['night_number'].apply(lambda x: x if x <= 7 else 10)"
   ]
  },
  {
   "cell_type": "code",
   "execution_count": 141,
   "metadata": {
    "execution": {
     "iopub.execute_input": "2022-05-23T16:03:19.160031Z",
     "iopub.status.busy": "2022-05-23T16:03:19.159717Z",
     "iopub.status.idle": "2022-05-23T16:03:22.402702Z",
     "shell.execute_reply": "2022-05-23T16:03:22.401898Z",
     "shell.execute_reply.started": "2022-05-23T16:03:19.159996Z"
    }
   },
   "outputs": [],
   "source": [
    "# теги описание цели поездки\n",
    "conditions = ['Couple','Solo traveler','Business trip','Family with young children','Group','Family with older children','With a pet']\n",
    "\n",
    "data['Couple']=''\n",
    "data['Solo traveler']=''\n",
    "data['Business trip']=''\n",
    "data['Family with young children'] = ''\n",
    "data['Group']=''\n",
    "data['Family with older children']=''\n",
    "data['With a pet']=''\n",
    "\n",
    "for col in data[conditions].columns:\n",
    "    data[col]=data['new_tags'].apply(lambda x: 1 if col in x else 0)"
   ]
  },
  {
   "cell_type": "code",
   "execution_count": 142,
   "metadata": {
    "execution": {
     "iopub.execute_input": "2022-05-23T16:03:25.089706Z",
     "iopub.status.busy": "2022-05-23T16:03:25.089395Z",
     "iopub.status.idle": "2022-05-23T16:03:26.744327Z",
     "shell.execute_reply": "2022-05-23T16:03:26.743442Z",
     "shell.execute_reply.started": "2022-05-23T16:03:25.089674Z"
    }
   },
   "outputs": [],
   "source": [
    "# извлечем тип комнаты\n",
    "def room_type(col):\n",
    "    for tag in col:\n",
    "        if tag.split(' ')[-1] == 'Room':\n",
    "            return tag[:-4]\n",
    "data['room_type'] = data['new_tags'].apply(room_type)\n",
    "\n",
    "room_type =(data['room_type'].value_counts(normalize=True).nlargest(15))\n",
    "data['room_type'] = data['room_type'].apply(lambda x: x.strip() if x in room_type else 'other')\n",
    "room_type*100"
   ]
  },
  {
   "cell_type": "code",
   "execution_count": 143,
   "metadata": {
    "execution": {
     "iopub.execute_input": "2022-05-23T16:03:29.516308Z",
     "iopub.status.busy": "2022-05-23T16:03:29.515273Z",
     "iopub.status.idle": "2022-05-23T16:03:29.853645Z",
     "shell.execute_reply": "2022-05-23T16:03:29.852979Z",
     "shell.execute_reply.started": "2022-05-23T16:03:29.516267Z"
    }
   },
   "outputs": [],
   "source": [
    "# количество тегов\n",
    "data['tags_length'] = data['new_tags'].apply(lambda x: len(x))"
   ]
  },
  {
   "cell_type": "code",
   "execution_count": 144,
   "metadata": {
    "execution": {
     "iopub.execute_input": "2022-05-23T16:03:32.079952Z",
     "iopub.status.busy": "2022-05-23T16:03:32.079494Z",
     "iopub.status.idle": "2022-05-23T16:03:32.433233Z",
     "shell.execute_reply": "2022-05-23T16:03:32.432096Z",
     "shell.execute_reply.started": "2022-05-23T16:03:32.079916Z"
    }
   },
   "outputs": [],
   "source": [
    "# удаляем признаки, созданные при обработке тегов\n",
    "data = data.drop(['tags', 'new_tags', 'room_type'], axis=1)"
   ]
  },
  {
   "cell_type": "code",
   "execution_count": 145,
   "metadata": {
    "execution": {
     "iopub.execute_input": "2022-05-23T16:03:35.095255Z",
     "iopub.status.busy": "2022-05-23T16:03:35.094724Z",
     "iopub.status.idle": "2022-05-23T16:03:35.155980Z",
     "shell.execute_reply": "2022-05-23T16:03:35.155046Z",
     "shell.execute_reply.started": "2022-05-23T16:03:35.095222Z"
    }
   },
   "outputs": [],
   "source": [
    "# убираем признаки которые не обработали, \n",
    "# модель на признаках с dtypes \"object\" обучаться не будет, просто выберим их и удалим\n",
    "object_columns = [s for s in data.columns if data[s].dtypes == 'object']\n",
    "data.drop(object_columns, axis = 1, inplace=True)"
   ]
  },
  {
   "cell_type": "markdown",
   "metadata": {},
   "source": [
    "## Нормализация данных"
   ]
  },
  {
   "cell_type": "code",
   "execution_count": 146,
   "metadata": {
    "execution": {
     "iopub.execute_input": "2022-05-23T16:03:37.883128Z",
     "iopub.status.busy": "2022-05-23T16:03:37.882824Z",
     "iopub.status.idle": "2022-05-23T16:03:37.927348Z",
     "shell.execute_reply": "2022-05-23T16:03:37.926278Z",
     "shell.execute_reply.started": "2022-05-23T16:03:37.883099Z"
    }
   },
   "outputs": [],
   "source": [
    "data.info()"
   ]
  },
  {
   "cell_type": "code",
   "execution_count": null,
   "metadata": {},
   "outputs": [],
   "source": []
  },
  {
   "cell_type": "code",
   "execution_count": 147,
   "metadata": {
    "execution": {
     "iopub.execute_input": "2022-05-23T16:03:46.671266Z",
     "iopub.status.busy": "2022-05-23T16:03:46.670984Z",
     "iopub.status.idle": "2022-05-23T16:03:47.626219Z",
     "shell.execute_reply": "2022-05-23T16:03:47.625455Z",
     "shell.execute_reply.started": "2022-05-23T16:03:46.671237Z"
    }
   },
   "outputs": [],
   "source": [
    "# список численных признаков, требующих внимания\n",
    "cols = ['review_total_negative_word_counts',\n",
    "        'review_total_positive_word_counts',\n",
    "        'total_number_of_reviews_reviewer_has_given', \n",
    "        'total_number_of_reviews',\n",
    "        'average_score'\n",
    "       ]\n",
    "data[cols].hist(figsize=(20, 8))"
   ]
  },
  {
   "cell_type": "code",
   "execution_count": 113,
   "metadata": {
    "execution": {
     "iopub.execute_input": "2022-05-23T15:53:58.107753Z",
     "iopub.status.busy": "2022-05-23T15:53:58.107402Z",
     "iopub.status.idle": "2022-05-23T15:53:58.360513Z",
     "shell.execute_reply": "2022-05-23T15:53:58.359727Z",
     "shell.execute_reply.started": "2022-05-23T15:53:58.107711Z"
    }
   },
   "outputs": [],
   "source": [
    "### логарифмируем признаки\n",
    "\n",
    "data['review_total_positive_word_counts'] = np.log(data['review_total_positive_word_counts']+ 1)\n",
    "\n",
    "data['review_total_negative_word_counts'] = np.log(data['review_total_negative_word_counts']+ 1)\n",
    "\n",
    "data['total_number_of_reviews_reviewer_has_given'] = np.log(data['total_number_of_reviews_reviewer_has_given'])\n",
    "\n",
    "data['total_number_of_reviews'] = np.log(data['total_number_of_reviews'])\n",
    "\n",
    "# скорректируем выброс в average_score\n",
    "data['average_score']=data['average_score'].apply(lambda x: 6.5 if x == 5.2 else x)"
   ]
  },
  {
   "cell_type": "code",
   "execution_count": 153,
   "metadata": {
    "execution": {
     "iopub.execute_input": "2022-05-23T16:05:52.900439Z",
     "iopub.status.busy": "2022-05-23T16:05:52.899652Z",
     "iopub.status.idle": "2022-05-23T16:05:53.843429Z",
     "shell.execute_reply": "2022-05-23T16:05:53.842767Z",
     "shell.execute_reply.started": "2022-05-23T16:05:52.900391Z"
    }
   },
   "outputs": [],
   "source": [
    "# результат\n",
    "data[cols].hist(figsize=(20, 8))"
   ]
  },
  {
   "cell_type": "markdown",
   "metadata": {},
   "source": [
    "Теперь модель можно обучать, т.к. в данных остались только числовые признаки"
   ]
  },
  {
   "cell_type": "code",
   "execution_count": 154,
   "metadata": {
    "execution": {
     "iopub.execute_input": "2022-05-23T16:06:06.303170Z",
     "iopub.status.busy": "2022-05-23T16:06:06.302719Z",
     "iopub.status.idle": "2022-05-23T16:06:06.451372Z",
     "shell.execute_reply": "2022-05-23T16:06:06.450157Z",
     "shell.execute_reply.started": "2022-05-23T16:06:06.303127Z"
    }
   },
   "outputs": [],
   "source": [
    "# Теперь выделим тестовую часть\n",
    "train_data = data.query('sample == 1').drop(['sample'], axis=1)\n",
    "test_data = data.query('sample == 0').drop(['sample'], axis=1)\n",
    "\n",
    "y = train_data.reviewer_score.values            # наш таргет\n",
    "X = train_data.drop(['reviewer_score'], axis=1)"
   ]
  },
  {
   "cell_type": "code",
   "execution_count": 155,
   "metadata": {
    "execution": {
     "iopub.execute_input": "2022-05-23T16:06:09.073518Z",
     "iopub.status.busy": "2022-05-23T16:06:09.073246Z",
     "iopub.status.idle": "2022-05-23T16:06:09.207628Z",
     "shell.execute_reply": "2022-05-23T16:06:09.206536Z",
     "shell.execute_reply.started": "2022-05-23T16:06:09.073487Z"
    }
   },
   "outputs": [],
   "source": [
    "# Воспользуемся специальной функцие train_test_split для разбивки тестовых данных\n",
    "# выделим 20% данных на валидацию (параметр test_size)\n",
    "X_train, X_test, y_train, y_test = train_test_split(X, y, test_size=0.2, random_state=RANDOM_SEED)"
   ]
  },
  {
   "cell_type": "code",
   "execution_count": 156,
   "metadata": {
    "execution": {
     "iopub.execute_input": "2022-05-23T16:06:11.852902Z",
     "iopub.status.busy": "2022-05-23T16:06:11.851405Z",
     "iopub.status.idle": "2022-05-23T16:06:11.860726Z",
     "shell.execute_reply": "2022-05-23T16:06:11.859862Z",
     "shell.execute_reply.started": "2022-05-23T16:06:11.852845Z"
    }
   },
   "outputs": [],
   "source": [
    "# проверяем\n",
    "test_data.shape, train_data.shape, X.shape, X_train.shape, X_test.shape"
   ]
  },
  {
   "cell_type": "code",
   "execution_count": 157,
   "metadata": {
    "execution": {
     "iopub.execute_input": "2022-05-23T16:06:14.624285Z",
     "iopub.status.busy": "2022-05-23T16:06:14.624011Z",
     "iopub.status.idle": "2022-05-23T16:06:14.736287Z",
     "shell.execute_reply": "2022-05-23T16:06:14.735484Z",
     "shell.execute_reply.started": "2022-05-23T16:06:14.624257Z"
    }
   },
   "outputs": [],
   "source": [
    "# Импортируем необходимые библиотеки:\n",
    "from sklearn.ensemble import RandomForestRegressor # инструмент для создания и обучения модели\n",
    "from sklearn import metrics # инструменты для оценки точности модели"
   ]
  },
  {
   "cell_type": "code",
   "execution_count": 158,
   "metadata": {
    "execution": {
     "iopub.execute_input": "2022-05-23T16:06:17.591475Z",
     "iopub.status.busy": "2022-05-23T16:06:17.591204Z",
     "iopub.status.idle": "2022-05-23T16:06:17.596188Z",
     "shell.execute_reply": "2022-05-23T16:06:17.595559Z",
     "shell.execute_reply.started": "2022-05-23T16:06:17.591446Z"
    }
   },
   "outputs": [],
   "source": [
    "# Создаём модель (НАСТРОЙКИ НЕ ТРОГАЕМ)\n",
    "model = RandomForestRegressor(n_estimators=100, verbose=1, n_jobs=-1, random_state=RANDOM_SEED)"
   ]
  },
  {
   "cell_type": "code",
   "execution_count": 159,
   "metadata": {
    "execution": {
     "iopub.execute_input": "2022-05-23T16:06:20.384468Z",
     "iopub.status.busy": "2022-05-23T16:06:20.383765Z",
     "iopub.status.idle": "2022-05-23T16:08:57.382833Z",
     "shell.execute_reply": "2022-05-23T16:08:57.381750Z",
     "shell.execute_reply.started": "2022-05-23T16:06:20.384424Z"
    }
   },
   "outputs": [],
   "source": [
    "# Обучаем модель на тестовом наборе данных\n",
    "model.fit(X_train, y_train)\n",
    "\n",
    "# Используем обученную модель для предсказания рейтинга ресторанов в тестовой выборке.\n",
    "# Предсказанные значения записываем в переменную y_pred\n",
    "y_pred = model.predict(X_test)"
   ]
  },
  {
   "cell_type": "code",
   "execution_count": 160,
   "metadata": {
    "execution": {
     "iopub.execute_input": "2022-05-23T16:09:00.363645Z",
     "iopub.status.busy": "2022-05-23T16:09:00.363371Z",
     "iopub.status.idle": "2022-05-23T16:09:00.376124Z",
     "shell.execute_reply": "2022-05-23T16:09:00.375428Z",
     "shell.execute_reply.started": "2022-05-23T16:09:00.363616Z"
    }
   },
   "outputs": [],
   "source": [
    "# Сравниваем предсказанные значения (y_pred) с реальными (y_test), и смотрим насколько они в среднем отличаются\n",
    "# Метрика называется Mean Absolute Error (MAE) и показывает среднее отклонение предсказанных значений от фактических.\n",
    "print('MAE:', metrics.mean_absolute_error(y_test, y_pred))\n",
    "\n",
    "def mean_absolute_percentage_error(y_true, y_pred): \n",
    "    y_true, y_pred = np.array(y_true), np.array(y_pred)\n",
    "    return np.mean(np.abs((y_true - y_pred) / y_true)) * 100\n",
    "print('MAPE:', mean_absolute_percentage_error(y_test, y_pred))"
   ]
  },
  {
   "cell_type": "code",
   "execution_count": 161,
   "metadata": {
    "execution": {
     "iopub.execute_input": "2022-05-23T16:09:13.371803Z",
     "iopub.status.busy": "2022-05-23T16:09:13.371504Z",
     "iopub.status.idle": "2022-05-23T16:09:13.878348Z",
     "shell.execute_reply": "2022-05-23T16:09:13.877408Z",
     "shell.execute_reply.started": "2022-05-23T16:09:13.371771Z"
    }
   },
   "outputs": [],
   "source": [
    "# в RandomForestRegressor есть возможность вывести самые важные признаки для модели\n",
    "plt.rcParams['figure.figsize'] = (10,10)\n",
    "feat_importances = pd.Series(model.feature_importances_, index=X.columns)\n",
    "feat_importances.nlargest(15).plot(kind='barh')"
   ]
  },
  {
   "cell_type": "code",
   "execution_count": 162,
   "metadata": {
    "execution": {
     "iopub.execute_input": "2022-05-23T16:09:18.344172Z",
     "iopub.status.busy": "2022-05-23T16:09:18.343605Z",
     "iopub.status.idle": "2022-05-23T16:09:18.374263Z",
     "shell.execute_reply": "2022-05-23T16:09:18.373309Z",
     "shell.execute_reply.started": "2022-05-23T16:09:18.344132Z"
    }
   },
   "outputs": [],
   "source": [
    "test_data.sample(10)"
   ]
  },
  {
   "cell_type": "code",
   "execution_count": 163,
   "metadata": {
    "execution": {
     "iopub.execute_input": "2022-05-23T16:09:22.719416Z",
     "iopub.status.busy": "2022-05-23T16:09:22.719067Z",
     "iopub.status.idle": "2022-05-23T16:09:22.731964Z",
     "shell.execute_reply": "2022-05-23T16:09:22.730945Z",
     "shell.execute_reply.started": "2022-05-23T16:09:22.719378Z"
    }
   },
   "outputs": [],
   "source": [
    "test_data = test_data.drop(['reviewer_score'], axis=1)"
   ]
  },
  {
   "cell_type": "code",
   "execution_count": 164,
   "metadata": {
    "execution": {
     "iopub.execute_input": "2022-05-23T16:09:25.343390Z",
     "iopub.status.busy": "2022-05-23T16:09:25.343091Z",
     "iopub.status.idle": "2022-05-23T16:09:25.352477Z",
     "shell.execute_reply": "2022-05-23T16:09:25.351884Z",
     "shell.execute_reply.started": "2022-05-23T16:09:25.343360Z"
    }
   },
   "outputs": [],
   "source": [
    "sample_submission.head(5)"
   ]
  },
  {
   "cell_type": "code",
   "execution_count": 165,
   "metadata": {
    "execution": {
     "iopub.execute_input": "2022-05-23T16:09:27.906150Z",
     "iopub.status.busy": "2022-05-23T16:09:27.905209Z",
     "iopub.status.idle": "2022-05-23T16:09:30.744873Z",
     "shell.execute_reply": "2022-05-23T16:09:30.743818Z",
     "shell.execute_reply.started": "2022-05-23T16:09:27.906105Z"
    }
   },
   "outputs": [],
   "source": [
    "predict_submission = model.predict(test_data)"
   ]
  },
  {
   "cell_type": "code",
   "execution_count": 166,
   "metadata": {
    "execution": {
     "iopub.execute_input": "2022-05-23T16:09:34.936869Z",
     "iopub.status.busy": "2022-05-23T16:09:34.936567Z",
     "iopub.status.idle": "2022-05-23T16:09:34.942278Z",
     "shell.execute_reply": "2022-05-23T16:09:34.941733Z",
     "shell.execute_reply.started": "2022-05-23T16:09:34.936836Z"
    }
   },
   "outputs": [],
   "source": [
    "predict_submission"
   ]
  },
  {
   "cell_type": "code",
   "execution_count": 167,
   "metadata": {
    "execution": {
     "iopub.execute_input": "2022-05-23T16:09:37.765177Z",
     "iopub.status.busy": "2022-05-23T16:09:37.764725Z",
     "iopub.status.idle": "2022-05-23T16:09:37.771275Z",
     "shell.execute_reply": "2022-05-23T16:09:37.770728Z",
     "shell.execute_reply.started": "2022-05-23T16:09:37.765134Z"
    }
   },
   "outputs": [],
   "source": [
    "list(sample_submission)"
   ]
  },
  {
   "cell_type": "code",
   "execution_count": 168,
   "metadata": {
    "execution": {
     "iopub.execute_input": "2022-05-23T16:09:40.665035Z",
     "iopub.status.busy": "2022-05-23T16:09:40.664730Z",
     "iopub.status.idle": "2022-05-23T16:09:41.079678Z",
     "shell.execute_reply": "2022-05-23T16:09:41.078728Z",
     "shell.execute_reply.started": "2022-05-23T16:09:40.664996Z"
    }
   },
   "outputs": [],
   "source": [
    "sample_submission['reviewer_score'] = predict_submission\n",
    "sample_submission.to_csv('submission.csv', index=False)"
   ]
  },
  {
   "cell_type": "code",
   "execution_count": 169,
   "metadata": {
    "execution": {
     "iopub.execute_input": "2022-05-23T16:09:43.531704Z",
     "iopub.status.busy": "2022-05-23T16:09:43.531414Z",
     "iopub.status.idle": "2022-05-23T16:09:43.542437Z",
     "shell.execute_reply": "2022-05-23T16:09:43.541449Z",
     "shell.execute_reply.started": "2022-05-23T16:09:43.531651Z"
    }
   },
   "outputs": [],
   "source": [
    "sample_submission.head(10)"
   ]
  },
  {
   "cell_type": "code",
   "execution_count": null,
   "metadata": {},
   "outputs": [],
   "source": []
  }
 ],
 "metadata": {
  "kernelspec": {
   "display_name": "Python 3 (ipykernel)",
   "language": "python",
   "name": "python3"
  },
  "language_info": {
   "codemirror_mode": {
    "name": "ipython",
    "version": 3
   },
   "file_extension": ".py",
   "mimetype": "text/x-python",
   "name": "python",
   "nbconvert_exporter": "python",
   "pygments_lexer": "ipython3",
   "version": "3.9.5"
  }
 },
 "nbformat": 4,
 "nbformat_minor": 4
}
