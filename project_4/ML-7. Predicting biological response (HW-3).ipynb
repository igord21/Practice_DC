{
 "cells": [
  {
   "cell_type": "markdown",
   "id": "b0214a86",
   "metadata": {},
   "source": [
    "### 1. Подготовка данных"
   ]
  },
  {
   "cell_type": "code",
   "execution_count": 1,
   "id": "d5733374",
   "metadata": {},
   "outputs": [],
   "source": [
    "# загрузим необходимые библиотеки\n",
    "\n",
    "import pandas as pd\n",
    "import numpy as np\n",
    "import seaborn as sns \n",
    "from sklearn import metrics\n",
    "from sklearn.model_selection import train_test_split\n",
    "from sklearn.linear_model import LogisticRegression\n",
    "from sklearn.ensemble import RandomForestClassifier\n",
    "from sklearn.metrics import f1_score\n",
    "from sklearn.model_selection import GridSearchCV\n",
    "from sklearn.model_selection import RandomizedSearchCV\n",
    "from sklearn.model_selection import cross_val_score\n",
    "from hyperopt import hp, fmin, tpe, Trials\n",
    "from warnings import simplefilter \n",
    "import optuna\n",
    "from scipy.stats import uniform"
   ]
  },
  {
   "cell_type": "code",
   "execution_count": 2,
   "id": "e3911a23",
   "metadata": {},
   "outputs": [
    {
     "data": {
      "text/html": [
       "<div>\n",
       "<style scoped>\n",
       "    .dataframe tbody tr th:only-of-type {\n",
       "        vertical-align: middle;\n",
       "    }\n",
       "\n",
       "    .dataframe tbody tr th {\n",
       "        vertical-align: top;\n",
       "    }\n",
       "\n",
       "    .dataframe thead th {\n",
       "        text-align: right;\n",
       "    }\n",
       "</style>\n",
       "<table border=\"1\" class=\"dataframe\">\n",
       "  <thead>\n",
       "    <tr style=\"text-align: right;\">\n",
       "      <th></th>\n",
       "      <th>Activity</th>\n",
       "      <th>D1</th>\n",
       "      <th>D2</th>\n",
       "      <th>D3</th>\n",
       "      <th>D4</th>\n",
       "      <th>D5</th>\n",
       "      <th>D6</th>\n",
       "      <th>D7</th>\n",
       "      <th>D8</th>\n",
       "      <th>D9</th>\n",
       "      <th>...</th>\n",
       "      <th>D1767</th>\n",
       "      <th>D1768</th>\n",
       "      <th>D1769</th>\n",
       "      <th>D1770</th>\n",
       "      <th>D1771</th>\n",
       "      <th>D1772</th>\n",
       "      <th>D1773</th>\n",
       "      <th>D1774</th>\n",
       "      <th>D1775</th>\n",
       "      <th>D1776</th>\n",
       "    </tr>\n",
       "  </thead>\n",
       "  <tbody>\n",
       "    <tr>\n",
       "      <th>0</th>\n",
       "      <td>1</td>\n",
       "      <td>0.000000</td>\n",
       "      <td>0.497009</td>\n",
       "      <td>0.10</td>\n",
       "      <td>0.0</td>\n",
       "      <td>0.132956</td>\n",
       "      <td>0.678031</td>\n",
       "      <td>0.273166</td>\n",
       "      <td>0.585445</td>\n",
       "      <td>0.743663</td>\n",
       "      <td>...</td>\n",
       "      <td>0</td>\n",
       "      <td>0</td>\n",
       "      <td>0</td>\n",
       "      <td>0</td>\n",
       "      <td>0</td>\n",
       "      <td>0</td>\n",
       "      <td>0</td>\n",
       "      <td>0</td>\n",
       "      <td>0</td>\n",
       "      <td>0</td>\n",
       "    </tr>\n",
       "    <tr>\n",
       "      <th>1</th>\n",
       "      <td>1</td>\n",
       "      <td>0.366667</td>\n",
       "      <td>0.606291</td>\n",
       "      <td>0.05</td>\n",
       "      <td>0.0</td>\n",
       "      <td>0.111209</td>\n",
       "      <td>0.803455</td>\n",
       "      <td>0.106105</td>\n",
       "      <td>0.411754</td>\n",
       "      <td>0.836582</td>\n",
       "      <td>...</td>\n",
       "      <td>1</td>\n",
       "      <td>1</td>\n",
       "      <td>1</td>\n",
       "      <td>1</td>\n",
       "      <td>0</td>\n",
       "      <td>1</td>\n",
       "      <td>0</td>\n",
       "      <td>0</td>\n",
       "      <td>1</td>\n",
       "      <td>0</td>\n",
       "    </tr>\n",
       "    <tr>\n",
       "      <th>2</th>\n",
       "      <td>1</td>\n",
       "      <td>0.033300</td>\n",
       "      <td>0.480124</td>\n",
       "      <td>0.00</td>\n",
       "      <td>0.0</td>\n",
       "      <td>0.209791</td>\n",
       "      <td>0.610350</td>\n",
       "      <td>0.356453</td>\n",
       "      <td>0.517720</td>\n",
       "      <td>0.679051</td>\n",
       "      <td>...</td>\n",
       "      <td>0</td>\n",
       "      <td>0</td>\n",
       "      <td>0</td>\n",
       "      <td>0</td>\n",
       "      <td>0</td>\n",
       "      <td>0</td>\n",
       "      <td>0</td>\n",
       "      <td>0</td>\n",
       "      <td>0</td>\n",
       "      <td>0</td>\n",
       "    </tr>\n",
       "    <tr>\n",
       "      <th>3</th>\n",
       "      <td>1</td>\n",
       "      <td>0.000000</td>\n",
       "      <td>0.538825</td>\n",
       "      <td>0.00</td>\n",
       "      <td>0.5</td>\n",
       "      <td>0.196344</td>\n",
       "      <td>0.724230</td>\n",
       "      <td>0.235606</td>\n",
       "      <td>0.288764</td>\n",
       "      <td>0.805110</td>\n",
       "      <td>...</td>\n",
       "      <td>0</td>\n",
       "      <td>0</td>\n",
       "      <td>0</td>\n",
       "      <td>0</td>\n",
       "      <td>0</td>\n",
       "      <td>0</td>\n",
       "      <td>0</td>\n",
       "      <td>0</td>\n",
       "      <td>0</td>\n",
       "      <td>0</td>\n",
       "    </tr>\n",
       "    <tr>\n",
       "      <th>4</th>\n",
       "      <td>0</td>\n",
       "      <td>0.100000</td>\n",
       "      <td>0.517794</td>\n",
       "      <td>0.00</td>\n",
       "      <td>0.0</td>\n",
       "      <td>0.494734</td>\n",
       "      <td>0.781422</td>\n",
       "      <td>0.154361</td>\n",
       "      <td>0.303809</td>\n",
       "      <td>0.812646</td>\n",
       "      <td>...</td>\n",
       "      <td>0</td>\n",
       "      <td>0</td>\n",
       "      <td>0</td>\n",
       "      <td>0</td>\n",
       "      <td>0</td>\n",
       "      <td>0</td>\n",
       "      <td>0</td>\n",
       "      <td>0</td>\n",
       "      <td>0</td>\n",
       "      <td>0</td>\n",
       "    </tr>\n",
       "  </tbody>\n",
       "</table>\n",
       "<p>5 rows × 1777 columns</p>\n",
       "</div>"
      ],
      "text/plain": [
       "   Activity        D1        D2    D3   D4        D5        D6        D7  \\\n",
       "0         1  0.000000  0.497009  0.10  0.0  0.132956  0.678031  0.273166   \n",
       "1         1  0.366667  0.606291  0.05  0.0  0.111209  0.803455  0.106105   \n",
       "2         1  0.033300  0.480124  0.00  0.0  0.209791  0.610350  0.356453   \n",
       "3         1  0.000000  0.538825  0.00  0.5  0.196344  0.724230  0.235606   \n",
       "4         0  0.100000  0.517794  0.00  0.0  0.494734  0.781422  0.154361   \n",
       "\n",
       "         D8        D9  ...  D1767  D1768  D1769  D1770  D1771  D1772  D1773  \\\n",
       "0  0.585445  0.743663  ...      0      0      0      0      0      0      0   \n",
       "1  0.411754  0.836582  ...      1      1      1      1      0      1      0   \n",
       "2  0.517720  0.679051  ...      0      0      0      0      0      0      0   \n",
       "3  0.288764  0.805110  ...      0      0      0      0      0      0      0   \n",
       "4  0.303809  0.812646  ...      0      0      0      0      0      0      0   \n",
       "\n",
       "   D1774  D1775  D1776  \n",
       "0      0      0      0  \n",
       "1      0      1      0  \n",
       "2      0      0      0  \n",
       "3      0      0      0  \n",
       "4      0      0      0  \n",
       "\n",
       "[5 rows x 1777 columns]"
      ]
     },
     "execution_count": 2,
     "metadata": {},
     "output_type": "execute_result"
    }
   ],
   "source": [
    "# Загрузим данные и выведем первых 5 строк\n",
    "data = pd.read_csv('data/_train_sem09__1_.zip')\n",
    "data.head()"
   ]
  },
  {
   "cell_type": "markdown",
   "id": "bfb10fbc",
   "metadata": {},
   "source": [
    "Т.к. в задании сказано, что чредварительная обработка не требуется, данные уже закодированы и нормализованы посмотрим сразу на сбалансированность классов "
   ]
  },
  {
   "cell_type": "code",
   "execution_count": 3,
   "id": "bffa2805",
   "metadata": {},
   "outputs": [
    {
     "data": {
      "text/plain": [
       "1    0.542255\n",
       "0    0.457745\n",
       "Name: Activity, dtype: float64"
      ]
     },
     "metadata": {},
     "output_type": "display_data"
    },
    {
     "data": {
      "image/png": "[encoded data removed]",
      "text/plain": [
       "<Figure size 432x288 with 1 Axes>"
      ]
     },
     "metadata": {
      "needs_background": "light"
     },
     "output_type": "display_data"
    }
   ],
   "source": [
    "display(data['Activity'].value_counts(normalize=True))\n",
    "sns.countplot(data=data, x='Activity');"
   ]
  },
  {
   "cell_type": "markdown",
   "id": "89cdcc79",
   "metadata": {},
   "source": [
    "Видим что данные сбалансированы не плохо.\n",
    "\n",
    "Создаем матрицу наблюдений $X$ и вектор ответов $y$"
   ]
  },
  {
   "cell_type": "code",
   "execution_count": 4,
   "id": "b8876361",
   "metadata": {},
   "outputs": [],
   "source": [
    "X = data.drop(['Activity'], axis=1)\n",
    "y = data['Activity']"
   ]
  },
  {
   "cell_type": "markdown",
   "id": "c3946de5",
   "metadata": {},
   "source": [
    "Разделяем выборку на тренировочную и тестовую в соотношении 80/20. Для сохранения соотношений целевого признака использование параметра stratify не обязательно, т.к. выборки сбалансированы. И посмотрим как распеределились наши выборки"
   ]
  },
  {
   "cell_type": "code",
   "execution_count": 5,
   "id": "e9bd7d43",
   "metadata": {},
   "outputs": [
    {
     "name": "stdout",
     "output_type": "stream",
     "text": [
      "Train:\n",
      "1    0.541667\n",
      "0    0.458333\n",
      "Name: Activity, dtype: float64\n",
      "Valid:\n",
      "1    0.544607\n",
      "0    0.455393\n",
      "Name: Activity, dtype: float64\n"
     ]
    }
   ],
   "source": [
    "X_train, X_test, y_train, y_test = train_test_split(X, y, random_state = 1, test_size = 0.2)\n",
    "# посмотрим как распеределились наши выборки\n",
    "print('Train:\\n', y_train.value_counts(normalize=True), sep='')\n",
    "print('Valid:\\n', y_test.value_counts(normalize=True), sep='')"
   ]
  },
  {
   "cell_type": "markdown",
   "id": "35cfd6fc",
   "metadata": {},
   "source": [
    "### 2. Базовые модели\n",
    "Строим базовые модели с параметрами по умолчанию. Классы взвешены."
   ]
  },
  {
   "cell_type": "markdown",
   "id": "b9b70d0b",
   "metadata": {},
   "source": [
    "**Cначала посчитаем модель с параметрами по умолчанию и оценим метрику**"
   ]
  },
  {
   "cell_type": "code",
   "execution_count": 6,
   "id": "4a9bad98",
   "metadata": {},
   "outputs": [
    {
     "name": "stdout",
     "output_type": "stream",
     "text": [
      "f1_score на тренировочной выборке: 0.88\n",
      "f1_score на тестовом наборе: 0.78\n"
     ]
    }
   ],
   "source": [
    "# Логистическая регрессии с параметрами по умолчанию\n",
    "\n",
    "#Создаем объект класса логистическая регрессия\n",
    "log_reg = LogisticRegression(n_jobs=-1, random_state=42, max_iter=50)\n",
    "#Обучаем модель, минимизируя logloss\n",
    "log_reg.fit(X_train, y_train)\n",
    "\n",
    "y_train_pred = log_reg.predict(X_train)\n",
    "y_test_pred = log_reg.predict(X_test)\n",
    "print(\"f1_score на тренировочной выборке: {:.2f}\".format(metrics.f1_score(y_train, y_train_pred)))\n",
    "print('f1_score на тестовом наборе: {:.2f}'.format(metrics.f1_score(y_test, y_test_pred)))"
   ]
  },
  {
   "cell_type": "code",
   "execution_count": 7,
   "id": "a98e7ac2",
   "metadata": {},
   "outputs": [
    {
     "name": "stdout",
     "output_type": "stream",
     "text": [
      "f1_score на тренировочной выборке: 1.00\n",
      "f1_score на тестовом наборе: 0.82\n"
     ]
    }
   ],
   "source": [
    "# Случайный лес\n",
    "\n",
    "rforest = RandomForestClassifier(random_state=42)\n",
    "rforest.fit(X_train, y_train)\n",
    "y_train_pred = rforest.predict(X_train)\n",
    "y_test_pred = rforest.predict(X_test)\n",
    "\n",
    "print(\"f1_score на тренировочной выборке: {:.2f}\".format(metrics.f1_score(y_train, y_train_pred)))\n",
    "print('f1_score на тестовом наборе: {:.2f}'.format(metrics.f1_score(y_test, y_test_pred)))"
   ]
  },
  {
   "cell_type": "markdown",
   "id": "826cf636",
   "metadata": {},
   "source": [
    "### 3. Оптимизация гиперпараметров GridSearchCV"
   ]
  },
  {
   "cell_type": "markdown",
   "id": "1b17e6e2",
   "metadata": {},
   "source": [
    "#### 3.1. Логистическая регрессия"
   ]
  },
  {
   "cell_type": "code",
   "execution_count": 10,
   "id": "578e0c1c",
   "metadata": {},
   "outputs": [
    {
     "name": "stdout",
     "output_type": "stream",
     "text": [
      "f1_score на тренировочной выборке: 0.84\n",
      "f1_score на тестовом наборе: 0.80\n",
      "Наилучшие значения гиперпараметров: {'C': 0.05, 'penalty': 'l2', 'solver': 'lbfgs'}\n",
      "Wall time: 43 s\n"
     ]
    }
   ],
   "source": [
    "%%time\n",
    "# Подберем параметры для логистической регрессии способом GridSearchCV\n",
    "# Сетка гиперпараметров\n",
    "param_grid = [\n",
    "    \n",
    "    {'solver': ['saga'],\n",
    "    'penalty': ['l1', 'l2'],\n",
    "    'C': [0.01, 0.05, 0.1, 0.5, 1.]},\n",
    "                 \n",
    "    {'solver': ['lbfgs'],\n",
    "    'penalty': ['l2'],\n",
    "    'C': [0.01, 0.05, 0.1, 0.5, 1.]},\n",
    "    \n",
    "    {'solver': ['saga'],\n",
    "    'penalty': ['none']},\n",
    "]\n",
    "\n",
    "# Поиск по сетке параметров с кросс-валидацией (5 фолдов)\n",
    "grid_search_lr = GridSearchCV(\n",
    "    estimator=LogisticRegression(n_jobs=2, random_state=42, max_iter=50), \n",
    "    param_grid=param_grid, \n",
    "    scoring = 'f1',\n",
    "    cv=5, \n",
    "    n_jobs = 2\n",
    ")  \n",
    "grid_search_lr.fit(X_train, y_train) \n",
    "y_train_pred = grid_search_lr.predict(X_train)\n",
    "y_test_pred = grid_search_lr.predict(X_test)\n",
    "\n",
    "print(\"f1_score на тренировочной выборке: {:.2f}\".format(metrics.f1_score(y_train, y_train_pred)))\n",
    "print('f1_score на тестовом наборе: {:.2f}'.format(metrics.f1_score(y_test, y_test_pred)))\n",
    "print(\"Наилучшие значения гиперпараметров: {}\".format(grid_search_lr.best_params_))"
   ]
  },
  {
   "cell_type": "markdown",
   "id": "7bb961d5",
   "metadata": {},
   "source": [
    "#### 3.2. Случайный лес"
   ]
  },
  {
   "cell_type": "code",
   "execution_count": 12,
   "id": "4e950866",
   "metadata": {},
   "outputs": [
    {
     "name": "stdout",
     "output_type": "stream",
     "text": [
      "f1 на тренировочной выборке: 0.95\n",
      "f1 на тестовом наборе: 0.82\n",
      "Наилучшие значения гиперпараметров: {'criterion': 'entropy', 'max_depth': 50, 'min_samples_leaf': 5, 'n_estimators': 300}\n",
      "Wall time: 1min 11s\n"
     ]
    }
   ],
   "source": [
    "%%time\n",
    "# Сетка параметров\n",
    "param_grid = [\n",
    "    \n",
    "    {'n_estimators': [100, 200, 300],\n",
    "     'criterion': ['gini', 'entropy'],\n",
    "     'max_depth': [5, 10, 50],\n",
    "     'min_samples_leaf': [5, 50]\n",
    "    }\n",
    "]\n",
    "\n",
    "# Поиск по сетке параметров с кросс-валидацией (5 фолдов)\n",
    "grid_search_rf = GridSearchCV(\n",
    "    estimator = RandomForestClassifier(n_jobs=2, random_state=42), \n",
    "    param_grid=param_grid, \n",
    "    scoring = 'f1',\n",
    "    cv=5, \n",
    "    n_jobs = 2\n",
    ")  \n",
    "grid_search_rf.fit(X_train, y_train) \n",
    "y_train_pred = grid_search_rf.predict(X_train)\n",
    "y_test_pred = grid_search_rf.predict(X_test)\n",
    "\n",
    "print(\"f1 на тренировочной выборке: {:.2f}\".format(metrics.f1_score(y_train, y_train_pred)))\n",
    "print('f1 на тестовом наборе: {:.2f}'.format(metrics.f1_score(y_test, y_test_pred)))\n",
    "print(\"Наилучшие значения гиперпараметров: {}\".format(grid_search_rf.best_params_))"
   ]
  },
  {
   "cell_type": "markdown",
   "id": "08f558e6",
   "metadata": {},
   "source": [
    "### 4. Оптимизация гиперпараметров RandomizedSearchCV"
   ]
  },
  {
   "cell_type": "markdown",
   "id": "f5aa203e",
   "metadata": {},
   "source": [
    "#### 4.1. Логистическая регрессия"
   ]
  },
  {
   "cell_type": "code",
   "execution_count": 13,
   "id": "e2ad9625",
   "metadata": {},
   "outputs": [
    {
     "name": "stdout",
     "output_type": "stream",
     "text": [
      "f1 на кросс-валидации: 0.86\n",
      "f1 на тестовом наборе: 0.80\n",
      "Наилучшие значения гиперпараметров: {'C': 0.10741975695591087, 'penalty': 'l2', 'solver': 'lbfgs'}\n",
      "Wall time: 1min 27s\n"
     ]
    }
   ],
   "source": [
    "%%time\n",
    "# Пространство параметров: создаем несколько словарей с наборами параметров, \n",
    "# Параметр регуляризации выбирается случайным образом из равномерного распределения\n",
    "param_distr = [\n",
    "    \n",
    "    {'solver': ['saga'],\n",
    "    'penalty': ['l1', 'l2'],\n",
    "    'C': uniform(loc=0.01, scale=1)},\n",
    "                 \n",
    "    {'solver': ['lbfgs'],\n",
    "    'penalty': ['l2'],\n",
    "    'C': uniform(loc=0.01, scale=1)},\n",
    "    \n",
    "    {'solver': ['saga'],\n",
    "    'penalty': ['none']},\n",
    "]\n",
    "\n",
    "# ignore all warnings\n",
    "simplefilter(action='ignore')\n",
    "\n",
    "# Случайный поиск по распределению параметров с кросс-валидацией (5 фолдов)\n",
    "random_search_lr = RandomizedSearchCV(\n",
    "    estimator=LogisticRegression(random_state=42, max_iter=50, n_jobs = 2), \n",
    "    param_distributions=param_distr, \n",
    "    scoring = 'f1',\n",
    "    cv=5,\n",
    "    n_iter=20,  # 20 случайных наборов параметров\n",
    "    n_jobs = 2\n",
    ")  \n",
    "random_search_lr.fit(X_train, y_train) \n",
    "y_train_pred = random_search_lr.predict(X_train)\n",
    "y_test_pred = random_search_lr.predict(X_test)\n",
    "\n",
    "print(\"f1 на кросс-валидации: {:.2f}\".format(metrics.f1_score(y_train, y_train_pred)))\n",
    "print('f1 на тестовом наборе: {:.2f}'.format(metrics.f1_score(y_test, y_test_pred)))\n",
    "print(\"Наилучшие значения гиперпараметров: {}\".format(random_search_lr.best_params_))"
   ]
  },
  {
   "cell_type": "markdown",
   "id": "4196dc22",
   "metadata": {},
   "source": [
    "#### 4.2. Случайный лес"
   ]
  },
  {
   "cell_type": "code",
   "execution_count": 14,
   "id": "5c3b2d7f",
   "metadata": {},
   "outputs": [
    {
     "name": "stdout",
     "output_type": "stream",
     "text": [
      "f1 на кросс-валидации: 0.91\n",
      "f1 на тестовом наборе: 0.79\n",
      "Наилучшие значения гиперпараметров: {'n_estimators': 300, 'min_samples_leaf': 10, 'max_depth': 41, 'criterion': 'entropy'}\n",
      "Wall time: 49.5 s\n"
     ]
    }
   ],
   "source": [
    "%%time\n",
    "# Распределение параметров в виде сетки\n",
    "param_distr = [\n",
    "    \n",
    "    {'n_estimators': list(range(100, 500, 100)),\n",
    "     'criterion': ['gini', 'entropy'],\n",
    "     'max_depth': list(range(1, 100, 5)),\n",
    "     'min_samples_leaf': list(range(5, 100, 5))\n",
    "    }\n",
    "]\n",
    "\n",
    "# Случайный поиск по распределению параметров с кросс-валидацией (5 фолдов)\n",
    "random_search_rf = RandomizedSearchCV(\n",
    "    estimator = RandomForestClassifier( n_jobs=2, random_state=42),\n",
    "    param_distributions=param_distr, \n",
    "    scoring = 'f1',\n",
    "    cv=5,\n",
    "    n_iter=20, # 20 случайных наборов параметров\n",
    "    n_jobs = 2\n",
    ")  \n",
    "random_search_rf.fit(X_train, y_train) \n",
    "y_train_pred = random_search_rf.predict(X_train)\n",
    "y_test_pred = random_search_rf.predict(X_test)\n",
    "\n",
    "print(\"f1 на кросс-валидации: {:.2f}\".format(metrics.f1_score(y_train, y_train_pred)))\n",
    "print('f1 на тестовом наборе: {:.2f}'.format(metrics.f1_score(y_test, y_test_pred)))\n",
    "print(\"Наилучшие значения гиперпараметров: {}\".format(random_search_rf.best_params_))"
   ]
  },
  {
   "cell_type": "markdown",
   "id": "ced529b9",
   "metadata": {},
   "source": [
    "### 5. Оптимизация гиперпараметров Hyperopt"
   ]
  },
  {
   "cell_type": "markdown",
   "id": "e4a6a4a0",
   "metadata": {},
   "source": [
    "#### 5.1. Логистическая регрессия"
   ]
  },
  {
   "cell_type": "code",
   "execution_count": 15,
   "id": "dec05e1e",
   "metadata": {},
   "outputs": [
    {
     "name": "stdout",
     "output_type": "stream",
     "text": [
      "100%|████████████████████████████████████████████████| 20/20 [01:45<00:00,  5.28s/trial, best loss: -0.784115517074601]\n",
      "Наилучшие значения гиперпараметров {'C_saga': 0.023051205281475296, 'parameter_combinations': 0, 'penalty': 1}\n",
      "Wall time: 1min 45s\n"
     ]
    }
   ],
   "source": [
    "%%time\n",
    "# Параметр регуляризации выбирается случайным образом из равномерного распределения\n",
    "space = hp.choice('parameter_combinations', [\n",
    "        {'solver': 'saga',\n",
    "         'penalty': hp.choice('penalty', ['l1', 'l2']),\n",
    "         'C': hp.uniform('C_saga', 0.01, 1)\n",
    "        },\n",
    "        \n",
    "        {'solver': 'lbfgs',\n",
    "        'penalty': 'l2',\n",
    "        'C': hp.uniform('C_lbfgs', 0.01, 1)\n",
    "        }\n",
    "        ]\n",
    ")\n",
    "\n",
    "random_state = 42\n",
    "\n",
    "# Целевая функция\n",
    "def obj_func(params, cv=5, X=X_train, y=y_train, random_state=42):\n",
    "    params = {'solver': params['solver'], \n",
    "              'penalty': params['penalty'], \n",
    "              'C': params['C']\n",
    "             }\n",
    "      \n",
    "    model = LogisticRegression(**params, class_weight='balanced', \n",
    "        random_state=random_state, max_iter=50\n",
    "    )\n",
    "      \n",
    "    # Обучаем модель с помощью кросс-валидации\n",
    "    score = cross_val_score(model, X, y, cv=cv, scoring='f1', n_jobs=2).mean()\n",
    "\n",
    "    return -score \n",
    "\n",
    "\n",
    "trials = Trials()\n",
    "best=fmin(obj_func, \n",
    "          space=space, \n",
    "          algo=tpe.suggest, \n",
    "          max_evals=20, \n",
    "          trials=trials, \n",
    "          rstate=np.random.RandomState(random_state)\n",
    "         )\n",
    "\n",
    "print(\"Наилучшие значения гиперпараметров {}\".format(best))"
   ]
  },
  {
   "cell_type": "code",
   "execution_count": 16,
   "id": "376ee3ed",
   "metadata": {},
   "outputs": [],
   "source": [
    "# Расчет метрики для лучших найденных гиперпараметров \n",
    "\n",
    "best_params = {'solver': 'saga',\n",
    "          'penalty': 'l2', \n",
    "          'C': 0.023051205281475296\n",
    "}\n",
    "\n",
    "# Модель с лучшими параметрами\n",
    "hyperopt_lr = LogisticRegression(**best_params, random_state=42, max_iter=50)\n",
    "hyperopt_lr.fit(X_train, y_train)\n",
    "y_train_pred = hyperopt_lr.predict(X_train)\n",
    "y_test_pred = hyperopt_lr.predict(X_test)"
   ]
  },
  {
   "cell_type": "code",
   "execution_count": 17,
   "id": "35fa3fef",
   "metadata": {},
   "outputs": [
    {
     "name": "stdout",
     "output_type": "stream",
     "text": [
      "f1 на кросс-валидации: 0.784115517074601\n",
      "f1 на тренировочной выборке: 0.83\n",
      "f1 на тестовом наборе: 0.80\n",
      "Наилучшие значения гиперпараметров {'C_saga': 0.023051205281475296, 'parameter_combinations': 0, 'penalty': 1}\n"
     ]
    }
   ],
   "source": [
    "best_score = (np.array(list(x['result']['loss'] \n",
    "                            for x in trials.trials)) * (-1)).max()\n",
    "\n",
    "print(f'f1 на кросс-валидации: {best_score}')\n",
    "print('f1 на тренировочной выборке: {:.2f}'.format(metrics.f1_score(y_train, y_train_pred)))\n",
    "print('f1 на тестовом наборе: {:.2f}'.format(metrics.f1_score(y_test, y_test_pred)))\n",
    "print('Наилучшие значения гиперпараметров {}'.format(best))"
   ]
  },
  {
   "cell_type": "markdown",
   "id": "8be4755f",
   "metadata": {},
   "source": [
    "#### 5.2. Случайный лес"
   ]
  },
  {
   "cell_type": "code",
   "execution_count": 18,
   "id": "ff6dbd3e",
   "metadata": {},
   "outputs": [
    {
     "name": "stdout",
     "output_type": "stream",
     "text": [
      "100%|███████████████████████████████████████████████| 20/20 [01:04<00:00,  3.22s/trial, best loss: -0.8124707056922034]\n",
      "Наилучшие значения гиперпараметров: {'criterion': 0, 'max_depth': 85.0, 'min_samples_leaf': 3.0, 'n_estimators': 311.0}\n",
      "Wall time: 1min 4s\n"
     ]
    }
   ],
   "source": [
    "%%time\n",
    "# Пространство параметров \n",
    "space={'n_estimators': hp.quniform('n_estimators', 100, 500, 1),\n",
    "       'criterion': hp.choice('criterion', ['gini', 'entropy']),\n",
    "       'max_depth' : hp.quniform('max_depth', 1, 100, 1),\n",
    "       'min_samples_leaf': hp.quniform('min_samples_leaf', 2, 100, 1)\n",
    "      }\n",
    "\n",
    "random_state = 42\n",
    "# Целевая функция\n",
    "def obj_func(params, cv=5, X=X_train, y=y_train, random_state=42):\n",
    "    params = {'n_estimators': int(params['n_estimators']),\n",
    "              'criterion': params['criterion'],\n",
    "              'max_depth': int(params['max_depth']), \n",
    "              'min_samples_leaf': int(params['min_samples_leaf'])\n",
    "             }\n",
    "  \n",
    "    model = RandomForestClassifier(**params, class_weight='balanced', \n",
    "                                   n_jobs=-1, random_state=random_state)\n",
    "    \n",
    "    # Обучаем модель с помощью кросс-валидации    \n",
    "    score = cross_val_score(model, X, y, cv=cv, scoring='f1', n_jobs=2).mean()\n",
    "    \n",
    "    return -score\n",
    "\n",
    "\n",
    "trials = Trials()\n",
    "best=fmin(obj_func, \n",
    "          space=space, \n",
    "          algo=tpe.suggest, \n",
    "          max_evals=20, \n",
    "          trials=trials, \n",
    "          rstate=np.random.RandomState(random_state)\n",
    "         )\n",
    "print(f'Наилучшие значения гиперпараметров: {best}')"
   ]
  },
  {
   "cell_type": "code",
   "execution_count": 19,
   "id": "52ecc017",
   "metadata": {},
   "outputs": [
    {
     "name": "stdout",
     "output_type": "stream",
     "text": [
      "F1 на кросс-валидации: 0.8124707056922034\n",
      "f1 на тренировочной выборке: 0.98\n",
      "f1 на тестовом наборе: 0.82\n"
     ]
    }
   ],
   "source": [
    "# Расчет метрики для лучших найденных гиперпараметров \n",
    "\n",
    "best_score = (np.array(list(x['result']['loss'] \n",
    "                            for x in trials.trials)) * (-1)).max()\n",
    "print(f'F1 на кросс-валидации: {best_score}')\n",
    "\n",
    "best_params = {\n",
    "    'n_estimators': int(best['n_estimators']),\n",
    "    'criterion': 'gini',\n",
    "    'max_depth': int(best['max_depth']),\n",
    "    'min_samples_leaf': int(best['min_samples_leaf'])\n",
    "}\n",
    "\n",
    "# Модель с лучшими параметрами\n",
    "hyperopt_rf = RandomForestClassifier(**best_params, n_jobs=2, random_state=42)\n",
    "hyperopt_rf.fit(X_train, y_train)\n",
    "y_train_pred = hyperopt_rf.predict(X_train)\n",
    "y_test_pred = hyperopt_rf.predict(X_test)\n",
    "\n",
    "print('f1 на тренировочной выборке: {:.2f}'.format(metrics.f1_score(y_train, y_train_pred)))\n",
    "print('f1 на тестовом наборе: {:.2f}'.format(metrics.f1_score(y_test, y_test_pred)))"
   ]
  },
  {
   "cell_type": "markdown",
   "id": "e62cd4ac",
   "metadata": {},
   "source": [
    "### 6. Оптимизация гиперпараметров Optuna"
   ]
  },
  {
   "cell_type": "markdown",
   "id": "f21ad59b",
   "metadata": {},
   "source": [
    "#### 6.1. Логистическая регрессия"
   ]
  },
  {
   "cell_type": "code",
   "execution_count": 24,
   "id": "aad6b01c",
   "metadata": {},
   "outputs": [
    {
     "name": "stdout",
     "output_type": "stream",
     "text": [
      "Wall time: 1min 29s\n"
     ]
    }
   ],
   "source": [
    "%%time\n",
    "# Целевая функция\n",
    "def obj_func(trial):\n",
    "    # пространство гиперпараметров\n",
    "    solver = trial.suggest_categorical('solver', ['saga', 'lbfgs'])\n",
    "    if solver == 'saga':\n",
    "        penalty = trial.suggest_categorical('penalty', ['l1', 'l2'])\n",
    "    else:\n",
    "        penalty = 'l2'\n",
    "    C = trial.suggest_uniform('C', 0.01, 1)\n",
    "    \n",
    "    model = LogisticRegression(\n",
    "        solver=solver,\n",
    "        penalty=penalty,\n",
    "        C=C,\n",
    "        class_weight='balanced', \n",
    "        random_state=42, \n",
    "        max_iter=50\n",
    "    )    \n",
    "    \n",
    "    # Обучаем модель с помощью кросс-валидации    \n",
    "    score = cross_val_score(model, X_train, y_train, cv=5, scoring='f1', n_jobs=2).mean()\n",
    "    \n",
    "    return score\n",
    "\n",
    "\n",
    "# Поиск оптимальных гиперпараметров\n",
    "optuna.logging.set_verbosity(optuna.logging.WARNING)\n",
    "sampler = optuna.samplers.TPESampler(seed=42)\n",
    "study_lr = optuna.create_study(\n",
    "    sampler=sampler, study_name='LogisticRegression', direction='maximize')\n",
    "study_lr.optimize(obj_func, n_trials=20)\n",
    "\n",
    "\n",
    "# Модель с лучшими параметрами\n",
    "optuna_lr = LogisticRegression(\n",
    "    **study_lr.best_params, class_weight='balanced', n_jobs=-1,\n",
    "    random_state=42, max_iter=50\n",
    ")\n",
    "optuna_lr.fit(X_train, y_train)\n",
    "y_train_pred = optuna_lr.predict(X_train)\n",
    "y_test_pred = optuna_lr.predict(X_test)"
   ]
  },
  {
   "cell_type": "code",
   "execution_count": 25,
   "id": "eb48855d",
   "metadata": {},
   "outputs": [
    {
     "name": "stdout",
     "output_type": "stream",
     "text": [
      "Наилучшие значения гиперпараметров: {'solver': 'lbfgs', 'C': 0.02464144483988132}\n",
      "F1 на кросс-валидации: 0.78\n",
      "F1 на тренировочной выборке: 0.83\n",
      "F1 на тестовой выборке: 0.78\n"
     ]
    }
   ],
   "source": [
    "print(f'Наилучшие значения гиперпараметров: {study_lr.best_params}')\n",
    "print(f'F1 на кросс-валидации: {round(study_lr.best_value,2)}')\n",
    "print(f'F1 на тренировочной выборке: {round(f1_score(y_train, y_train_pred),2)}')\n",
    "print(f'F1 на тестовой выборке: {round(f1_score(y_test, y_test_pred),2)}')"
   ]
  },
  {
   "cell_type": "markdown",
   "id": "efaedb84",
   "metadata": {},
   "source": [
    "#### 6.2. Случайный лес"
   ]
  },
  {
   "cell_type": "code",
   "execution_count": 26,
   "id": "6cb42478",
   "metadata": {},
   "outputs": [
    {
     "name": "stdout",
     "output_type": "stream",
     "text": [
      "Wall time: 1min 13s\n"
     ]
    }
   ],
   "source": [
    "%%time\n",
    "# Целевая функция\n",
    "def obj_func(trial):\n",
    "    # пространство гиперпараметров\n",
    "    n_estimators = trial.suggest_int('n_estimators', 100, 500, 1)\n",
    "    criterion = trial.suggest_categorical('criterion', ['gini', 'entropy'])\n",
    "    max_depth = trial.suggest_int('max_depth', 1, 100, 1)\n",
    "    min_samples_leaf = trial.suggest_int('min_samples_leaf', 2, 100, 1)\n",
    "  \n",
    "    # модель\n",
    "    model = RandomForestClassifier(\n",
    "        n_estimators=n_estimators,\n",
    "        criterion=criterion,\n",
    "        max_depth=max_depth,\n",
    "        min_samples_leaf=min_samples_leaf,\n",
    "        class_weight='balanced', n_jobs=2,\n",
    "        random_state=42\n",
    "    )\n",
    "  \n",
    "    # Обучаем модель с помощью кросс-валидации    \n",
    "    score = cross_val_score(\n",
    "        model, X_train, y_train, cv=5, scoring='f1', n_jobs=2).mean()\n",
    "    \n",
    "    return score\n",
    "\n",
    "\n",
    "# Поиск оптимальных гиперпараметров\n",
    "optuna.logging.set_verbosity(optuna.logging.WARNING)\n",
    "sampler = optuna.samplers.TPESampler(seed=42)\n",
    "study_rf = optuna.create_study(\n",
    "    sampler=sampler, study_name='RandomForestClassifier', direction='maximize')\n",
    "study_rf.optimize(obj_func, n_trials=20)\n",
    "\n",
    "\n",
    "# Модель с лучшими параметрами  \n",
    "optuna_rf = RandomForestClassifier(\n",
    "    **study_rf.best_params, class_weight='balanced', n_jobs=-1,\n",
    "    random_state=42\n",
    ")\n",
    "optuna_rf.fit(X_train, y_train)\n",
    "y_train_pred = optuna_rf.predict(X_train)\n",
    "y_test_pred = optuna_rf.predict(X_test)"
   ]
  },
  {
   "cell_type": "code",
   "execution_count": 27,
   "id": "7f869780",
   "metadata": {},
   "outputs": [
    {
     "name": "stdout",
     "output_type": "stream",
     "text": [
      "Наилучшие значения гиперпараметров: {'n_estimators': 245, 'criterion': 'gini', 'max_depth': 78, 'min_samples_leaf': 2}\n",
      "F1 на кросс-валидации: 0.81\n",
      "F1 на тренировочной выборке: 0.99\n",
      "F1 на тестовой выборке: 0.83\n"
     ]
    }
   ],
   "source": [
    "print(f'Наилучшие значения гиперпараметров: {study_rf.best_params}')\n",
    "print(f'F1 на кросс-валидации: {round(study_rf.best_value,2)}')\n",
    "print(f'F1 на тренировочной выборке: {round(f1_score(y_train, y_train_pred),2)}')\n",
    "print(f'F1 на тестовой выборке: {round(f1_score(y_test, y_test_pred),2)}')"
   ]
  }
 ],
 "metadata": {
  "kernelspec": {
   "display_name": "Python 3 (ipykernel)",
   "language": "python",
   "name": "python3"
  },
  "language_info": {
   "codemirror_mode": {
    "name": "ipython",
    "version": 3
   },
   "file_extension": ".py",
   "mimetype": "text/x-python",
   "name": "python",
   "nbconvert_exporter": "python",
   "pygments_lexer": "ipython3",
   "version": "3.9.5"
  }
 },
 "nbformat": 4,
 "nbformat_minor": 5
}
