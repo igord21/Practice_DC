{
 "cells": [
  {
   "cell_type": "code",
   "execution_count": 1,
   "id": "50d6e7b7",
   "metadata": {},
   "outputs": [],
   "source": [
    "import pandas as pd\n",
    "import psycopg2"
   ]
  },
  {
   "cell_type": "code",
   "execution_count": 2,
   "id": "04938d27",
   "metadata": {},
   "outputs": [],
   "source": [
    "# Параметры для подключения к БД"
   ]
  },
  {
   "cell_type": "code",
   "execution_count": 3,
   "id": "2c6e45c4",
   "metadata": {},
   "outputs": [],
   "source": [
    "#  Создаем соединение с БД\n",
    "connection = psycopg2.connect(\n",
    "    dbname=DBNAME,\n",
    "    user=USER,\n",
    "    host=HOST,\n",
    "    password=PASSWORD,\n",
    "    port=PORT\n",
    ")"
   ]
  },
  {
   "cell_type": "markdown",
   "id": "64b26164",
   "metadata": {},
   "source": [
    "**Задание 3.1**\n",
    "\n",
    "Сколько вакансий есть в базе?"
   ]
  },
  {
   "cell_type": "code",
   "execution_count": 4,
   "id": "224b4c7f",
   "metadata": {},
   "outputs": [],
   "source": [
    "# код запроса представляет из себя строковую переменную\n",
    "# n = 10\n",
    "query_3_1 = f'''select * \n",
    "                from public.VACANCIES \n",
    "             '''\n",
    "# используем f-строки - так удобнее передавать параметры\n",
    "\n",
    "df_vacancies = pd.read_sql_query(query_3_1, connection)"
   ]
  },
  {
   "cell_type": "code",
   "execution_count": 5,
   "id": "82b66074",
   "metadata": {},
   "outputs": [
    {
     "name": "stdout",
     "output_type": "stream",
     "text": [
      "Сколько вакансий есть в базе?: 49197\n"
     ]
    }
   ],
   "source": [
    "print('Сколько вакансий есть в базе?: {}'.format(df_vacancies.shape[0]))"
   ]
  },
  {
   "cell_type": "markdown",
   "id": "c91db255",
   "metadata": {},
   "source": [
    "**Задание 3.2**\n",
    "\n",
    "Сколько работодателей?"
   ]
  },
  {
   "cell_type": "code",
   "execution_count": 6,
   "id": "c16be233",
   "metadata": {},
   "outputs": [],
   "source": [
    "query_3_2 = f'''select * \n",
    "            from public.EMPLOYERS \n",
    "         '''\n",
    "\n",
    "df_employers = pd.read_sql_query(query_3_2, connection)"
   ]
  },
  {
   "cell_type": "code",
   "execution_count": 7,
   "id": "fe666f77",
   "metadata": {},
   "outputs": [
    {
     "name": "stdout",
     "output_type": "stream",
     "text": [
      "Сколько работодателей?: 23501\n"
     ]
    }
   ],
   "source": [
    "print('Сколько работодателей?: {}'.format(df_employers.shape[0]))"
   ]
  },
  {
   "cell_type": "markdown",
   "id": "f3551fab",
   "metadata": {},
   "source": [
    "**Задание 3.3**\n",
    "\n",
    "Сколько регионов?"
   ]
  },
  {
   "cell_type": "code",
   "execution_count": 8,
   "id": "dc3aed6a",
   "metadata": {},
   "outputs": [],
   "source": [
    "query_3_3 = f'''select * \n",
    "            from public.AREAS \n",
    "         '''\n",
    "\n",
    "df_areas = pd.read_sql_query(query_3_3, connection)"
   ]
  },
  {
   "cell_type": "code",
   "execution_count": 9,
   "id": "f47432a1",
   "metadata": {},
   "outputs": [
    {
     "name": "stdout",
     "output_type": "stream",
     "text": [
      "Сколько регионов?: 1362\n"
     ]
    }
   ],
   "source": [
    "print('Сколько регионов?: {}'.format(df_areas.shape[0]))"
   ]
  },
  {
   "cell_type": "markdown",
   "id": "94dd77b0",
   "metadata": {},
   "source": [
    "**Задание 3.4**\n",
    "\n",
    "Сколько сфер деятельности?"
   ]
  },
  {
   "cell_type": "code",
   "execution_count": 10,
   "id": "e807fd7b",
   "metadata": {},
   "outputs": [],
   "source": [
    "query_3_4 = f'''select * \n",
    "            from public.INDUSTRIES \n",
    "         '''\n",
    "\n",
    "df_industries = pd.read_sql_query(query_3_4, connection)"
   ]
  },
  {
   "cell_type": "code",
   "execution_count": 11,
   "id": "25aaf756",
   "metadata": {},
   "outputs": [
    {
     "name": "stdout",
     "output_type": "stream",
     "text": [
      "Сколько сфер деятельности?: 294\n"
     ]
    }
   ],
   "source": [
    "print('Сколько сфер деятельности?: {}'.format(df_industries.shape[0]))"
   ]
  },
  {
   "cell_type": "markdown",
   "id": "cfee9280",
   "metadata": {},
   "source": [
    "**дание 4.1**\n",
    "\n",
    "Напишите запрос, который позволит узнать, сколько (cnt) вакансий в каждом регионе (area)."
   ]
  },
  {
   "cell_type": "code",
   "execution_count": 12,
   "id": "e0111f76",
   "metadata": {},
   "outputs": [
    {
     "data": {
      "text/html": [
       "<div>\n",
       "<style scoped>\n",
       "    .dataframe tbody tr th:only-of-type {\n",
       "        vertical-align: middle;\n",
       "    }\n",
       "\n",
       "    .dataframe tbody tr th {\n",
       "        vertical-align: top;\n",
       "    }\n",
       "\n",
       "    .dataframe thead th {\n",
       "        text-align: right;\n",
       "    }\n",
       "</style>\n",
       "<table border=\"1\" class=\"dataframe\">\n",
       "  <thead>\n",
       "    <tr style=\"text-align: right;\">\n",
       "      <th></th>\n",
       "      <th>name</th>\n",
       "      <th>cnt</th>\n",
       "    </tr>\n",
       "  </thead>\n",
       "  <tbody>\n",
       "    <tr>\n",
       "      <th>0</th>\n",
       "      <td>Москва</td>\n",
       "      <td>5333</td>\n",
       "    </tr>\n",
       "    <tr>\n",
       "      <th>1</th>\n",
       "      <td>Санкт-Петербург</td>\n",
       "      <td>2851</td>\n",
       "    </tr>\n",
       "    <tr>\n",
       "      <th>2</th>\n",
       "      <td>Минск</td>\n",
       "      <td>2112</td>\n",
       "    </tr>\n",
       "    <tr>\n",
       "      <th>3</th>\n",
       "      <td>Новосибирск</td>\n",
       "      <td>2006</td>\n",
       "    </tr>\n",
       "    <tr>\n",
       "      <th>4</th>\n",
       "      <td>Алматы</td>\n",
       "      <td>1892</td>\n",
       "    </tr>\n",
       "    <tr>\n",
       "      <th>5</th>\n",
       "      <td>Екатеринбург</td>\n",
       "      <td>1698</td>\n",
       "    </tr>\n",
       "    <tr>\n",
       "      <th>6</th>\n",
       "      <td>Нижний Новгород</td>\n",
       "      <td>1670</td>\n",
       "    </tr>\n",
       "    <tr>\n",
       "      <th>7</th>\n",
       "      <td>Казань</td>\n",
       "      <td>1415</td>\n",
       "    </tr>\n",
       "    <tr>\n",
       "      <th>8</th>\n",
       "      <td>Краснодар</td>\n",
       "      <td>1301</td>\n",
       "    </tr>\n",
       "    <tr>\n",
       "      <th>9</th>\n",
       "      <td>Самара</td>\n",
       "      <td>1144</td>\n",
       "    </tr>\n",
       "  </tbody>\n",
       "</table>\n",
       "</div>"
      ],
      "text/plain": [
       "              name   cnt\n",
       "0           Москва  5333\n",
       "1  Санкт-Петербург  2851\n",
       "2            Минск  2112\n",
       "3      Новосибирск  2006\n",
       "4           Алматы  1892\n",
       "5     Екатеринбург  1698\n",
       "6  Нижний Новгород  1670\n",
       "7           Казань  1415\n",
       "8        Краснодар  1301\n",
       "9           Самара  1144"
      ]
     },
     "execution_count": 12,
     "metadata": {},
     "output_type": "execute_result"
    }
   ],
   "source": [
    "query_4_1 = f'''SELECT \n",
    "                areas.name, \n",
    "                count (vacancies.id) as cnt\n",
    "            FROM\n",
    "                public.vacancies,\n",
    "                public.areas \n",
    "            WHERE vacancies.area_id = areas.id \n",
    "            group by areas.name\n",
    "            order by cnt desc\n",
    "            limit 10\n",
    "         '''            \n",
    "\n",
    "df = pd.read_sql_query(query_4_1, connection)\n",
    "df"
   ]
  },
  {
   "cell_type": "markdown",
   "id": "c59acd46",
   "metadata": {},
   "source": [
    "**Вывод:** видим кол-во вакансий зависит от численности города."
   ]
  },
  {
   "cell_type": "markdown",
   "id": "fea47340",
   "metadata": {},
   "source": [
    "**Задание 4.2**\n",
    "\n",
    "Посмотрим на зарплаты. У какого количества вакансий заполнено хотя бы одно из двух полей с зарплатой?"
   ]
  },
  {
   "cell_type": "code",
   "execution_count": 13,
   "id": "29ef4a3d",
   "metadata": {},
   "outputs": [
    {
     "data": {
      "text/html": [
       "<div>\n",
       "<style scoped>\n",
       "    .dataframe tbody tr th:only-of-type {\n",
       "        vertical-align: middle;\n",
       "    }\n",
       "\n",
       "    .dataframe tbody tr th {\n",
       "        vertical-align: top;\n",
       "    }\n",
       "\n",
       "    .dataframe thead th {\n",
       "        text-align: right;\n",
       "    }\n",
       "</style>\n",
       "<table border=\"1\" class=\"dataframe\">\n",
       "  <thead>\n",
       "    <tr style=\"text-align: right;\">\n",
       "      <th></th>\n",
       "      <th>cnt</th>\n",
       "    </tr>\n",
       "  </thead>\n",
       "  <tbody>\n",
       "    <tr>\n",
       "      <th>0</th>\n",
       "      <td>24073</td>\n",
       "    </tr>\n",
       "  </tbody>\n",
       "</table>\n",
       "</div>"
      ],
      "text/plain": [
       "     cnt\n",
       "0  24073"
      ]
     },
     "execution_count": 13,
     "metadata": {},
     "output_type": "execute_result"
    }
   ],
   "source": [
    "query_4_2 = f'''SELECT \n",
    "                count (vacancies.id) as cnt\n",
    "            FROM\n",
    "                public.vacancies\n",
    "            WHERE salary_to != 0 or salary_from !=0\n",
    "         '''  \n",
    "\n",
    "df = pd.read_sql_query(query_4_2, connection)\n",
    "df"
   ]
  },
  {
   "cell_type": "markdown",
   "id": "fc6612f8",
   "metadata": {},
   "source": [
    "**Задание 4.3**\n",
    "\n",
    "Найдите средние значения для нижней и верхней границы зарплатной вилки. Округлите значения до целого числа."
   ]
  },
  {
   "cell_type": "code",
   "execution_count": 14,
   "id": "79df06a5",
   "metadata": {},
   "outputs": [],
   "source": [
    "query_4_3 = f'''SELECT \n",
    "                AVG(salary_to) as top,\n",
    "                AVG(salary_from) as lower\n",
    "            FROM\n",
    "                public.vacancies\n",
    "         ''' \n",
    "df = pd.read_sql_query(query_4_3, connection)"
   ]
  },
  {
   "cell_type": "code",
   "execution_count": 15,
   "id": "b19c140d",
   "metadata": {},
   "outputs": [
    {
     "name": "stdout",
     "output_type": "stream",
     "text": [
      "Средние значения для нижней 71065.0 и верхней границы зарплатной вилки: 110537.0\n"
     ]
    }
   ],
   "source": [
    "print('Средние значения для нижней {} и верхней границы зарплатной вилки: {}'.\n",
    "      format(round(df.at[0,'lower'],0), round(df.at[0,'top'],0)))"
   ]
  },
  {
   "cell_type": "markdown",
   "id": "df495d87",
   "metadata": {},
   "source": [
    "**Вывод:** среднее значение верхней и нижней границы имеет небольшую вилку, в отличие от верхней и нижней границы отдельно взятой вакансии. "
   ]
  },
  {
   "cell_type": "markdown",
   "id": "bf2488a4",
   "metadata": {},
   "source": [
    "**Задание 4.4**\n",
    "\n",
    "Напишите запрос, который выведет количество вакансий для каждого сочетания типа рабочего графика (schedule) и типа трудоустройства (employment), используемого в вакансиях. Какая пара находится на втором месте по популярности?"
   ]
  },
  {
   "cell_type": "code",
   "execution_count": 16,
   "id": "0dd3c3f4",
   "metadata": {},
   "outputs": [
    {
     "data": {
      "text/html": [
       "<div>\n",
       "<style scoped>\n",
       "    .dataframe tbody tr th:only-of-type {\n",
       "        vertical-align: middle;\n",
       "    }\n",
       "\n",
       "    .dataframe tbody tr th {\n",
       "        vertical-align: top;\n",
       "    }\n",
       "\n",
       "    .dataframe thead th {\n",
       "        text-align: right;\n",
       "    }\n",
       "</style>\n",
       "<table border=\"1\" class=\"dataframe\">\n",
       "  <thead>\n",
       "    <tr style=\"text-align: right;\">\n",
       "      <th></th>\n",
       "      <th>schedule</th>\n",
       "      <th>employment</th>\n",
       "      <th>count</th>\n",
       "    </tr>\n",
       "  </thead>\n",
       "  <tbody>\n",
       "    <tr>\n",
       "      <th>0</th>\n",
       "      <td>Полный день</td>\n",
       "      <td>Полная занятость</td>\n",
       "      <td>35367</td>\n",
       "    </tr>\n",
       "    <tr>\n",
       "      <th>1</th>\n",
       "      <td>Удаленная работа</td>\n",
       "      <td>Полная занятость</td>\n",
       "      <td>7802</td>\n",
       "    </tr>\n",
       "  </tbody>\n",
       "</table>\n",
       "</div>"
      ],
      "text/plain": [
       "           schedule        employment  count\n",
       "0       Полный день  Полная занятость  35367\n",
       "1  Удаленная работа  Полная занятость   7802"
      ]
     },
     "execution_count": 16,
     "metadata": {},
     "output_type": "execute_result"
    }
   ],
   "source": [
    "query_4_4 = f''' SELECT \n",
    "                  schedule, \n",
    "                  employment, \n",
    "                  COUNT(*) AS count /*подсчёт всех строк*/\n",
    "              FROM public.vacancies /*из таблицы public.vacancies*/\n",
    "              GROUP BY 1, 2 /*группировка по столбцам 1 и 2*/\n",
    "              ORDER BY count DESC /*сортировка по столбцу кол-во*/\n",
    "              limit 2\n",
    "          '''    \n",
    "\n",
    "df = pd.read_sql_query(query_4_4, connection)\n",
    "df"
   ]
  },
  {
   "cell_type": "markdown",
   "id": "e51f60d2",
   "metadata": {},
   "source": [
    "**Задание 4.5**\n",
    "\n",
    "Напишите запрос, выводящий значения поля Требуемый опыт работы (experience) в порядке возрастания количества вакансий, в которых указан данный вариант опыта.\n",
    "Выберите верный вариант ответа."
   ]
  },
  {
   "cell_type": "code",
   "execution_count": 17,
   "id": "e81be90b",
   "metadata": {},
   "outputs": [
    {
     "data": {
      "text/html": [
       "<div>\n",
       "<style scoped>\n",
       "    .dataframe tbody tr th:only-of-type {\n",
       "        vertical-align: middle;\n",
       "    }\n",
       "\n",
       "    .dataframe tbody tr th {\n",
       "        vertical-align: top;\n",
       "    }\n",
       "\n",
       "    .dataframe thead th {\n",
       "        text-align: right;\n",
       "    }\n",
       "</style>\n",
       "<table border=\"1\" class=\"dataframe\">\n",
       "  <thead>\n",
       "    <tr style=\"text-align: right;\">\n",
       "      <th></th>\n",
       "      <th>experience</th>\n",
       "      <th>count</th>\n",
       "    </tr>\n",
       "  </thead>\n",
       "  <tbody>\n",
       "    <tr>\n",
       "      <th>0</th>\n",
       "      <td>Более 6 лет</td>\n",
       "      <td>1337</td>\n",
       "    </tr>\n",
       "    <tr>\n",
       "      <th>1</th>\n",
       "      <td>Нет опыта</td>\n",
       "      <td>7197</td>\n",
       "    </tr>\n",
       "    <tr>\n",
       "      <th>2</th>\n",
       "      <td>От 3 до 6 лет</td>\n",
       "      <td>14511</td>\n",
       "    </tr>\n",
       "    <tr>\n",
       "      <th>3</th>\n",
       "      <td>От 1 года до 3 лет</td>\n",
       "      <td>26152</td>\n",
       "    </tr>\n",
       "  </tbody>\n",
       "</table>\n",
       "</div>"
      ],
      "text/plain": [
       "           experience  count\n",
       "0         Более 6 лет   1337\n",
       "1           Нет опыта   7197\n",
       "2       От 3 до 6 лет  14511\n",
       "3  От 1 года до 3 лет  26152"
      ]
     },
     "execution_count": 17,
     "metadata": {},
     "output_type": "execute_result"
    }
   ],
   "source": [
    "query_4_5 = f''' SELECT \n",
    "                  experience, \n",
    "                  COUNT(*) AS count /*подсчёт всех строк*/\n",
    "              FROM public.vacancies /*из таблицы public.vacancies*/\n",
    "              GROUP BY 1/*группировка по столбцу 1*/\n",
    "              ORDER BY count /*сортировка по столбцу кол-во*/\n",
    "              limit 4\n",
    "          '''    \n",
    "\n",
    "df = pd.read_sql_query(query_4_5, connection)\n",
    "df"
   ]
  },
  {
   "cell_type": "markdown",
   "id": "ffd89113",
   "metadata": {},
   "source": [
    "**Вывод:** колличестов вакансий уменьшается с увеличением требования к опыту работы"
   ]
  },
  {
   "cell_type": "markdown",
   "id": "7f7d4e26",
   "metadata": {},
   "source": [
    "**Задание 5.1**\n",
    "\n",
    "Напишите запрос, который позволит узнать, какие работодатели находятся на первом и пятом месте по количеству вакансий.\n",
    "Выберите верный вариант ответа:"
   ]
  },
  {
   "cell_type": "code",
   "execution_count": 18,
   "id": "7b63da59",
   "metadata": {},
   "outputs": [
    {
     "data": {
      "text/html": [
       "<div>\n",
       "<style scoped>\n",
       "    .dataframe tbody tr th:only-of-type {\n",
       "        vertical-align: middle;\n",
       "    }\n",
       "\n",
       "    .dataframe tbody tr th {\n",
       "        vertical-align: top;\n",
       "    }\n",
       "\n",
       "    .dataframe thead th {\n",
       "        text-align: right;\n",
       "    }\n",
       "</style>\n",
       "<table border=\"1\" class=\"dataframe\">\n",
       "  <thead>\n",
       "    <tr style=\"text-align: right;\">\n",
       "      <th></th>\n",
       "      <th>name</th>\n",
       "      <th>count_employers</th>\n",
       "    </tr>\n",
       "  </thead>\n",
       "  <tbody>\n",
       "    <tr>\n",
       "      <th>0</th>\n",
       "      <td>Яндекс</td>\n",
       "      <td>1933</td>\n",
       "    </tr>\n",
       "    <tr>\n",
       "      <th>1</th>\n",
       "      <td>Ростелеком</td>\n",
       "      <td>491</td>\n",
       "    </tr>\n",
       "    <tr>\n",
       "      <th>2</th>\n",
       "      <td>Тинькофф</td>\n",
       "      <td>444</td>\n",
       "    </tr>\n",
       "    <tr>\n",
       "      <th>3</th>\n",
       "      <td>СБЕР</td>\n",
       "      <td>428</td>\n",
       "    </tr>\n",
       "    <tr>\n",
       "      <th>4</th>\n",
       "      <td>Газпром нефть</td>\n",
       "      <td>331</td>\n",
       "    </tr>\n",
       "  </tbody>\n",
       "</table>\n",
       "</div>"
      ],
      "text/plain": [
       "            name  count_employers\n",
       "0         Яндекс             1933\n",
       "1     Ростелеком              491\n",
       "2       Тинькофф              444\n",
       "3           СБЕР              428\n",
       "4  Газпром нефть              331"
      ]
     },
     "execution_count": 18,
     "metadata": {},
     "output_type": "execute_result"
    }
   ],
   "source": [
    "query_5_1 = f'''select e.name, \n",
    "                count(e.name) count_employers\n",
    "            from public.employers e\n",
    "                left join public.vacancies v on v.employer_id = e.id\n",
    "            group by e.name\n",
    "            order by count_employers desc\n",
    "            limit 5\n",
    "          '''    \n",
    "df = pd.read_sql_query(query_5_1, connection)\n",
    "df"
   ]
  },
  {
   "cell_type": "markdown",
   "id": "67354942",
   "metadata": {},
   "source": [
    "**Вывод:** молодые IT компании требуют больше рекрутеров в свой штат."
   ]
  },
  {
   "cell_type": "markdown",
   "id": "cf4b7060",
   "metadata": {},
   "source": [
    "**Задание 5.2**\n",
    "\n",
    "Напишите запрос, который для каждого региона выведет количество работодателей и вакансий в нём.\n",
    "\n",
    "Среди регионов, в которых нет вакансий, найдите тот, в котором наибольшее количество работодателей. Впишите его название в поле ниже в том виде, который вернул запрос."
   ]
  },
  {
   "cell_type": "code",
   "execution_count": 19,
   "id": "7d323c7b",
   "metadata": {},
   "outputs": [
    {
     "data": {
      "text/html": [
       "<div>\n",
       "<style scoped>\n",
       "    .dataframe tbody tr th:only-of-type {\n",
       "        vertical-align: middle;\n",
       "    }\n",
       "\n",
       "    .dataframe tbody tr th {\n",
       "        vertical-align: top;\n",
       "    }\n",
       "\n",
       "    .dataframe thead th {\n",
       "        text-align: right;\n",
       "    }\n",
       "</style>\n",
       "<table border=\"1\" class=\"dataframe\">\n",
       "  <thead>\n",
       "    <tr style=\"text-align: right;\">\n",
       "      <th></th>\n",
       "      <th>area</th>\n",
       "      <th>empcnt</th>\n",
       "      <th>vaccnt</th>\n",
       "    </tr>\n",
       "  </thead>\n",
       "  <tbody>\n",
       "    <tr>\n",
       "      <th>0</th>\n",
       "      <td>Россия</td>\n",
       "      <td>410</td>\n",
       "      <td>0</td>\n",
       "    </tr>\n",
       "    <tr>\n",
       "      <th>1</th>\n",
       "      <td>Казахстан</td>\n",
       "      <td>207</td>\n",
       "      <td>0</td>\n",
       "    </tr>\n",
       "    <tr>\n",
       "      <th>2</th>\n",
       "      <td>Московская область</td>\n",
       "      <td>75</td>\n",
       "      <td>0</td>\n",
       "    </tr>\n",
       "    <tr>\n",
       "      <th>3</th>\n",
       "      <td>Краснодарский край</td>\n",
       "      <td>19</td>\n",
       "      <td>0</td>\n",
       "    </tr>\n",
       "    <tr>\n",
       "      <th>4</th>\n",
       "      <td>Беларусь</td>\n",
       "      <td>18</td>\n",
       "      <td>0</td>\n",
       "    </tr>\n",
       "  </tbody>\n",
       "</table>\n",
       "</div>"
      ],
      "text/plain": [
       "                 area  empcnt  vaccnt\n",
       "0              Россия     410       0\n",
       "1           Казахстан     207       0\n",
       "2  Московская область      75       0\n",
       "3  Краснодарский край      19       0\n",
       "4            Беларусь      18       0"
      ]
     },
     "execution_count": 19,
     "metadata": {},
     "output_type": "execute_result"
    }
   ],
   "source": [
    "query_5_2 = f'''SELECT\n",
    "                    a.name area,\n",
    "                    COUNT(distinct e.id) empcnt,\n",
    "                    COUNT(distinct v.id) vaccnt\n",
    "                FROM public.areas a\n",
    "                    left JOIN public.employers e ON a.id = e.area\n",
    "                    left JOIN public.vacancies v ON a.id = v.area_id\n",
    "                WHERE v.name IS NULL\n",
    "                GROUP BY 1\n",
    "                ORDER BY 2 DESC\n",
    "                limit 5\n",
    "              '''\n",
    "df = pd.read_sql_query(query_5_2, connection)\n",
    "df "
   ]
  },
  {
   "cell_type": "markdown",
   "id": "ef553e2a",
   "metadata": {},
   "source": [
    "**Задание 5.3**\n",
    "\n",
    "Для каждого работодателя посчитайте количество регионов, в которых он публикует свои вакансии.\n",
    "\n",
    "Выберите максимальное значение из получившегося списка."
   ]
  },
  {
   "cell_type": "code",
   "execution_count": 20,
   "id": "87c54bb1",
   "metadata": {},
   "outputs": [
    {
     "data": {
      "text/html": [
       "<div>\n",
       "<style scoped>\n",
       "    .dataframe tbody tr th:only-of-type {\n",
       "        vertical-align: middle;\n",
       "    }\n",
       "\n",
       "    .dataframe tbody tr th {\n",
       "        vertical-align: top;\n",
       "    }\n",
       "\n",
       "    .dataframe thead th {\n",
       "        text-align: right;\n",
       "    }\n",
       "</style>\n",
       "<table border=\"1\" class=\"dataframe\">\n",
       "  <thead>\n",
       "    <tr style=\"text-align: right;\">\n",
       "      <th></th>\n",
       "      <th>Работодатель</th>\n",
       "      <th>name_cnt</th>\n",
       "    </tr>\n",
       "  </thead>\n",
       "  <tbody>\n",
       "    <tr>\n",
       "      <th>0</th>\n",
       "      <td>Яндекс</td>\n",
       "      <td>181</td>\n",
       "    </tr>\n",
       "    <tr>\n",
       "      <th>1</th>\n",
       "      <td>Ростелеком</td>\n",
       "      <td>152</td>\n",
       "    </tr>\n",
       "    <tr>\n",
       "      <th>2</th>\n",
       "      <td>Спецремонт</td>\n",
       "      <td>116</td>\n",
       "    </tr>\n",
       "    <tr>\n",
       "      <th>3</th>\n",
       "      <td>Поляков Денис Иванович</td>\n",
       "      <td>88</td>\n",
       "    </tr>\n",
       "    <tr>\n",
       "      <th>4</th>\n",
       "      <td>ООО ЕФИН</td>\n",
       "      <td>71</td>\n",
       "    </tr>\n",
       "  </tbody>\n",
       "</table>\n",
       "</div>"
      ],
      "text/plain": [
       "             Работодатель  name_cnt\n",
       "0                  Яндекс       181\n",
       "1              Ростелеком       152\n",
       "2              Спецремонт       116\n",
       "3  Поляков Денис Иванович        88\n",
       "4               ООО ЕФИН         71"
      ]
     },
     "execution_count": 20,
     "metadata": {},
     "output_type": "execute_result"
    }
   ],
   "source": [
    "query_5_3 = f'''SELECT\n",
    "                    e.name \"Работодатель\",\n",
    "                    COUNT(distinct a.name) name_cnt\n",
    "                FROM public.vacancies v\n",
    "                    left JOIN public.employers e ON v.employer_id = e.id\n",
    "                    left JOIN public.areas a ON v.area_id = a.id\n",
    "                GROUP BY 1\n",
    "                ORDER BY 2 DESC\n",
    "                limit 5\n",
    "              '''\n",
    "df = pd.read_sql_query(query_5_3, connection)\n",
    "df "
   ]
  },
  {
   "cell_type": "markdown",
   "id": "9dcaf599",
   "metadata": {},
   "source": [
    "**Вывод:** чем разнообразнее спектр услуг IT компании, тем она болше представлена в различных регионах"
   ]
  },
  {
   "cell_type": "markdown",
   "id": "00a58afe",
   "metadata": {},
   "source": [
    "**Задание 5.4**\n",
    "\n",
    "Напишите запрос для подсчёта количества работодателей, у которых не указана сфера деятельности.\n",
    "\n",
    "Введите количество, которое вернул запрос, в поле ниже."
   ]
  },
  {
   "cell_type": "code",
   "execution_count": 21,
   "id": "5d7c685b",
   "metadata": {},
   "outputs": [
    {
     "data": {
      "text/html": [
       "<div>\n",
       "<style scoped>\n",
       "    .dataframe tbody tr th:only-of-type {\n",
       "        vertical-align: middle;\n",
       "    }\n",
       "\n",
       "    .dataframe tbody tr th {\n",
       "        vertical-align: top;\n",
       "    }\n",
       "\n",
       "    .dataframe thead th {\n",
       "        text-align: right;\n",
       "    }\n",
       "</style>\n",
       "<table border=\"1\" class=\"dataframe\">\n",
       "  <thead>\n",
       "    <tr style=\"text-align: right;\">\n",
       "      <th></th>\n",
       "      <th>cnt</th>\n",
       "    </tr>\n",
       "  </thead>\n",
       "  <tbody>\n",
       "    <tr>\n",
       "      <th>0</th>\n",
       "      <td>8419</td>\n",
       "    </tr>\n",
       "  </tbody>\n",
       "</table>\n",
       "</div>"
      ],
      "text/plain": [
       "    cnt\n",
       "0  8419"
      ]
     },
     "execution_count": 21,
     "metadata": {},
     "output_type": "execute_result"
    }
   ],
   "source": [
    "query_5_4 = f'''SELECT\n",
    "                    count(e.name) cnt\n",
    "                FROM\n",
    "                    public.EMPLOYERS e\n",
    "                    LEFT JOIN public.EMPLOYERS_INDUSTRIES ei on employer_id = e.id\n",
    "                where ei.industry_id is NULL\n",
    "                limit 5\n",
    "             '''   \n",
    "df = pd.read_sql_query(query_5_4, connection)\n",
    "df "
   ]
  },
  {
   "cell_type": "markdown",
   "id": "1babbb5a",
   "metadata": {},
   "source": [
    "**Задание 5.5**\n",
    "\n",
    "Напишите запрос, чтобы узнать название компании, находящейся на третьем месте в алфавитном списке (по названию) компаний, у которых указано четыре сферы деятельности.\n",
    "\n",
    "Введите в поле ниже название этой компании так же, как оно указано в результате запроса."
   ]
  },
  {
   "cell_type": "code",
   "execution_count": 22,
   "id": "9fd9882c",
   "metadata": {},
   "outputs": [
    {
     "data": {
      "text/html": [
       "<div>\n",
       "<style scoped>\n",
       "    .dataframe tbody tr th:only-of-type {\n",
       "        vertical-align: middle;\n",
       "    }\n",
       "\n",
       "    .dataframe tbody tr th {\n",
       "        vertical-align: top;\n",
       "    }\n",
       "\n",
       "    .dataframe thead th {\n",
       "        text-align: right;\n",
       "    }\n",
       "</style>\n",
       "<table border=\"1\" class=\"dataframe\">\n",
       "  <thead>\n",
       "    <tr style=\"text-align: right;\">\n",
       "      <th></th>\n",
       "      <th>name</th>\n",
       "      <th>cnt</th>\n",
       "    </tr>\n",
       "  </thead>\n",
       "  <tbody>\n",
       "    <tr>\n",
       "      <th>0</th>\n",
       "      <td>101 Интернет</td>\n",
       "      <td>4</td>\n",
       "    </tr>\n",
       "    <tr>\n",
       "      <th>1</th>\n",
       "      <td>21vek.by</td>\n",
       "      <td>4</td>\n",
       "    </tr>\n",
       "    <tr>\n",
       "      <th>2</th>\n",
       "      <td>2ГИС</td>\n",
       "      <td>4</td>\n",
       "    </tr>\n",
       "  </tbody>\n",
       "</table>\n",
       "</div>"
      ],
      "text/plain": [
       "           name  cnt\n",
       "0  101 Интернет    4\n",
       "1      21vek.by    4\n",
       "2          2ГИС    4"
      ]
     },
     "execution_count": 22,
     "metadata": {},
     "output_type": "execute_result"
    }
   ],
   "source": [
    "query_5_5 = f'''SELECT\n",
    "                    e.name,\n",
    "                    count (i.name) cnt\n",
    "                FROM\n",
    "                    public.EMPLOYERS_INDUSTRIES ei\n",
    "                    JOIN public.EMPLOYERS e on ei.employer_id = e.id\n",
    "                    JOIN public.INDUSTRIES i on ei.industry_id = i.id\n",
    "                        \n",
    "                GROUP BY 1\n",
    "                    having count (i.name) = 4\n",
    "                ORDER BY 1 \n",
    "                limit 3\n",
    "             '''   \n",
    "df = pd.read_sql_query(query_5_5, connection)\n",
    "df                 "
   ]
  },
  {
   "cell_type": "markdown",
   "id": "b382aae8",
   "metadata": {},
   "source": [
    "**Задание 5.6**\n",
    "\n",
    "С помощью запроса выясните, у какого количества работодателей в качестве сферы деятельности указана «Разработка программного обеспечения»."
   ]
  },
  {
   "cell_type": "code",
   "execution_count": 23,
   "id": "7ebb4c08",
   "metadata": {},
   "outputs": [
    {
     "data": {
      "text/html": [
       "<div>\n",
       "<style scoped>\n",
       "    .dataframe tbody tr th:only-of-type {\n",
       "        vertical-align: middle;\n",
       "    }\n",
       "\n",
       "    .dataframe tbody tr th {\n",
       "        vertical-align: top;\n",
       "    }\n",
       "\n",
       "    .dataframe thead th {\n",
       "        text-align: right;\n",
       "    }\n",
       "</style>\n",
       "<table border=\"1\" class=\"dataframe\">\n",
       "  <thead>\n",
       "    <tr style=\"text-align: right;\">\n",
       "      <th></th>\n",
       "      <th>cnt</th>\n",
       "    </tr>\n",
       "  </thead>\n",
       "  <tbody>\n",
       "    <tr>\n",
       "      <th>0</th>\n",
       "      <td>3553</td>\n",
       "    </tr>\n",
       "  </tbody>\n",
       "</table>\n",
       "</div>"
      ],
      "text/plain": [
       "    cnt\n",
       "0  3553"
      ]
     },
     "execution_count": 23,
     "metadata": {},
     "output_type": "execute_result"
    }
   ],
   "source": [
    "query_5_6 = f'''SELECT\n",
    "                    count (e.id) cnt\n",
    "                FROM    \n",
    "                    public.EMPLOYERS e\n",
    "                    JOIN public.EMPLOYERS_INDUSTRIES ei on e.id = ei.employer_id\n",
    "                    JOIN public.INDUSTRIES i on ei.industry_id = i.id\n",
    "                where (i.name) = 'Разработка программного обеспечения'        \n",
    "             '''\n",
    "df = pd.read_sql_query(query_5_6, connection)\n",
    "df  "
   ]
  },
  {
   "cell_type": "markdown",
   "id": "ef7b38bb",
   "metadata": {},
   "source": [
    "**Задание 5.7**\n",
    "\n",
    "Для компании «Яндекс» выведите список регионов-миллионников , в которых представлены вакансии компании, вместе с количеством вакансий в этих регионах. Также добавьте строку Total с общим количеством вакансий компании. Должна получиться выборка такого вида (приведён пример результата для компании SberTech):"
   ]
  },
  {
   "cell_type": "code",
   "execution_count": 24,
   "id": "b7f37f0c",
   "metadata": {},
   "outputs": [
    {
     "data": {
      "text/html": [
       "<div>\n",
       "<style scoped>\n",
       "    .dataframe tbody tr th:only-of-type {\n",
       "        vertical-align: middle;\n",
       "    }\n",
       "\n",
       "    .dataframe tbody tr th {\n",
       "        vertical-align: top;\n",
       "    }\n",
       "\n",
       "    .dataframe thead th {\n",
       "        text-align: right;\n",
       "    }\n",
       "</style>\n",
       "<table border=\"1\" class=\"dataframe\">\n",
       "  <thead>\n",
       "    <tr style=\"text-align: right;\">\n",
       "      <th></th>\n",
       "      <th>name</th>\n",
       "      <th>cnt</th>\n",
       "    </tr>\n",
       "  </thead>\n",
       "  <tbody>\n",
       "    <tr>\n",
       "      <th>0</th>\n",
       "      <td>Омск</td>\n",
       "      <td>21</td>\n",
       "    </tr>\n",
       "    <tr>\n",
       "      <th>1</th>\n",
       "      <td>Челябинск</td>\n",
       "      <td>22</td>\n",
       "    </tr>\n",
       "    <tr>\n",
       "      <th>2</th>\n",
       "      <td>Красноярск</td>\n",
       "      <td>23</td>\n",
       "    </tr>\n",
       "    <tr>\n",
       "      <th>3</th>\n",
       "      <td>Волгоград</td>\n",
       "      <td>24</td>\n",
       "    </tr>\n",
       "    <tr>\n",
       "      <th>4</th>\n",
       "      <td>Пермь</td>\n",
       "      <td>25</td>\n",
       "    </tr>\n",
       "    <tr>\n",
       "      <th>5</th>\n",
       "      <td>Казань</td>\n",
       "      <td>25</td>\n",
       "    </tr>\n",
       "    <tr>\n",
       "      <th>6</th>\n",
       "      <td>Ростов-на-Дону</td>\n",
       "      <td>25</td>\n",
       "    </tr>\n",
       "    <tr>\n",
       "      <th>7</th>\n",
       "      <td>Уфа</td>\n",
       "      <td>26</td>\n",
       "    </tr>\n",
       "    <tr>\n",
       "      <th>8</th>\n",
       "      <td>Самара</td>\n",
       "      <td>26</td>\n",
       "    </tr>\n",
       "    <tr>\n",
       "      <th>9</th>\n",
       "      <td>Краснодар</td>\n",
       "      <td>30</td>\n",
       "    </tr>\n",
       "    <tr>\n",
       "      <th>10</th>\n",
       "      <td>Воронеж</td>\n",
       "      <td>32</td>\n",
       "    </tr>\n",
       "    <tr>\n",
       "      <th>11</th>\n",
       "      <td>Новосибирск</td>\n",
       "      <td>35</td>\n",
       "    </tr>\n",
       "    <tr>\n",
       "      <th>12</th>\n",
       "      <td>Нижний Новгород</td>\n",
       "      <td>36</td>\n",
       "    </tr>\n",
       "    <tr>\n",
       "      <th>13</th>\n",
       "      <td>Екатеринбург</td>\n",
       "      <td>39</td>\n",
       "    </tr>\n",
       "    <tr>\n",
       "      <th>14</th>\n",
       "      <td>Санкт-Петербург</td>\n",
       "      <td>42</td>\n",
       "    </tr>\n",
       "    <tr>\n",
       "      <th>15</th>\n",
       "      <td>Москва</td>\n",
       "      <td>54</td>\n",
       "    </tr>\n",
       "    <tr>\n",
       "      <th>16</th>\n",
       "      <td>Total</td>\n",
       "      <td>485</td>\n",
       "    </tr>\n",
       "  </tbody>\n",
       "</table>\n",
       "</div>"
      ],
      "text/plain": [
       "               name  cnt\n",
       "0              Омск   21\n",
       "1         Челябинск   22\n",
       "2        Красноярск   23\n",
       "3         Волгоград   24\n",
       "4             Пермь   25\n",
       "5            Казань   25\n",
       "6    Ростов-на-Дону   25\n",
       "7               Уфа   26\n",
       "8            Самара   26\n",
       "9         Краснодар   30\n",
       "10          Воронеж   32\n",
       "11      Новосибирск   35\n",
       "12  Нижний Новгород   36\n",
       "13     Екатеринбург   39\n",
       "14  Санкт-Петербург   42\n",
       "15           Москва   54\n",
       "16            Total  485"
      ]
     },
     "execution_count": 24,
     "metadata": {},
     "output_type": "execute_result"
    }
   ],
   "source": [
    "query_5_7 = f'''SELECT\n",
    "                    a.name,\n",
    "                    COUNT(v.id) AS cnt\n",
    "                FROM public.vacancies AS v \n",
    "                JOIN public.employers AS e ON e.id = v.employer_id AND e.name = 'Яндекс'\n",
    "                JOIN public.areas AS a ON a.id = v.area_id AND\n",
    "                    a.name IN ('Москва', 'Санкт-Петербург', 'Новосибирск', 'Екатеринбург', 'Казань',\n",
    "                               'Нижний Новгород', 'Челябинск', 'Красноярск', 'Самара', 'Уфа', 'Ростов-на-Дону', \n",
    "                               'Омск', 'Краснодар', 'Воронеж', 'Пермь', 'Волгоград')\n",
    "                GROUP BY a.name\n",
    "                UNION ALL\n",
    "                SELECT\n",
    "                    'Total',\n",
    "                    COUNT(*)\n",
    "                FROM public.vacancies AS vv\n",
    "                JOIN public.employers AS ee ON ee.id = vv.employer_id AND ee.name = 'Яндекс'\n",
    "                JOIN public.areas AS aa ON aa.id = vv.area_id AND\n",
    "                    aa.name IN ('Москва', 'Санкт-Петербург', 'Новосибирск', 'Екатеринбург', 'Казань',\n",
    "                               'Нижний Новгород', 'Челябинск', 'Красноярск', 'Самара', 'Уфа', 'Ростов-на-Дону', \n",
    "                               'Омск', 'Краснодар', 'Воронеж', 'Пермь', 'Волгоград')\n",
    "                ORDER BY cnt                                    \n",
    "             '''\n",
    "df = pd.read_sql_query(query_5_7, connection)\n",
    "df  "
   ]
  },
  {
   "cell_type": "markdown",
   "id": "e4538cbe",
   "metadata": {},
   "source": [
    "**Вывод:** видим кол-во вакансий увеличивается с численностью города"
   ]
  },
  {
   "cell_type": "markdown",
   "id": "e945858a",
   "metadata": {},
   "source": [
    "**Задание 6.1**\n",
    "\n",
    "Сколько вакансий имеет отношение к данным?"
   ]
  },
  {
   "cell_type": "code",
   "execution_count": 25,
   "id": "fa990cd0",
   "metadata": {},
   "outputs": [
    {
     "data": {
      "text/html": [
       "<div>\n",
       "<style scoped>\n",
       "    .dataframe tbody tr th:only-of-type {\n",
       "        vertical-align: middle;\n",
       "    }\n",
       "\n",
       "    .dataframe tbody tr th {\n",
       "        vertical-align: top;\n",
       "    }\n",
       "\n",
       "    .dataframe thead th {\n",
       "        text-align: right;\n",
       "    }\n",
       "</style>\n",
       "<table border=\"1\" class=\"dataframe\">\n",
       "  <thead>\n",
       "    <tr style=\"text-align: right;\">\n",
       "      <th></th>\n",
       "      <th>cnt</th>\n",
       "    </tr>\n",
       "  </thead>\n",
       "  <tbody>\n",
       "    <tr>\n",
       "      <th>0</th>\n",
       "      <td>1771</td>\n",
       "    </tr>\n",
       "  </tbody>\n",
       "</table>\n",
       "</div>"
      ],
      "text/plain": [
       "    cnt\n",
       "0  1771"
      ]
     },
     "execution_count": 25,
     "metadata": {},
     "output_type": "execute_result"
    }
   ],
   "source": [
    "query_6_1 = f'''SELECT\n",
    "                    count (*) cnt\n",
    "                FROM    \n",
    "                    public.VACANCIES v\n",
    "                where  LOWER (v.name) LIKE '%data%'\n",
    "                    OR LOWER (v.name) LIKE '%данн%'\n",
    "             '''\n",
    "df = pd.read_sql_query(query_6_1, connection)\n",
    "df  "
   ]
  },
  {
   "cell_type": "markdown",
   "id": "88ffdb04",
   "metadata": {},
   "source": [
    "**Задание 6.2**\n",
    "\n",
    "Сколько есть подходящих вакансий для начинающего дата-сайентиста?\n",
    "\n",
    "Будем считать вакансиями для дата-сайентистов такие, в названии которых есть хотя бы одно из следующих сочетаний:\n",
    "\n",
    "* ‘data scientist’;\n",
    "* ‘data science’;\n",
    "* ‘исследователь данных’;\n",
    "* ‘ML’ (здесь не нужно брать вакансии по HTML);\n",
    "* ‘machine learning’;\n",
    "* ‘машинн%обучен%’.\n",
    ">В следующих заданиях мы продолжим работать с вакансиями по указанному выше условию (уже не учитывая вакансии уровня *Junior*).\n",
    "\n",
    "Считаем вакансиями для специалистов уровня *Junior* следующие:\n",
    "\n",
    "в названии есть слово “junior” **или**        \n",
    "требуемый опыт — «Нет опыта» **или**          \n",
    "тип трудоустройства — «Стажировка»."
   ]
  },
  {
   "cell_type": "code",
   "execution_count": 26,
   "id": "1e015c67",
   "metadata": {},
   "outputs": [
    {
     "data": {
      "text/html": [
       "<div>\n",
       "<style scoped>\n",
       "    .dataframe tbody tr th:only-of-type {\n",
       "        vertical-align: middle;\n",
       "    }\n",
       "\n",
       "    .dataframe tbody tr th {\n",
       "        vertical-align: top;\n",
       "    }\n",
       "\n",
       "    .dataframe thead th {\n",
       "        text-align: right;\n",
       "    }\n",
       "</style>\n",
       "<table border=\"1\" class=\"dataframe\">\n",
       "  <thead>\n",
       "    <tr style=\"text-align: right;\">\n",
       "      <th></th>\n",
       "      <th>count</th>\n",
       "    </tr>\n",
       "  </thead>\n",
       "  <tbody>\n",
       "    <tr>\n",
       "      <th>0</th>\n",
       "      <td>51</td>\n",
       "    </tr>\n",
       "  </tbody>\n",
       "</table>\n",
       "</div>"
      ],
      "text/plain": [
       "   count\n",
       "0     51"
      ]
     },
     "execution_count": 26,
     "metadata": {},
     "output_type": "execute_result"
    }
   ],
   "source": [
    "query_6_2 = f'''SELECT\n",
    "                    count(*)\n",
    "                FROM vacancies v\n",
    "                \n",
    "                WHERE (LOWER (v.name) LIKE '%data scientist%' \n",
    "                    OR LOWER (v.name) LIKE '%data science%' \n",
    "                    OR LOWER (v.name) LIKE '%исследователь данных%' \n",
    "                    OR (\n",
    "                       UPPER (v.name) LIKE '%ML%' \n",
    "                       AND UPPER (v.name) NOT LIKE '%HTML%'\n",
    "                       ) \n",
    "                    OR LOWER (v.name) LIKE '%machine learning%' \n",
    "                    OR LOWER (v.name) LIKE '%машинн%обучен%')\n",
    "                    AND (\n",
    "                        LOWER (v.name) LIKE '%junior%'\n",
    "                        OR LOWER (v.experience) LIKE '%нет опыта%'\n",
    "                        OR LOWER (v.employment) LIKE '%стажировка%'\n",
    "                        )\n",
    "                 '''   \n",
    "df = pd.read_sql_query(query_6_2, connection)\n",
    "df      "
   ]
  },
  {
   "cell_type": "markdown",
   "id": "7194523c",
   "metadata": {},
   "source": [
    "**Вывод:** начинающему специалисту тяжело найти подходящую вакансию."
   ]
  },
  {
   "cell_type": "markdown",
   "id": "0fa5d823",
   "metadata": {},
   "source": [
    "**Задание 6.3**\n",
    "\n",
    "Сколько есть вакансий для DS, в которых в качестве ключевого навыка указан SQL или postgres?\n",
    "\n",
    "В качестве ответа запишите количество, которое вернул запрос."
   ]
  },
  {
   "cell_type": "code",
   "execution_count": 27,
   "id": "d1c6c3e4",
   "metadata": {},
   "outputs": [
    {
     "data": {
      "text/html": [
       "<div>\n",
       "<style scoped>\n",
       "    .dataframe tbody tr th:only-of-type {\n",
       "        vertical-align: middle;\n",
       "    }\n",
       "\n",
       "    .dataframe tbody tr th {\n",
       "        vertical-align: top;\n",
       "    }\n",
       "\n",
       "    .dataframe thead th {\n",
       "        text-align: right;\n",
       "    }\n",
       "</style>\n",
       "<table border=\"1\" class=\"dataframe\">\n",
       "  <thead>\n",
       "    <tr style=\"text-align: right;\">\n",
       "      <th></th>\n",
       "      <th>count</th>\n",
       "    </tr>\n",
       "  </thead>\n",
       "  <tbody>\n",
       "    <tr>\n",
       "      <th>0</th>\n",
       "      <td>201</td>\n",
       "    </tr>\n",
       "  </tbody>\n",
       "</table>\n",
       "</div>"
      ],
      "text/plain": [
       "   count\n",
       "0    201"
      ]
     },
     "execution_count": 27,
     "metadata": {},
     "output_type": "execute_result"
    }
   ],
   "source": [
    "query_6_3 = f'''SELECT\n",
    "                    count(*)\n",
    "                from vacancies v  /*из таблицы вакансий*/\n",
    "                WHERE (LOWER (v.name) LIKE '%data scientist%' \n",
    "                    OR LOWER (v.name) LIKE '%data science%' \n",
    "                    OR LOWER (v.name) LIKE '%исследователь данных%' \n",
    "                    OR ( \n",
    "                       v.name LIKE '%ML%' \n",
    "                       AND v.name NOT LIKE '%HTML%'\n",
    "                       ) \n",
    "                    OR LOWER (v.name) LIKE '%machine learning%' \n",
    "                    OR LOWER (v.name) LIKE '%машинн%обучен%')\n",
    "                    AND (UPPER (v.key_skills) LIKE '%SQL%' or LOWER (v.key_skills) LIKE '%postgres%')\n",
    "            '''\n",
    "df = pd.read_sql_query(query_6_3, connection)\n",
    "df   "
   ]
  },
  {
   "cell_type": "markdown",
   "id": "ba6eec03",
   "metadata": {},
   "source": [
    "**Задание 6.4**\n",
    "\n",
    "С помощью запроса, аналогичного предыдущему, проверьте, насколько популярен Python в требованиях работодателей к DS. Вычислите количество вакансий, в которых в качестве ключевого навыка указан Python.\n",
    "\n",
    "В качестве ответа запишите количество, которое вернул запрос."
   ]
  },
  {
   "cell_type": "code",
   "execution_count": 28,
   "id": "dfd1eb08",
   "metadata": {},
   "outputs": [
    {
     "data": {
      "text/html": [
       "<div>\n",
       "<style scoped>\n",
       "    .dataframe tbody tr th:only-of-type {\n",
       "        vertical-align: middle;\n",
       "    }\n",
       "\n",
       "    .dataframe tbody tr th {\n",
       "        vertical-align: top;\n",
       "    }\n",
       "\n",
       "    .dataframe thead th {\n",
       "        text-align: right;\n",
       "    }\n",
       "</style>\n",
       "<table border=\"1\" class=\"dataframe\">\n",
       "  <thead>\n",
       "    <tr style=\"text-align: right;\">\n",
       "      <th></th>\n",
       "      <th>count</th>\n",
       "    </tr>\n",
       "  </thead>\n",
       "  <tbody>\n",
       "    <tr>\n",
       "      <th>0</th>\n",
       "      <td>351</td>\n",
       "    </tr>\n",
       "  </tbody>\n",
       "</table>\n",
       "</div>"
      ],
      "text/plain": [
       "   count\n",
       "0    351"
      ]
     },
     "execution_count": 28,
     "metadata": {},
     "output_type": "execute_result"
    }
   ],
   "source": [
    "query_6_4 = f'''SELECT\n",
    "                    count(*)\n",
    "                from vacancies v  /*из таблицы вакансий*/\n",
    "                WHERE (LOWER (v.name) LIKE '%data scientist%' \n",
    "                    OR LOWER (v.name) LIKE '%data science%' \n",
    "                    OR LOWER (v.name) LIKE '%исследователь данных%' \n",
    "                    OR ( \n",
    "                       v.name LIKE '%ML%' \n",
    "                       AND v.name NOT LIKE '%HTML%'\n",
    "                       ) \n",
    "                    OR LOWER (v.name) LIKE '%machine learning%' \n",
    "                    OR LOWER (v.name) LIKE '%машинн%обучен%')\n",
    "                    AND LOWER (v.key_skills) LIKE '%python%'\n",
    "            '''\n",
    "df = pd.read_sql_query(query_6_4, connection)\n",
    "df "
   ]
  },
  {
   "cell_type": "markdown",
   "id": "d45098a1",
   "metadata": {},
   "source": [
    "**Вывод:** видим что спецалист со знанием Python более востребован чем специалист со знанием SQL или postgres."
   ]
  },
  {
   "cell_type": "markdown",
   "id": "fd1e70a2",
   "metadata": {},
   "source": [
    "**Задание 6.5**\n",
    "\n",
    "Сколько ключевых навыков в среднем указывают в вакансиях для DS?\n",
    "\n",
    "Ответ округлите до двух знаков после точки-разделителя."
   ]
  },
  {
   "cell_type": "code",
   "execution_count": 29,
   "id": "77a6d58c",
   "metadata": {},
   "outputs": [
    {
     "data": {
      "text/html": [
       "<div>\n",
       "<style scoped>\n",
       "    .dataframe tbody tr th:only-of-type {\n",
       "        vertical-align: middle;\n",
       "    }\n",
       "\n",
       "    .dataframe tbody tr th {\n",
       "        vertical-align: top;\n",
       "    }\n",
       "\n",
       "    .dataframe thead th {\n",
       "        text-align: right;\n",
       "    }\n",
       "</style>\n",
       "<table border=\"1\" class=\"dataframe\">\n",
       "  <thead>\n",
       "    <tr style=\"text-align: right;\">\n",
       "      <th></th>\n",
       "      <th>to_char</th>\n",
       "    </tr>\n",
       "  </thead>\n",
       "  <tbody>\n",
       "    <tr>\n",
       "      <th>0</th>\n",
       "      <td>6.41</td>\n",
       "    </tr>\n",
       "  </tbody>\n",
       "</table>\n",
       "</div>"
      ],
      "text/plain": [
       "  to_char\n",
       "0    6.41"
      ]
     },
     "execution_count": 29,
     "metadata": {},
     "output_type": "execute_result"
    }
   ],
   "source": [
    "query_6_5 = f'''SELECT\n",
    "                to_char(\n",
    "                AVG(\n",
    "                    LENGTH(v.key_skills) - LENGTH(replace(v.key_skills, CHR(9), '')) +1\n",
    "                    ), '99.99')\n",
    "\n",
    "                FROM\n",
    "                    public.VACANCIES v  /*из таблицы вакансий*/\n",
    "                where (LOWER(v.name) LIKE '%data scientist%'\n",
    "                OR LOWER (v.name) LIKE '%data science%'\n",
    "                or LOWER (v.name) LIKE '%исследователь данных%'\n",
    "                or (v.name LIKE '%ML%' and v.name not LIKE '%HTML%')\n",
    "                or LOWER (v.name) LIKE '%machine learning%'\n",
    "                or LOWER (v.name) LIKE '%машинн%обучен%%')\n",
    "                and v.key_skills is not NULL\n",
    "             '''   \n",
    "df = pd.read_sql_query(query_6_5, connection)\n",
    "df "
   ]
  },
  {
   "cell_type": "markdown",
   "id": "83221875",
   "metadata": {},
   "source": [
    "**Вывод:** из данного запроса видно, что в основном требуются универсальные специалисты"
   ]
  },
  {
   "cell_type": "markdown",
   "id": "be978c0d",
   "metadata": {},
   "source": [
    "**Задание 6.6**\n",
    "\n",
    "Напишите запрос, позволяющий вычислить, какую зарплату для DS в среднем указывают для каждого типа требуемого опыта (уникальное значение из поля experience).\n",
    "\n",
    "При решении задачи примите во внимание следующее:\n",
    "\n",
    "1. Рассматриваем только вакансии, у которых заполнено хотя бы одно из двух полей с зарплатой.\n",
    "2. Если заполнены оба поля с зарплатой, считаем зарплату по каждой вакансии как сумму двух полей, делённую на 2. Если заполнено только одно из полей, его и считаем зарплатой по вакансии.\n",
    "3. Если в расчётах участвует `null`, в результате он тоже даст `null` (посмотрите, что возвращает запрос `select 1 + null`).          \n",
    "Чтобы избежать этой ситуации, мы воспользуемся функцией [coalesce](https://postgrespro.ru/docs/postgresql/9.5/functions-conditional#functions-coalesce-nvl-ifnull) , которая заменит `null` на значение, которое мы передадим. Например, посмотрите, что возвращает запрос `select 1 + coalesce(null, 0).`                             \n",
    "Выясните, на какую зарплату в среднем может рассчитывать дата-сайентист с опытом работы от 3 до 6 лет. Результат округлите до целого числа."
   ]
  },
  {
   "cell_type": "code",
   "execution_count": 30,
   "id": "d319ec00",
   "metadata": {},
   "outputs": [
    {
     "data": {
      "text/html": [
       "<div>\n",
       "<style scoped>\n",
       "    .dataframe tbody tr th:only-of-type {\n",
       "        vertical-align: middle;\n",
       "    }\n",
       "\n",
       "    .dataframe tbody tr th {\n",
       "        vertical-align: top;\n",
       "    }\n",
       "\n",
       "    .dataframe thead th {\n",
       "        text-align: right;\n",
       "    }\n",
       "</style>\n",
       "<table border=\"1\" class=\"dataframe\">\n",
       "  <thead>\n",
       "    <tr style=\"text-align: right;\">\n",
       "      <th></th>\n",
       "      <th>experience</th>\n",
       "      <th>to_char</th>\n",
       "    </tr>\n",
       "  </thead>\n",
       "  <tbody>\n",
       "    <tr>\n",
       "      <th>0</th>\n",
       "      <td>Нет опыта</td>\n",
       "      <td>74643</td>\n",
       "    </tr>\n",
       "    <tr>\n",
       "      <th>1</th>\n",
       "      <td>От 1 года до 3 лет</td>\n",
       "      <td>139675</td>\n",
       "    </tr>\n",
       "    <tr>\n",
       "      <th>2</th>\n",
       "      <td>От 3 до 6 лет</td>\n",
       "      <td>243115</td>\n",
       "    </tr>\n",
       "  </tbody>\n",
       "</table>\n",
       "</div>"
      ],
      "text/plain": [
       "           experience   to_char\n",
       "0           Нет опыта     74643\n",
       "1  От 1 года до 3 лет    139675\n",
       "2       От 3 до 6 лет    243115"
      ]
     },
     "execution_count": 30,
     "metadata": {},
     "output_type": "execute_result"
    }
   ],
   "source": [
    "query_6_6 = f'''SELECT\n",
    "                    experience,\n",
    "                    to_char(\n",
    "                    AVG(COALESCE((salary_from+salary_to)/2, salary_from, salary_to, 0)), '9999999')\n",
    "                FROM public.vacancies\n",
    "                WHERE (lower(name) LIKE '%data scientist%'\n",
    "                    OR lower(name) LIKE '%data science%'\n",
    "                    OR lower(name) LIKE '%исследователь данных%'\n",
    "                    OR (name LIKE '%ML%' AND name NOT LIKE '%HTML%')\n",
    "                    OR lower(name) LIKE '%machine learning%'\n",
    "                    OR lower(name) LIKE '%машинн%обучен%%')\n",
    "                    AND (salary_from IS NOT NULL OR salary_to IS NOT NULL)\n",
    "                GROUP BY experience  \n",
    "             '''   \n",
    "df = pd.read_sql_query(query_6_6, connection)\n",
    "df "
   ]
  },
  {
   "cell_type": "markdown",
   "id": "87c995ea",
   "metadata": {},
   "source": [
    "**Вывод:** видно чем у специалиста больше опыт, тем предлагаетсе выше оплата труда."
   ]
  },
  {
   "cell_type": "markdown",
   "id": "537d5bed",
   "metadata": {},
   "source": [
    "#### Дополнительные исследования данных.\n",
    "\n",
    "**Задание 7.0**          \n",
    "Узнать среднюю предлагаемую зарплату по региону."
   ]
  },
  {
   "cell_type": "code",
   "execution_count": 31,
   "id": "28d0d4cf",
   "metadata": {},
   "outputs": [
    {
     "data": {
      "text/html": [
       "<div>\n",
       "<style scoped>\n",
       "    .dataframe tbody tr th:only-of-type {\n",
       "        vertical-align: middle;\n",
       "    }\n",
       "\n",
       "    .dataframe tbody tr th {\n",
       "        vertical-align: top;\n",
       "    }\n",
       "\n",
       "    .dataframe thead th {\n",
       "        text-align: right;\n",
       "    }\n",
       "</style>\n",
       "<table border=\"1\" class=\"dataframe\">\n",
       "  <thead>\n",
       "    <tr style=\"text-align: right;\">\n",
       "      <th></th>\n",
       "      <th>Регион</th>\n",
       "      <th>Количество вакансий</th>\n",
       "      <th>Salary</th>\n",
       "    </tr>\n",
       "  </thead>\n",
       "  <tbody>\n",
       "    <tr>\n",
       "      <th>0</th>\n",
       "      <td>Петропавловка (Республика Бурятия)</td>\n",
       "      <td>1</td>\n",
       "      <td>250000.0</td>\n",
       "    </tr>\n",
       "    <tr>\n",
       "      <th>1</th>\n",
       "      <td>Дзержинск (Беларусь)</td>\n",
       "      <td>3</td>\n",
       "      <td>220349.0</td>\n",
       "    </tr>\n",
       "    <tr>\n",
       "      <th>2</th>\n",
       "      <td>Великобритания</td>\n",
       "      <td>2</td>\n",
       "      <td>208962.0</td>\n",
       "    </tr>\n",
       "    <tr>\n",
       "      <th>3</th>\n",
       "      <td>Шушары</td>\n",
       "      <td>1</td>\n",
       "      <td>200000.0</td>\n",
       "    </tr>\n",
       "    <tr>\n",
       "      <th>4</th>\n",
       "      <td>Заполярный (Ямало-Ненецкий АО)</td>\n",
       "      <td>1</td>\n",
       "      <td>200000.0</td>\n",
       "    </tr>\n",
       "    <tr>\n",
       "      <th>5</th>\n",
       "      <td>Павловск (Ленинградская область)</td>\n",
       "      <td>1</td>\n",
       "      <td>200000.0</td>\n",
       "    </tr>\n",
       "    <tr>\n",
       "      <th>6</th>\n",
       "      <td>Нидерланды</td>\n",
       "      <td>2</td>\n",
       "      <td>168750.0</td>\n",
       "    </tr>\n",
       "    <tr>\n",
       "      <th>7</th>\n",
       "      <td>Кутаиси</td>\n",
       "      <td>4</td>\n",
       "      <td>165356.0</td>\n",
       "    </tr>\n",
       "    <tr>\n",
       "      <th>8</th>\n",
       "      <td>Амурск</td>\n",
       "      <td>1</td>\n",
       "      <td>165000.0</td>\n",
       "    </tr>\n",
       "    <tr>\n",
       "      <th>9</th>\n",
       "      <td>Ленск</td>\n",
       "      <td>1</td>\n",
       "      <td>155000.0</td>\n",
       "    </tr>\n",
       "  </tbody>\n",
       "</table>\n",
       "</div>"
      ],
      "text/plain": [
       "                               Регион  Количество вакансий    Salary\n",
       "0  Петропавловка (Республика Бурятия)                    1  250000.0\n",
       "1                Дзержинск (Беларусь)                    3  220349.0\n",
       "2                      Великобритания                    2  208962.0\n",
       "3                              Шушары                    1  200000.0\n",
       "4      Заполярный (Ямало-Ненецкий АО)                    1  200000.0\n",
       "5    Павловск (Ленинградская область)                    1  200000.0\n",
       "6                          Нидерланды                    2  168750.0\n",
       "7                             Кутаиси                    4  165356.0\n",
       "8                              Амурск                    1  165000.0\n",
       "9                               Ленск                    1  155000.0"
      ]
     },
     "execution_count": 31,
     "metadata": {},
     "output_type": "execute_result"
    }
   ],
   "source": [
    "query_7_0 = f'''SELECT\n",
    "                    a.name \"Регион\",\n",
    "                    COUNT(v.id) \"Количество вакансий\",\n",
    "                    AVG(COALESCE((salary_from+salary_to)/2, salary_from, salary_to, 0)) \"Salary\"                    \n",
    "                FROM public.vacancies v\n",
    "                    left JOIN public.areas a ON v.area_id = a.id                \n",
    "                GROUP BY 1\n",
    "                ORDER BY 3 DESC \n",
    "                limit 10\n",
    "              '''\n",
    "df = pd.read_sql_query(query_7_0, connection)\n",
    "df "
   ]
  },
  {
   "cell_type": "markdown",
   "id": "1b2049f2",
   "metadata": {},
   "source": [
    "**Вывод:** Видно что самые большие предложения по средней зарплате в Бурятии, Беларуси и Великобритании, но на этих данных не правильно делать вывод о средней предлагаемой зарплате по региону, давайте в слеующем запросе отсечем реионы где кол-во предложений меньше 10. "
   ]
  },
  {
   "cell_type": "markdown",
   "id": "1a56e53b",
   "metadata": {},
   "source": [
    "**Задание 7.1**\n",
    "\n",
    "Узнаем среднюю предлагаемую зарплату по региону, где кол-во предложений больше 10."
   ]
  },
  {
   "cell_type": "code",
   "execution_count": 32,
   "id": "4a73d69d",
   "metadata": {},
   "outputs": [
    {
     "data": {
      "text/html": [
       "<div>\n",
       "<style scoped>\n",
       "    .dataframe tbody tr th:only-of-type {\n",
       "        vertical-align: middle;\n",
       "    }\n",
       "\n",
       "    .dataframe tbody tr th {\n",
       "        vertical-align: top;\n",
       "    }\n",
       "\n",
       "    .dataframe thead th {\n",
       "        text-align: right;\n",
       "    }\n",
       "</style>\n",
       "<table border=\"1\" class=\"dataframe\">\n",
       "  <thead>\n",
       "    <tr style=\"text-align: right;\">\n",
       "      <th></th>\n",
       "      <th>Регион</th>\n",
       "      <th>Кол-во вакансий</th>\n",
       "      <th>Salary</th>\n",
       "    </tr>\n",
       "  </thead>\n",
       "  <tbody>\n",
       "    <tr>\n",
       "      <th>0</th>\n",
       "      <td>Турция</td>\n",
       "      <td>39</td>\n",
       "      <td>114699.307692</td>\n",
       "    </tr>\n",
       "    <tr>\n",
       "      <th>1</th>\n",
       "      <td>Армения</td>\n",
       "      <td>223</td>\n",
       "      <td>104369.466368</td>\n",
       "    </tr>\n",
       "    <tr>\n",
       "      <th>2</th>\n",
       "      <td>Сербия</td>\n",
       "      <td>26</td>\n",
       "      <td>96195.153846</td>\n",
       "    </tr>\n",
       "    <tr>\n",
       "      <th>3</th>\n",
       "      <td>США</td>\n",
       "      <td>12</td>\n",
       "      <td>95140.500000</td>\n",
       "    </tr>\n",
       "    <tr>\n",
       "      <th>4</th>\n",
       "      <td>Киев</td>\n",
       "      <td>14</td>\n",
       "      <td>92473.785714</td>\n",
       "    </tr>\n",
       "    <tr>\n",
       "      <th>5</th>\n",
       "      <td>Магадан</td>\n",
       "      <td>25</td>\n",
       "      <td>88944.880000</td>\n",
       "    </tr>\n",
       "    <tr>\n",
       "      <th>6</th>\n",
       "      <td>Баку</td>\n",
       "      <td>91</td>\n",
       "      <td>87286.780220</td>\n",
       "    </tr>\n",
       "    <tr>\n",
       "      <th>7</th>\n",
       "      <td>Лобня</td>\n",
       "      <td>16</td>\n",
       "      <td>83281.250000</td>\n",
       "    </tr>\n",
       "    <tr>\n",
       "      <th>8</th>\n",
       "      <td>Черногория</td>\n",
       "      <td>14</td>\n",
       "      <td>82454.071429</td>\n",
       "    </tr>\n",
       "    <tr>\n",
       "      <th>9</th>\n",
       "      <td>Болгария</td>\n",
       "      <td>12</td>\n",
       "      <td>81087.000000</td>\n",
       "    </tr>\n",
       "  </tbody>\n",
       "</table>\n",
       "</div>"
      ],
      "text/plain": [
       "       Регион  Кол-во вакансий         Salary\n",
       "0      Турция               39  114699.307692\n",
       "1     Армения              223  104369.466368\n",
       "2      Сербия               26   96195.153846\n",
       "3         США               12   95140.500000\n",
       "4        Киев               14   92473.785714\n",
       "5     Магадан               25   88944.880000\n",
       "6        Баку               91   87286.780220\n",
       "7       Лобня               16   83281.250000\n",
       "8  Черногория               14   82454.071429\n",
       "9    Болгария               12   81087.000000"
      ]
     },
     "execution_count": 32,
     "metadata": {},
     "output_type": "execute_result"
    }
   ],
   "source": [
    "query_7_1 = f'''SELECT\n",
    "                    a.name \"Регион\",\n",
    "                    COUNT(v.id) \"Кол-во вакансий\",\n",
    "                    AVG(COALESCE((salary_from+salary_to)/2, salary_from, salary_to, 0)) \"Salary\"                    \n",
    "                FROM public.vacancies v\n",
    "                    left JOIN public.areas a ON v.area_id = a.id                \n",
    "                GROUP BY 1\n",
    "                HAVING COUNT(v.id) > 10\n",
    "                ORDER BY 3 DESC \n",
    "                limit 10\n",
    "              '''\n",
    "df = pd.read_sql_query(query_7_1, connection)\n",
    "df "
   ]
  },
  {
   "cell_type": "markdown",
   "id": "5f7eaa3b",
   "metadata": {},
   "source": [
    "**Вывод:** Видим, что предложение средней зарплаты выше в зарубежных регионах"
   ]
  },
  {
   "cell_type": "code",
   "execution_count": 33,
   "id": "7848794b",
   "metadata": {},
   "outputs": [],
   "source": [
    "# не забываем закрыть соединение после окончания работы\n",
    "connection.close()"
   ]
  }
 ],
 "metadata": {
  "kernelspec": {
   "display_name": "Python 3 (ipykernel)",
   "language": "python",
   "name": "python3"
  },
  "language_info": {
   "codemirror_mode": {
    "name": "ipython",
    "version": 3
   },
   "file_extension": ".py",
   "mimetype": "text/x-python",
   "name": "python",
   "nbconvert_exporter": "python",
   "pygments_lexer": "ipython3",
   "version": "3.9.5"
  }
 },
 "nbformat": 4,
 "nbformat_minor": 5
}
